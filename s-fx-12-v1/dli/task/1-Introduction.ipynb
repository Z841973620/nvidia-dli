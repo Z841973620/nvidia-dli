{
 "cells": [
  {
   "cell_type": "markdown",
   "id": "9743aa32-6f5b-46a4-800a-c292ad2241b3",
   "metadata": {},
   "source": [
    "<center><img src=\"/files/images/DLI_Header.png\" /></center>"
   ]
  },
  {
   "cell_type": "markdown",
   "id": "c170fa5b-93f0-49e2-a330-26fbb676a345",
   "metadata": {
    "tags": []
   },
   "source": [
    "# 使用 LLaMA-2 进行提示工程"
   ]
  },
  {
   "cell_type": "markdown",
   "id": "0eda2376-6e56-4546-826a-617533f589ce",
   "metadata": {},
   "source": [
    "欢迎来到课程*使用 LLaMA-2 进行提示工程*！\n",
    "\n",
    "提示工程可以毫不费力地大幅提高大语言模型（LLM）的能力。借助强大的提示工程工具包，您可以自定义 LLM 行为以执行各种任务，充分利用各种大小的 LLM。\n",
    "\n",
    "在本课程中，您将与 LLaMA-2 模型进行交互，并通过提示工程来分析文档、生成文本、构建 AI 助手。完成本课程后，您将能够：\n",
    "\n",
    "* 以迭代的方式编写精确的提示词，使 LLM 的行为符合您的意图。\n",
    "* 编辑功能强大的系统消息。\n",
    "* 使用单样本到多样本提示为 LLM 提供指导。\n",
    "* 在 LLM 上下文中加入历史记录来创建聊天机器人。"
   ]
  },
  {
   "cell_type": "markdown",
   "id": "7a3e21d5-1ccc-4762-859a-e0f4101426bb",
   "metadata": {},
   "source": [
    "## 预备知识"
   ]
  },
  {
   "cell_type": "markdown",
   "id": "639be597-0e46-4409-a755-3c54d826c583",
   "metadata": {},
   "source": [
    "本课程主要面向的是熟悉与类似 ChatGPT 这类大语言模型交互，但尚未以编程的方式广泛使用 LLM 的 Python 开发者。\n",
    "\n",
    "如果您熟悉大语言模型的基础知识，学习本课程肯定会更轻松一些，但这不是学习本课程的硬性要求。\n",
    "\n",
    "在本课程中，我们的目标是实际应用，也就是实践大于理论。在必要的时候我们会深入探讨概念和理论，但会尽可能简单明了。"
   ]
  },
  {
   "cell_type": "markdown",
   "id": "6674f5c0-94b5-4fae-97a2-3cad3ba896e0",
   "metadata": {},
   "source": [
    "## 课程结构"
   ]
  },
  {
   "cell_type": "markdown",
   "id": "d7512dcd-c7f0-4d2f-b783-bfda2a1a5892",
   "metadata": {},
   "source": [
    "本课程由多个交互式 notebook 组成，这些 notebook 会教授相关技术，然后提供一些练习来帮助您提高技能。\n",
    "1. **简介**：此 notebook。\n",
    "2. **迭代提示开发**：在此 notebook 中，我们会对一组简单的提示进行迭代，来熟悉 transformer 工作流和 LLaMA-2 模型。我们会学到开发**精确**（precise）提示的重要性。\n",
    "3. **Star Bikes 产品评论分析**：在此 notebook 中，您将为一家虚拟自行车公司构建 AI 驱动的文档分析器，并了解如何执行**少样本学习**（few-shot learning）。\n",
    "4. **Star Bikes 营销文案生成器**：在此 notebook 中，您将构建一个 AI 驱动的营销文案生成器，能够执行大量生成任务，并学习如何提供和利用**系统上下文**（system context）。\n",
    "5. **随机人格**：在此 notebook 中，您将学习如何通过**采样**和生成模型的**温度**（temperature）来打造独特的 AI 角色。\n",
    "6. **聊天机器人**：在此 notebook 中，您将开始创建能够保留对话历史记录的聊天机器人。\n",
    "7. **Star Bikes AI 助手**：在此 notebook 中，您将创建一个 AI 助手，帮客户做出购买 Star Bikes 新自行车的最佳决策，并学习如何应对模型的 **token 限制**。\n",
    "8. **总结**：在此 notebook 中，您将回顾您在课程中学到的所有内容，并获得关于后续学习的指导。"
   ]
  }
 ],
 "metadata": {
  "kernelspec": {
   "display_name": "Python 3 (ipykernel)",
   "language": "python",
   "name": "python3"
  },
  "language_info": {
   "codemirror_mode": {
    "name": "ipython",
    "version": 3
   },
   "file_extension": ".py",
   "mimetype": "text/x-python",
   "name": "python",
   "nbconvert_exporter": "python",
   "pygments_lexer": "ipython3",
   "version": "3.10.13"
  }
 },
 "nbformat": 4,
 "nbformat_minor": 5
}
