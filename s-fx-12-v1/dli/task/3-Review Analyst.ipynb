{
 "cells": [
  {
   "cell_type": "markdown",
   "id": "7e38d712-fae7-44cc-92c9-f366c3f1c2d4",
   "metadata": {},
   "source": [
    "<center><img src=\"/files/images/DLI_Header.png\" /></center>"
   ]
  },
  {
   "cell_type": "markdown",
   "id": "81fcd005-0a74-4a60-8843-427c21374d4d",
   "metadata": {
    "tags": []
   },
   "source": [
    "# Star Bikes 产品评论分析"
   ]
  },
  {
   "cell_type": "markdown",
   "id": "04683de3-1f6f-4797-94e7-b83cba2768c1",
   "metadata": {},
   "source": [
    "在此 notebook 中，您将构建一个 AI 驱动的文档分析器来执行**情感分析**，并为下游任务生成数据。您将学习如何通过为语言模型提供具有指导性的示例来进行少样本学习。"
   ]
  },
  {
   "cell_type": "markdown",
   "id": "f15a78b9-482c-4908-a8e8-0d47b65c7a14",
   "metadata": {},
   "source": [
    "## 学习目标"
   ]
  },
  {
   "cell_type": "markdown",
   "id": "388db68b-72f2-411c-b2d1-8d14b4595862",
   "metadata": {},
   "source": [
    "完成此 notebook 后，您将能够：\n",
    "* 使用 LLaMA-2 对非结构化文本执行**情感分析**。\n",
    "* 解释什么是 LLaMA-2 **提示模板**，以及如何在**指令微调**期间使用它。\n",
    "* 使用**少样本学习**（few-shot learning）指导和提高模型性能。\n",
    "* 使用 LLaMA-2 生成用于下游任务的 JSON 数据。"
   ]
  },
  {
   "cell_type": "markdown",
   "id": "ed10afb1-0d76-48d6-b71c-06bf3f09dd9b",
   "metadata": {},
   "source": [
    "## 视频教程"
   ]
  },
  {
   "cell_type": "markdown",
   "id": "e482cfad-1361-4cfd-9c8a-e44e4c730fda",
   "metadata": {},
   "source": [
    "执行以下单元以加载此 notebook 的视频教程。"
   ]
  },
  {
   "cell_type": "code",
   "execution_count": null,
   "id": "34431682-a99d-4b0d-a8fa-f9a3b86716f4",
   "metadata": {
    "tags": []
   },
   "outputs": [],
   "source": [
    " from IPython.display import HTML\n",
    "\n",
    "video_url = \"https://d36m44n9vdbmda.cloudfront.net/assets/s-fx-12-v1/v2/03-analyst.mp4\"\n",
    "\n",
    "video_html = f\"\"\"\n",
    "<video controls width=\"640\" height=\"360\">\n",
    "    <source src=\"{video_url}\" type=\"video/mp4\">\n",
    "    Your browser does not support the video tag.\n",
    "</video>\n",
    "\"\"\"\n",
    "\n",
    "display(HTML(video_html))"
   ]
  },
  {
   "cell_type": "markdown",
   "id": "0b5785bb-fd00-4f29-bd6e-48fd893b1888",
   "metadata": {},
   "source": [
    "## 创建 LLaMA-2 工作流"
   ]
  },
  {
   "cell_type": "code",
   "execution_count": null,
   "id": "4939afbd-23ca-4db8-b12b-209c224ee4ab",
   "metadata": {
    "tags": []
   },
   "outputs": [],
   "source": [
    "from transformers import pipeline\n",
    "model = \"TheBloke/Llama-2-13B-chat-GPTQ\"\n",
    "# model = \"TheBloke/Llama-2-7B-chat-GPTQ\"\n",
    "\n",
    "llama_pipe = pipeline(\"text-generation\", model=model, device_map=\"auto\");"
   ]
  },
  {
   "cell_type": "markdown",
   "id": "d27570d1-9c9b-445f-a5dc-bff5be51731e",
   "metadata": {},
   "source": [
    "## 辅助函数"
   ]
  },
  {
   "cell_type": "markdown",
   "id": "a92ece14-a296-4c51-b664-9e682a5d84fc",
   "metadata": {},
   "source": [
    "在此 notebook 中，我们将使用以下功能来支持与 LLM 的交互。现在大概浏览一下就可以，因为之后使用这些功能时，我们会详细介绍。"
   ]
  },
  {
   "cell_type": "markdown",
   "id": "89ed9f47-4a60-4b0a-8a57-172158e05608",
   "metadata": {},
   "source": [
    "### 生成模型响应"
   ]
  },
  {
   "cell_type": "code",
   "execution_count": null,
   "id": "fda46556-8b36-407d-94d0-1483cb065e9c",
   "metadata": {
    "tags": []
   },
   "outputs": [],
   "source": [
    "def generate(prompt, max_length=1024, pipe=llama_pipe, **kwargs):\n",
    "    \"\"\"\n",
    "    Generates a response to the given prompt using a specified language model pipeline.\n",
    "\n",
    "    This function takes a prompt and passes it to a language model pipeline, such as LLaMA, \n",
    "    to generate a text response. The function is designed to allow customization of the \n",
    "    generation process through various parameters and keyword arguments.\n",
    "\n",
    "    Parameters:\n",
    "    - prompt (str): The input text prompt to generate a response for.\n",
    "    - max_length (int): The maximum length of the generated response. Default is 1024 tokens.\n",
    "    - pipe (callable): The language model pipeline function used for generation. Default is llama_pipe.\n",
    "    - **kwargs: Additional keyword arguments that are passed to the pipeline function.\n",
    "\n",
    "    Returns:\n",
    "    - str: The generated text response from the model, trimmed of leading and trailing whitespace.\n",
    "\n",
    "    Example usage:\n",
    "    ```\n",
    "    prompt_text = \"Explain the theory of relativity.\"\n",
    "    response = generate(prompt_text, max_length=512, pipe=my_custom_pipeline, temperature=0.7)\n",
    "    print(response)\n",
    "    ```\n",
    "    \"\"\"\n",
    "\n",
    "    def_kwargs = dict(return_full_text=False, return_dict=False)\n",
    "    response = pipe(prompt.strip(), max_length=max_length, **kwargs, **def_kwargs)\n",
    "    return response[0]['generated_text'].strip()"
   ]
  },
  {
   "cell_type": "markdown",
   "id": "302792f2-2cf2-4924-94d4-05cd5da61238",
   "metadata": {},
   "source": [
    "### 使用示例创建提示词（少样本学习）"
   ]
  },
  {
   "cell_type": "code",
   "execution_count": null,
   "id": "e002b417-f5b6-4813-85be-97c11fe366e2",
   "metadata": {
    "tags": []
   },
   "outputs": [],
   "source": [
    "def prompt_with_examples(prompt, examples=[]):\n",
    "    \"\"\"\n",
    "    Constructs a structured prompt string for language models with instructional examples.\n",
    "\n",
    "    This function takes an initial prompt and a list of example prompt-response pairs, then \n",
    "    formats them into a single string enclosed by special start and end tokens used for \n",
    "    instructing the model. Each example is included in the final prompt, which could be \n",
    "    beneficial for models that take into account the context provided by examples.\n",
    "\n",
    "    Parameters:\n",
    "    - prompt (str): The main prompt to be processed by the language model.\n",
    "    - examples (list of tuples): A list where each tuple contains a pair of strings \n",
    "      (example_prompt, example_response). Default is an empty list.\n",
    "\n",
    "    Returns:\n",
    "    - str: A string with the structured prompt and examples formatted for a language model.\n",
    "    \n",
    "    Example usage:\n",
    "    ```\n",
    "    main_prompt = \"Translate the following sentence into French:\"\n",
    "    example_pairs = [(\"Hello, how are you?\", \"Bonjour, comment ça va?\"),\n",
    "                     (\"Thank you very much!\", \"Merci beaucoup!\")]\n",
    "    formatted_prompt = prompt_with_examples(main_prompt, example_pairs)\n",
    "    print(formatted_prompt)\n",
    "    ```\n",
    "    \"\"\"\n",
    "    \n",
    "    # Start with the initial part of the prompt\n",
    "    full_prompt = \"<s>[INST]\\n\"\n",
    "\n",
    "    # Add each example to the prompt\n",
    "    for example_prompt, example_response in examples:\n",
    "        full_prompt += f\"{example_prompt} [/INST] {example_response} </s><s>[INST]\"\n",
    "\n",
    "    # Add the main prompt and close the template\n",
    "    full_prompt += f\"{prompt} [/INST]\"\n",
    "\n",
    "    return full_prompt"
   ]
  },
  {
   "cell_type": "markdown",
   "id": "853c8e9d-f25f-4dcf-8fa9-7afa611a9aef",
   "metadata": {
    "tags": []
   },
   "source": [
    "## 数据 – Starlight Cruiser 评价"
   ]
  },
  {
   "cell_type": "markdown",
   "id": "82e8362b-9aff-4904-8ff6-c7db191b0c1c",
   "metadata": {},
   "source": [
    "以下是 Starlight Cruiser 自行车（我们虚构的自行车公司 Star Bikes 的一款产品） 的客户评价。我们将向 LLM 提供这些评价，以执行**情感分析**和其它分析任务。"
   ]
  },
  {
   "cell_type": "markdown",
   "id": "8a78c172-41c1-4468-9719-e953d4f55c8b",
   "metadata": {},
   "source": [
    "**中性评论**"
   ]
  },
  {
   "cell_type": "code",
   "execution_count": null,
   "id": "87bda9b4-1eff-47fd-96a2-9afbf2eab339",
   "metadata": {
    "tags": []
   },
   "outputs": [],
   "source": [
    "review = \"\"\"\n",
    "I recently purchased the Starlight Cruiser from Star Bikes, and I've been thoroughly impressed. \\\n",
    "The ride is smooth and it handles urban terrains with ease. \\\n",
    "However, I did find the seat a bit uncomfortable for longer rides. \\\n",
    "Also, the color options could be better. Despite these minor drawbacks, \\\n",
    "the build quality and the performance of the bike are commendable. It's a good value for the money.\n",
    "\"\"\""
   ]
  },
  {
   "cell_type": "markdown",
   "id": "c7506315-1a7a-4bba-8853-fac6ca63b32a",
   "metadata": {},
   "source": [
    "**负面评论**"
   ]
  },
  {
   "cell_type": "code",
   "execution_count": null,
   "id": "c0dba279-2d55-448b-ba0f-4c9714ddb2dd",
   "metadata": {
    "tags": []
   },
   "outputs": [],
   "source": [
    "review_negative = \"\"\"\n",
    "Got the Starlight Cruiser last week, and I'm a bit disappointed. \\\n",
    "The brakes are not as responsive as I'd like and the gears often get stuck. \\\n",
    "The design is good but performance-wise, it leaves much to be desired.\n",
    "\"\"\""
   ]
  },
  {
   "cell_type": "markdown",
   "id": "a0454aeb-e64a-45d7-87fd-1a5c31e87153",
   "metadata": {},
   "source": [
    "**正面评价**"
   ]
  },
  {
   "cell_type": "code",
   "execution_count": null,
   "id": "5d3dd4da-a422-4834-b182-11dae014aaa2",
   "metadata": {
    "tags": []
   },
   "outputs": [],
   "source": [
    "review_positive = \"\"\"\n",
    "I recently purchased the Starlight Cruiser from Star Bikes, and I've been thoroughly impressed. \\\n",
    "The ride is smooth and it handles urban terrains with ease. \\\n",
    "The seat was very comfortable for longer rides and the color options were great. \\\n",
    "The build quality and the performance of the bike are commendable. It's a good value for the money.\n",
    "\"\"\""
   ]
  },
  {
   "cell_type": "markdown",
   "id": "e16d2548-a72f-4b43-9c00-2525004c91f9",
   "metadata": {},
   "source": [
    "## 情感分析"
   ]
  },
  {
   "cell_type": "markdown",
   "id": "90f05f3a-40b6-4c62-b11c-9aa7de83e116",
   "metadata": {},
   "source": [
    "我们先让模型执行**情感分析**，告诉我们其中一个评论的整体情感。最终，我们希望模型只回复我们一个词，`positive`，`negative` 或 `neutral`。\n",
    "\n",
    "先提醒一下，下面的单元会给出非常奇怪的输出。"
   ]
  },
  {
   "cell_type": "code",
   "execution_count": null,
   "id": "b502daf6-bcbd-4bde-bec1-ba95a8eeebc0",
   "metadata": {
    "tags": []
   },
   "outputs": [],
   "source": [
    "prompt = f\"\"\"\n",
    "What is the overall sentiment of {review}\n",
    "\"\"\"\n",
    "\n",
    "print(generate(prompt))"
   ]
  },
  {
   "cell_type": "markdown",
   "id": "c75167ad-a9db-48c2-b9ab-3ad608e81da9",
   "metadata": {},
   "source": [
    "---"
   ]
  },
  {
   "cell_type": "markdown",
   "id": "fcdd4f30-9e35-4c1c-8399-14d0f700135a",
   "metadata": {},
   "source": [
    "我们并不完全清楚为什么模型用上面的提示词给出了完全无用的回复，但这样我们至少明白了迭代提示词的重要性，并再次强调了**精确**（precision）的概念。我们先做一个很小的改动，在提示词最后加一个 `?`，这应该能让模型明白我们是在问一个问题，想得到答案。"
   ]
  },
  {
   "cell_type": "code",
   "execution_count": null,
   "id": "033d8d0e-91d3-4602-a6d8-0c35e8c96060",
   "metadata": {
    "tags": []
   },
   "outputs": [],
   "source": [
    "prompt = f\"\"\"\n",
    "What is the overall sentiment of {review}?\n",
    "\"\"\"\n",
    "\n",
    "print(generate(prompt))"
   ]
  },
  {
   "cell_type": "markdown",
   "id": "d3dc56ef-0b57-4c56-bbbd-406b75e530b7",
   "metadata": {},
   "source": [
    "---"
   ]
  },
  {
   "cell_type": "markdown",
   "id": "f370c6c9-dac5-4699-97f0-8a50f41ca318",
   "metadata": {},
   "source": [
    "我们的 `?` 起了巨大的作用！这个例子就提醒了我们，对提示词一个细微的调整，有时都会导致模型响应发生巨大变化。\n",
    "\n",
    "鉴于我们的目标是从模型中获取单个词的响应，让我们迭代提示词，以便更**具体**（specific）的说明我们想要的响应。"
   ]
  },
  {
   "cell_type": "code",
   "execution_count": null,
   "id": "c5d8becd-feac-4749-b5d5-7e988569e41d",
   "metadata": {
    "tags": []
   },
   "outputs": [],
   "source": [
    "prompt = f\"\"\"\n",
    "What is the overall sentiment of this review {review}?\n",
    "\n",
    "Choose one of \"positive\", \"negative\", or \"neutral\".\n",
    "\"\"\"\n",
    "\n",
    "print(generate(prompt))"
   ]
  },
  {
   "cell_type": "markdown",
   "id": "5ba52b8a-9af2-4dd9-9a9d-cf8ecca5c3d3",
   "metadata": {},
   "source": [
    "---"
   ]
  },
  {
   "cell_type": "markdown",
   "id": "67774d5b-785f-44b5-a2a3-71a1c4e4e737",
   "metadata": {},
   "source": [
    "该模型依然比我们期望的更热心，提供了远多于一个词的回复。让我们再次为提示词提供一些**提示**线索来迭代。"
   ]
  },
  {
   "cell_type": "code",
   "execution_count": null,
   "id": "6058b768-bda7-470e-b287-d0f611a9297e",
   "metadata": {
    "tags": []
   },
   "outputs": [],
   "source": [
    "prompt = f\"\"\"\n",
    "What is the overall sentiment of this review {review}?\n",
    "\n",
    "Choose one of \"positive\", \"negative\", or \"neutral\".\n",
    "Overall Sentiment: \n",
    "\"\"\"\n",
    "\n",
    "print(generate(prompt))"
   ]
  },
  {
   "cell_type": "markdown",
   "id": "88a93eff-cd4e-4e55-b7ae-567d3a602a7d",
   "metadata": {},
   "source": [
    "---"
   ]
  },
  {
   "cell_type": "markdown",
   "id": "67981387-132c-4cd7-9faf-6f1b89ce7d60",
   "metadata": {},
   "source": [
    "现在效果好多了。但是，我觉得这条评论应该是 \"neutral\" 而不是 \"positive\"。您可以再参考一下评论内容："
   ]
  },
  {
   "cell_type": "code",
   "execution_count": null,
   "id": "b6dd3f6a-98a2-4b9b-9cb6-00dfeea37187",
   "metadata": {
    "tags": []
   },
   "outputs": [],
   "source": [
    "review = \"\"\"\n",
    "I recently purchased the Starlight Cruiser from Star Bikes, and I've been thoroughly impressed. \\\n",
    "The ride is smooth and it handles urban terrains with ease. \\\n",
    "However, I did find the seat a bit uncomfortable for longer rides. \\\n",
    "Also, the color options could be better. Despite these minor drawbacks, \\\n",
    "the build quality and the performance of the bike are commendable. It's a good value for the money.\n",
    "\"\"\""
   ]
  },
  {
   "cell_type": "markdown",
   "id": "f0e98a13-70be-41fe-a63b-3cd53727527e",
   "metadata": {},
   "source": [
    "为了再次强调细微的更改会严重影响模型行为，我们稍微修改一下提示词中的选项顺序。"
   ]
  },
  {
   "cell_type": "code",
   "execution_count": null,
   "id": "16e58aa2-408c-49cb-b9ac-e53ef7e7f1b3",
   "metadata": {
    "tags": []
   },
   "outputs": [],
   "source": [
    "# NOTE: 'Choose one of \"neutral\", \"negative\", or \"positive\".' is in a different order than the prompt immediately above\n",
    "prompt = f\"\"\"\n",
    "What is the overall sentiment of this review {review}?\n",
    "\n",
    "Choose one of \"neutral\", \"negative\", or \"positive\".\n",
    "Overall Sentiment: \n",
    "\"\"\"\n",
    "\n",
    "print(generate(prompt))"
   ]
  },
  {
   "cell_type": "markdown",
   "id": "3c899ece-4f7a-44ba-a4d6-b6976327fb58",
   "metadata": {},
   "source": [
    "---"
   ]
  },
  {
   "cell_type": "markdown",
   "id": "77b478d2-c73d-4595-a082-fed49e50b863",
   "metadata": {},
   "source": [
    "我们最后再换一次顺序看看。"
   ]
  },
  {
   "cell_type": "code",
   "execution_count": null,
   "id": "9e551d12-88fb-4188-9c7f-140fea141b31",
   "metadata": {
    "tags": []
   },
   "outputs": [],
   "source": [
    "prompt = f\"\"\"\n",
    "What is the overall sentiment of this review {review}?\n",
    "\n",
    "Choose one of \"negative\", \"neutral\", or \"positive\".\n",
    "Overall Sentiment: \n",
    "\"\"\"\n",
    "\n",
    "print(generate(prompt))"
   ]
  },
  {
   "cell_type": "markdown",
   "id": "b6f6d7b4-ca76-4588-86b4-1f9f87f38c85",
   "metadata": {},
   "source": [
    "---"
   ]
  },
  {
   "cell_type": "markdown",
   "id": "a75dda3e-479a-4120-8df2-16de33fb4907",
   "metadata": {},
   "source": [
    "现在我们还没有信心用这个提示词得到模型有意义的回复。为了获得更可靠、可信的响应，我们将注意力转向一项重要的技巧，即**少样本学习**，这将允许我们用几个示例指导模型的行为。"
   ]
  },
  {
   "cell_type": "markdown",
   "id": "2c1989ec-f6ba-463a-acfe-0047a1eb628e",
   "metadata": {},
   "source": [
    "## 提供示例：少样本学习"
   ]
  },
  {
   "cell_type": "markdown",
   "id": "cc4167b3-3cf0-42c7-aab8-7a9872a7dd71",
   "metadata": {},
   "source": [
    "根据所提供示例的数量，以下技巧被称为**单样本学习**、**双样本学习**、**三样本学习**（等等）、**多样本学习**和**一到多样本学习**。在每种情况下，**样本**都是提供给模型的提示/响应示例，来指导其行为。\n",
    "\n",
    "这些样本通常放在我们真正要问模型的问题之前。根据所使用的模型，有一些特定的格式化样本的方法，来帮助模型理解我们所提供的是提示词/响应示例。"
   ]
  },
  {
   "cell_type": "markdown",
   "id": "65088138-500f-4af3-b27e-d8fded21e835",
   "metadata": {},
   "source": [
    "## 指令微调（聊天）模型"
   ]
  },
  {
   "cell_type": "markdown",
   "id": "ff42afbd-36d8-4d91-b09d-8de021e7c081",
   "metadata": {},
   "source": [
    "如果您看过 HuggingFace 这类模型库，可能会注意到[一些模型后面带有 `-chat` 标志](https://huggingface.co/models?sort=trending&search=meta-llama%2FLlama-2-13b)。这些模型（比如 `Llama-2-13b-chat`）是在基础预训练模型（比如 `Llama-2-13b`）基础上进行额外训练的，通常是为了更好地遵循指令以支持聊天类应用。也就是说，它们已经过了**指令微调**。\n",
    "\n",
    "虽然预训练 LLM 基础模型通常很擅长根据给定输入下一步的概率来生成文本，但仅仅提供下一个最有可能的文本跟回答问题或遵循指令还是不太一样。\n",
    "\n",
    "在**指令微调**期间，模型基于用户和模型之间的大量示例交互进行训练，这样模型就能学到如何在聊天对话的上下文中正确遵循指令或做出适当响应。"
   ]
  },
  {
   "cell_type": "markdown",
   "id": "1e4b374f-9cf6-445f-99eb-ec0438285c3a",
   "metadata": {},
   "source": [
    "## LLaMA-2 提示模板"
   ]
  },
  {
   "cell_type": "markdown",
   "id": "1104a133-81d7-47c3-94fd-ce7a700bec7c",
   "metadata": {},
   "source": [
    "不同指令微调模型（即聊天变体）的示例交互将采用不同的格式。训练过程中使用的模板被称为**提示模板**。通常您可以在给定模型的文档中找到其提示模板。\n",
    "\n",
    "下面是 LLaMA-2 的提示模板。实际上这是一个稍微简化了的版本，我们稍后会讨论到它缺少了的部分。"
   ]
  },
  {
   "cell_type": "markdown",
   "id": "284a62b0-0a63-4d49-8962-5b482f9443ad",
   "metadata": {
    "tags": []
   },
   "source": [
    "```python\n",
    "<s>[INST] {{ user_msg_1 }} [/INST] {{ model_answer_1 }} </s>\n",
    "```"
   ]
  },
  {
   "cell_type": "markdown",
   "id": "1c865dd1-b305-422c-9e3a-5a8431f423bf",
   "metadata": {},
   "source": [
    "我们来剖析一下这个**提示模板**。\n",
    "* 单轮用户/模型交互在 `<s>` 和 `</s>` 标签之间。\n",
    "* 用户/模型交互的用户部分在 `[INST]` 和 `[/INST]` 标签之间。\n",
    "* 用户/模型交互的模型部分在 `[/INST]` 标签之后，并以交互结束的标签 `</s>` 结尾。"
   ]
  },
  {
   "cell_type": "markdown",
   "id": "bb282cab-88e2-452b-8510-dd85a96627e0",
   "metadata": {},
   "source": [
    "在**指令微调**期间，模型接受了很多按照**提示模板**格式构造的用户/模型交互示例。考虑到这一点，我们可以利用其训练过程，使用相同的**提示模板**提供我们的指令示例。"
   ]
  },
  {
   "cell_type": "markdown",
   "id": "661caa7d-219c-4af8-b278-f398bfc54c1e",
   "metadata": {},
   "source": [
    "## 提供指令示例"
   ]
  },
  {
   "cell_type": "markdown",
   "id": "b48e6a8a-b711-4816-8bbf-5d577a72bc1c",
   "metadata": {},
   "source": [
    "下面的 `prompt_with_examples` 函数将帮助我们使用 LLaMA-2 提示模板构建包含指令示例的提示词。"
   ]
  },
  {
   "cell_type": "code",
   "execution_count": null,
   "id": "7b68c3cc-c90c-41e7-8824-a0339c95f418",
   "metadata": {
    "tags": []
   },
   "outputs": [],
   "source": [
    "def prompt_with_examples(prompt, examples=[]):\n",
    "    \"\"\"\n",
    "    Constructs a structured prompt string for language models with instructional examples.\n",
    "\n",
    "    This function takes an initial prompt and a list of example prompt-response pairs, then \n",
    "    formats them into a single string enclosed by special start and end tokens used for \n",
    "    instructing the model. Each example is included in the final prompt, which could be \n",
    "    beneficial for models that take into account the context provided by examples.\n",
    "\n",
    "    Parameters:\n",
    "    - prompt (str): The main prompt to be processed by the language model.\n",
    "    - examples (list of tuples): A list where each tuple contains a pair of strings \n",
    "      (example_prompt, example_response). Default is an empty list.\n",
    "\n",
    "    Returns:\n",
    "    - str: A string with the structured prompt and examples formatted for a language model.\n",
    "    \n",
    "    Example usage:\n",
    "    ```\n",
    "    main_prompt = \"Translate the following sentence into French:\"\n",
    "    example_pairs = [(\"Hello, how are you?\", \"Bonjour, comment ça va?\"),\n",
    "                     (\"Thank you very much!\", \"Merci beaucoup!\")]\n",
    "    formatted_prompt = prompt_with_examples(main_prompt, example_pairs)\n",
    "    print(formatted_prompt)\n",
    "    ```\n",
    "    \"\"\"\n",
    "    \n",
    "    # Start with the initial part of the prompt\n",
    "    full_prompt = \"<s>[INST]\\n\"\n",
    "\n",
    "    # Add each example to the prompt\n",
    "    for example_prompt, example_response in examples:\n",
    "        full_prompt += f\"{example_prompt} [/INST] {example_response} </s><s>[INST]\"\n",
    "\n",
    "    # Add the main prompt and close the template\n",
    "    full_prompt += f\"{prompt} [/INST]\"\n",
    "\n",
    "    return full_prompt"
   ]
  },
  {
   "cell_type": "markdown",
   "id": "92dbfb02-5e03-45b7-9f6b-ce2a31de6c39",
   "metadata": {},
   "source": [
    "## 单样本学习示例"
   ]
  },
  {
   "cell_type": "markdown",
   "id": "c7d3aba2-72b9-44ca-b329-a0d77dd97d5e",
   "metadata": {},
   "source": [
    "让我们暂时把情感分析任务放一放，先用简单的文本生成提示词来探索如何用 `prompt_with_examples` 函数来提供一个指令示例，或者换句话说，进行**单样本学习**（one-shot learning）。"
   ]
  },
  {
   "cell_type": "code",
   "execution_count": null,
   "id": "633d2775-f0a3-406e-bfd3-2f853e47e513",
   "metadata": {
    "tags": []
   },
   "outputs": [],
   "source": [
    "example_prompt = \"Give me an all uppercase color that starts with the letter 'O'.\"\n",
    "example_response = \"ORANGE\"\n",
    "\n",
    "# The function expects prompt/response pairs to be 2-tuples\n",
    "example_1 = (example_prompt, example_response)\n",
    "\n",
    "# The function expects all prompt/response 2-tuples to be in a list\n",
    "examples = [example_1]\n",
    "\n",
    "# This is the \"main\" prompt we actually want the model to respond to\n",
    "prompt = \"Give me an all uppercase color that starts with the letter 'P'.\"\n",
    "\n",
    "# Use `prompt_with_examples` to create a one-shot learning prompt, with a single example prepended to our main prompt\n",
    "prompt_with_one_example = prompt_with_examples(prompt, examples)"
   ]
  },
  {
   "cell_type": "code",
   "execution_count": null,
   "id": "aee3644c-d99b-4d7c-8604-590cf258a78a",
   "metadata": {
    "tags": []
   },
   "outputs": [],
   "source": [
    "print(prompt_with_one_example)"
   ]
  },
  {
   "cell_type": "markdown",
   "id": "fb1c4033-c4dd-4dc4-a159-b43e2ca36690",
   "metadata": {},
   "source": [
    "---"
   ]
  },
  {
   "cell_type": "markdown",
   "id": "05349fdc-ce30-4174-8c3e-491c2c4773d2",
   "metadata": {},
   "source": [
    "`prompt_with_one_example` 包含单轮用户/模型交互（`<s>...</s>`），在主提示词之前使用 LLaMA-2 **提示模板**。请注意，主提示词仅包含交互的用户部分（`[INST]` 和 `[/INST]` 标签之间），剩下的部分留给模型去完成（模型的响应和 `</s>` 标签）。\n",
    "\n",
    "在使用 `prompt_with_one_example` 之前，我们先来看看仅输入主提示词而不加上指令示例的话模型会怎么响应。"
   ]
  },
  {
   "cell_type": "code",
   "execution_count": null,
   "id": "b2f3b822-5e26-4a8b-b539-b4db786ac20e",
   "metadata": {
    "tags": []
   },
   "outputs": [],
   "source": [
    "print(generate(prompt))"
   ]
  },
  {
   "cell_type": "markdown",
   "id": "bf2db258-76dc-45cd-ba44-4104e5c3229a",
   "metadata": {},
   "source": [
    "---"
   ]
  },
  {
   "cell_type": "markdown",
   "id": "78ebbb77-3f76-4214-b589-67f19e39ea99",
   "metadata": {},
   "source": [
    "可以看到，在我们期待的 `PURPLE` 之前还有一些额外的聊天似的响应。\n",
    "\n",
    "接下来试试 `prompt_with_one_example`，其中包含一个示例，为说明模型应该仅回答我们感兴趣的颜色词汇。"
   ]
  },
  {
   "cell_type": "code",
   "execution_count": null,
   "id": "7dd004cd-7bd2-4fa9-8b74-8a4ee569eb6a",
   "metadata": {
    "tags": []
   },
   "outputs": [],
   "source": [
    "print(generate(prompt_with_one_example))"
   ]
  },
  {
   "cell_type": "markdown",
   "id": "b78cfb00-37d0-43ec-8781-af39f626eb37",
   "metadata": {},
   "source": [
    "## 带示例的情感分析"
   ]
  },
  {
   "cell_type": "markdown",
   "id": "fcfa5cfe-db99-407b-a87c-2d0b49860f86",
   "metadata": {},
   "source": [
    "回到情感分析任务来，之前我们对模型是否会正确标出中性评论缺乏信心，下面让我们应用刚刚学习的**单样本学习**，为模型提供一个人类认为是中性评论的指令示例。\n",
    "\n",
    "这是一个应该被归为中性评论的示例，其中显然不包含对自行车的正面或负面情感。"
   ]
  },
  {
   "cell_type": "code",
   "execution_count": null,
   "id": "82827c7d-43de-4a3e-89c2-78fdf0c331f9",
   "metadata": {
    "tags": []
   },
   "outputs": [],
   "source": [
    "example_neutral_review = \"\"\"\n",
    "I've had the chance to put several miles on my new Starlight Cruiser from Star Bikes. \n",
    "First off, the bike's design is sleek, and it provides an exceptionally stable ride, \n",
    "even when navigating the bustle of city streets. The gear shifting is fluid, \n",
    "and the bike feels robust, promising longevity. On the downside, the braking system, \n",
    "while reliable, lacks the responsiveness I've experienced with other bikes. \n",
    "I also noticed that the handlebar grips can become rather uncomfortable on prolonged journeys. \n",
    "Nevertheless, these issues aside, the bike offers impressive performance for its price range, \n",
    "making it a solid, middle-of-the-road choice for both commuting and leisure rides.\n",
    "\"\"\""
   ]
  },
  {
   "cell_type": "markdown",
   "id": "bf740a62-21b6-495d-abf8-85fa4698f1e1",
   "metadata": {},
   "source": [
    "我们将用这个示例评论来构建可以传给 `prompt_with_examples` 函数的 `examples` 列表。"
   ]
  },
  {
   "cell_type": "code",
   "execution_count": null,
   "id": "54ef51c0-3f0a-43a5-8ac4-6ee8773a11dd",
   "metadata": {
    "tags": []
   },
   "outputs": [],
   "source": [
    "example_prompt_neutral = f\"\"\"\n",
    "What is the overall sentiment of this review {example_neutral_review}?\n",
    "\n",
    "Choose one of \"negative\", \"neutral\", or \"positive\".\n",
    "Overall Sentiment: \n",
    "\"\"\"\n",
    "example_response_neutral = \"neutral\"\n",
    "\n",
    "example_neutral = (example_prompt_neutral, example_response_neutral)\n",
    "examples = [example_neutral]"
   ]
  },
  {
   "cell_type": "markdown",
   "id": "f18bef23-5d4d-4cd8-acb1-99178ffbf29d",
   "metadata": {},
   "source": [
    "现在来构建主提示词，再次使用上面的评论，我们希望将其归为中性。"
   ]
  },
  {
   "cell_type": "code",
   "execution_count": null,
   "id": "5fd7bd41-1da5-4485-9041-63bc260f46ab",
   "metadata": {
    "tags": []
   },
   "outputs": [],
   "source": [
    "prompt = f\"\"\"\n",
    "What is the overall sentiment of this review {review}?\n",
    "\n",
    "Choose one of \"negative\", \"neutral\", or \"positive\".\n",
    "Overall Sentiment: \n",
    "\"\"\"\n",
    "\n",
    "prompt_with_one_example = prompt_with_examples(prompt, examples)"
   ]
  },
  {
   "cell_type": "code",
   "execution_count": null,
   "id": "5e11ac4b-6bff-42bf-b157-aca8d4965c24",
   "metadata": {
    "tags": []
   },
   "outputs": [],
   "source": [
    "print(generate(prompt_with_one_example))"
   ]
  },
  {
   "cell_type": "markdown",
   "id": "04cff4a0-5b07-4925-a5b3-81eec9bd67ee",
   "metadata": {},
   "source": [
    "---"
   ]
  },
  {
   "cell_type": "markdown",
   "id": "7d93ce3d-3921-4d6c-acf0-c1946fe2bd30",
   "metadata": {},
   "source": [
    "遗憾的是，模型仍将该评价标记为 `\"Positive\"` 。"
   ]
  },
  {
   "cell_type": "markdown",
   "id": "7a4c1e60-fe03-41ae-90f0-1ffc3e236956",
   "metadata": {},
   "source": [
    "## 双样本学习"
   ]
  },
  {
   "cell_type": "markdown",
   "id": "9bf121c2-9846-4324-91a0-410cbb55dbfa",
   "metadata": {},
   "source": [
    "通常，当**单样本学习**不足以获得我们想要的行为时，可以添加更多示例来进一步约束模型的行为。\n",
    "\n",
    "在我们的例子中，除了为模型提供中性示例外，再提供一个正面的评论示例，看看它是否能更清楚的理解两者的区别。"
   ]
  },
  {
   "cell_type": "code",
   "execution_count": null,
   "id": "41171f60-f586-4782-ac90-5c13a123a697",
   "metadata": {
    "tags": []
   },
   "outputs": [],
   "source": [
    "example_review_positive = \"\"\"\n",
    "I've been absolutely delighted with my Starlight Cruiser purchase from Star Bikes. \n",
    "The bike exudes a charm with its sleek design that turns heads as I glide through city lanes. \n",
    "It's not just about looks though; the bike performs wonderfully. The gears shift like a dream, \n",
    "making for a ride that's as smooth as silk across various urban terrains. I was initially skeptical \n",
    "about the comfort of the seat, but it proved to be pleasantly supportive, even on my longer weekend adventures. \n",
    "While the color choices were limited, I found one that suited my style perfectly. \n",
    "Any minor imperfections pale in comparison to the bike's overall quality and the sheer joy it brings to my daily commutes. \n",
    "For the price, the Starlight Cruiser is an undeniable gem that I would happily recommend.\n",
    "\"\"\""
   ]
  },
  {
   "cell_type": "code",
   "execution_count": null,
   "id": "d759acb3-a10a-4808-86fe-a1a24f464260",
   "metadata": {
    "tags": []
   },
   "outputs": [],
   "source": [
    "example_prompt_positive = f\"\"\"\n",
    "What is the overall sentiment of this review {example_review_positive}?\n",
    "\n",
    "Choose one of \"negative\", \"neutral\", or \"positive\".\n",
    "Overall Sentiment: \n",
    "\"\"\"\n",
    "example_response_positive = \"positive\""
   ]
  },
  {
   "cell_type": "code",
   "execution_count": null,
   "id": "1df1fa0e-d666-4f26-a5da-da3b7d5fd2ee",
   "metadata": {
    "tags": []
   },
   "outputs": [],
   "source": [
    "main_prompt = f\"\"\"\n",
    "What is the overall sentiment of this review {review}?\n",
    "\n",
    "Choose one of \"negative\", \"neutral\", or \"positive\".\n",
    "Overall Sentiment: \n",
    "\"\"\""
   ]
  },
  {
   "cell_type": "markdown",
   "id": "71865d91-1ac5-457c-a594-096690a07a3d",
   "metadata": {},
   "source": [
    "### 练习：执行双样本学习"
   ]
  },
  {
   "cell_type": "markdown",
   "id": "9e64fc1b-7fda-46f0-ab67-efdee1c5edff",
   "metadata": {},
   "source": [
    "执行**双样本学习**，先为模型提供一个中性和一个正面的交互示例，然后再让它响应我们希望分类为 `neutral` 的 `review`。\n",
    "* 用上面已经定义的 `example_neutral` 作为一个示例。\n",
    "* 用 `example_review_positive`，`example_prompt_positive` 和 `example_response_positive` 构建一个正面评价的用户/模型交互示例。\n",
    "* 用这两个示例（中性和正面）和 `main_prompt` 构建一个包含两个示例的提示词（利用 `prompt_with_examples` 函数）。\n",
    "* 使用您构建的带有两个示例的提示词生成并打印模型响应。\n",
    "\n",
    "如果遇到问题，可以查看下面的参考答案。"
   ]
  },
  {
   "cell_type": "markdown",
   "id": "d1fddc1b-c703-4419-aaaa-b52be5bbcc02",
   "metadata": {},
   "source": [
    "### 您的代码"
   ]
  },
  {
   "cell_type": "code",
   "execution_count": null,
   "id": "2d346908-9b38-445a-b0e6-31314c2ab828",
   "metadata": {
    "tags": []
   },
   "outputs": [],
   "source": []
  },
  {
   "cell_type": "markdown",
   "id": "804ed5b5-1b6f-43b9-b636-e5ceac53d819",
   "metadata": {
    "jp-MarkdownHeadingCollapsed": true
   },
   "source": [
    "### 参考答案"
   ]
  },
  {
   "cell_type": "code",
   "execution_count": null,
   "id": "6e1c2e73-dfc7-4082-a8f7-f3851301572d",
   "metadata": {
    "tags": []
   },
   "outputs": [],
   "source": [
    "example_positive = (example_prompt_positive, example_response_positive)\n",
    "examples = [example_neutral, example_positive]\n",
    "\n",
    "prompt_with_two_examples = prompt_with_examples(main_prompt, examples)\n",
    "\n",
    "print(generate(prompt_with_two_examples))"
   ]
  },
  {
   "cell_type": "markdown",
   "id": "4e878248-8405-49ad-8103-ea7c2eb5b8c0",
   "metadata": {},
   "source": [
    "## 生成数据供下游使用"
   ]
  },
  {
   "cell_type": "markdown",
   "id": "c5a60b41-a460-4ccf-9608-4916b17e0523",
   "metadata": {},
   "source": [
    "我们的模型现在能有效的进行**情感分析**，我们来扩展其分析功能，让它生成供下游使用的包括正面和负面关键词的 JSON 对象。\n",
    "\n",
    "我们开始迭代提示词，先要求模型分别列出评论中的正面负面关键词。"
   ]
  },
  {
   "cell_type": "code",
   "execution_count": null,
   "id": "b3c61db3-9b8e-4dcb-bd6f-18eb7e1dfb4c",
   "metadata": {
    "tags": []
   },
   "outputs": [],
   "source": [
    "prompt = f\"\"\"\n",
    "From the review, list the positive points and negative points separately: {review}\n",
    "\"\"\"\n",
    "\n",
    "print(generate(prompt))"
   ]
  },
  {
   "cell_type": "markdown",
   "id": "acce4fc3-ab0f-41d7-ad69-db056584768b",
   "metadata": {},
   "source": [
    "---"
   ]
  },
  {
   "cell_type": "markdown",
   "id": "8b911c64-88d7-4219-a8c7-eee724efa2ee",
   "metadata": {},
   "source": [
    "模型做得很不错。现在我们迭代一下，试试让模型生成 JSON 对象。"
   ]
  },
  {
   "cell_type": "code",
   "execution_count": null,
   "id": "8b3dc9cf-6dcf-41a8-b357-797f26ea93b2",
   "metadata": {
    "tags": []
   },
   "outputs": [],
   "source": [
    "prompt = f\"\"\"\n",
    "From the review, list down the positive points and negative points separately, in JSON: {review}\n",
    "\"\"\"\n",
    "\n",
    "print(generate(prompt))"
   ]
  },
  {
   "cell_type": "markdown",
   "id": "6bf57028-ebde-4222-af29-f412cfbd092f",
   "metadata": {},
   "source": [
    "---"
   ]
  },
  {
   "cell_type": "markdown",
   "id": "1c6bbf8a-f762-4867-a6a9-72bbe3a5cfdd",
   "metadata": {},
   "source": [
    "好像没什么变化。让我们在提示词中更**准确**的说明希望如何格式化数据。（注意：我们必须使用双大括号 `{{`、`}}` 而不是单大括号 `{`、`}`，因为我们使用的是 Python f-string，它会将单个大括号解释为 Python 值的占位符。）"
   ]
  },
  {
   "cell_type": "code",
   "execution_count": null,
   "id": "1a351589-8031-4ecf-b335-2d354d9bba0a",
   "metadata": {
    "tags": []
   },
   "outputs": [],
   "source": [
    "prompt = f\"\"\"\n",
    "From the review below, list down the positive points and negative points separately, in JSON. Use the following format:\n",
    "\n",
    "{{\"positive\": [], \"negative\": []}}\n",
    "\n",
    "Review: {review}\n",
    "\"\"\"\n",
    "\n",
    "print(generate(prompt))"
   ]
  },
  {
   "cell_type": "markdown",
   "id": "e9e79ad7-8bff-438d-aa63-91098ab8cb79",
   "metadata": {},
   "source": [
    "---"
   ]
  },
  {
   "cell_type": "markdown",
   "id": "a44d5e44-1921-484d-b3a0-2896a68b8a70",
   "metadata": {},
   "source": [
    "这似乎也没有带来多大改变。"
   ]
  },
  {
   "cell_type": "markdown",
   "id": "7dcdd580-fd71-4c1c-ae0e-257173c4db20",
   "metadata": {
    "tags": []
   },
   "source": [
    "## 练习：成功生成 JSON"
   ]
  },
  {
   "cell_type": "markdown",
   "id": "7641f227-3353-42dd-9620-36afa52b8318",
   "metadata": {},
   "source": [
    "运用您迄今为止所学到的知识，成功完成这个任务，让模型能输出 JSON。如果您想为模型提供指令示例，我们已在下方为您提供了两个评论示例及其对应的 JSON 输出。\n",
    "\n",
    "以及下面还有一个接收 LLM 输出的 `pretty_print_json` 辅助函数，如果 LLM 响应是有效的 JSON 格式，该函数将以漂亮的缩进方式打印出该响应。\n",
    "\n",
    "如果您遇到问题，下面有两种解决方案。它们是几个隐藏单元，您可以单击 `+ N cells hidden` 按钮来展开它们。"
   ]
  },
  {
   "cell_type": "code",
   "execution_count": null,
   "id": "29d66b66-2675-42de-a9f0-8612a4d1167d",
   "metadata": {
    "tags": []
   },
   "outputs": [],
   "source": [
    "example_reviews = [\n",
    "\"\"\"\\\n",
    "I recently purchased the Starlight Cruiser from Star Bikes, and I've been thoroughly impressed. \\\n",
    "The ride is smooth and it handles urban terrains with ease. \\\n",
    "However, I did find the seat a bit uncomfortable for longer rides. \\\n",
    "Also, the color options could be better. Despite these minor drawbacks, \\\n",
    "the build quality and the performance of the bike are commendable. It's a good value for the money.\\\n",
    "\"\"\",\n",
    "\"\"\"\\\n",
    "Got the Starlight Cruiser last week, and I'm a bit disappointed. \\\n",
    "The brakes are not as responsive as I'd like and the gears often get stuck. \\\n",
    "The design is good but performance-wise, it leaves much to be desired.\\\n",
    "\"\"\"\n",
    "]"
   ]
  },
  {
   "cell_type": "code",
   "execution_count": null,
   "id": "afc94723-a0f1-4747-84c3-acbaec993943",
   "metadata": {
    "tags": []
   },
   "outputs": [],
   "source": [
    "example_outputs = [\n",
    "    {\n",
    "        \"positive\": [\"smooth ride\", \"ease of handling urban terrains\", \"good value for the money\"],\n",
    "        \"negative\": [\"seat uncomfortable for longer rides\", \"limited color options\"]\n",
    "    },\n",
    "    {\n",
    "        \"positive\": [\"good design\"],\n",
    "        \"negative\": [\"brakes not repsonsive\", \"gears often get stuck\", \"performance leaves much to be desired\"]\n",
    "    }\n",
    "]"
   ]
  },
  {
   "cell_type": "code",
   "execution_count": null,
   "id": "67c7faab-ad5e-4a02-abbb-e3e97f56c20c",
   "metadata": {
    "tags": []
   },
   "outputs": [],
   "source": [
    "def pretty_print_json(json_string):\n",
    "    print(json.dumps(json.loads(json_string), indent=4))"
   ]
  },
  {
   "cell_type": "markdown",
   "id": "8ff812a8-22c5-436d-aca0-bef2f42eacdc",
   "metadata": {
    "jp-MarkdownHeadingCollapsed": true,
    "tags": []
   },
   "source": [
    "### 解决方案 1"
   ]
  },
  {
   "cell_type": "markdown",
   "id": "355fadea-39db-4406-9f26-d238ba555e34",
   "metadata": {},
   "source": [
    "创建一个提示词/响应的2元组示例列表。请注意，在该实现中，我们只用评论作为提示词，没有给任何其它输入。"
   ]
  },
  {
   "cell_type": "code",
   "execution_count": null,
   "id": "ba63c6ef-54bf-42ab-a80c-cb34c5b8a7d5",
   "metadata": {
    "tags": []
   },
   "outputs": [],
   "source": [
    "examples = [(example_review, json.dumps(example_output)) for example_review, example_output in zip(example_reviews, example_outputs)]"
   ]
  },
  {
   "cell_type": "markdown",
   "id": "b36ba2a0-eb41-4486-93bd-f7be9155b61d",
   "metadata": {},
   "source": [
    "检查示例的格式。"
   ]
  },
  {
   "cell_type": "code",
   "execution_count": null,
   "id": "e7b76248-6060-4ca4-9ee2-5fa77c783d87",
   "metadata": {
    "tags": []
   },
   "outputs": [],
   "source": [
    "examples"
   ]
  },
  {
   "cell_type": "markdown",
   "id": "6e595ea4-0f21-4ada-8611-3d6e36cde3db",
   "metadata": {},
   "source": [
    "---"
   ]
  },
  {
   "cell_type": "markdown",
   "id": "5effcf36-a628-49b3-bd60-fce2d031a372",
   "metadata": {},
   "source": [
    "使用 `review` 作为提示词。"
   ]
  },
  {
   "cell_type": "code",
   "execution_count": null,
   "id": "45ac716d-7adb-46ac-a1c2-06a7b7dbbdd0",
   "metadata": {
    "tags": []
   },
   "outputs": [],
   "source": [
    "prompt = review"
   ]
  },
  {
   "cell_type": "markdown",
   "id": "2563dc99-094d-46bb-9090-80cb227b91b6",
   "metadata": {},
   "source": [
    "生成响应。"
   ]
  },
  {
   "cell_type": "code",
   "execution_count": null,
   "id": "6bb98ea0-64d2-4c71-9f3e-a0af29a921bb",
   "metadata": {
    "tags": []
   },
   "outputs": [],
   "source": [
    "json_response = generate(prompt_with_examples(prompt, examples))"
   ]
  },
  {
   "cell_type": "code",
   "execution_count": null,
   "id": "9f00ee72-d283-4a4f-a9bd-bb0fc1f9f78f",
   "metadata": {
    "tags": []
   },
   "outputs": [],
   "source": [
    "pretty_print_json(json_response)"
   ]
  },
  {
   "cell_type": "markdown",
   "id": "8ee16a34-9528-4a39-a12a-36cd2dc2ff13",
   "metadata": {
    "jp-MarkdownHeadingCollapsed": true,
    "tags": []
   },
   "source": [
    "### 解决方案 2"
   ]
  },
  {
   "cell_type": "markdown",
   "id": "ac35791e-a2ea-4eed-83aa-77153e96f629",
   "metadata": {},
   "source": [
    "*解决方案 1* 展示了**双样本学习**的有效性，值得一提的是，我们还可以通过添加一个**提示**线索 `JSON:` 来达到理想的效果。"
   ]
  },
  {
   "cell_type": "code",
   "execution_count": null,
   "id": "5440a4a4-1169-4bec-b695-41241720e378",
   "metadata": {
    "tags": []
   },
   "outputs": [],
   "source": [
    "prompt = f\"\"\"\n",
    "From the review below, list down the positive points and negative points separately, in JSON. Use the following format:\n",
    "\n",
    "{{\"positive\": [], \"negative\": []}}\n",
    "\n",
    "Review: {review}\n",
    "JSON:\n",
    "\"\"\"\n",
    "\n",
    "pretty_print_json(generate(prompt))"
   ]
  },
  {
   "cell_type": "markdown",
   "id": "ef00f573-c735-4b49-9c0a-268ddef53d17",
   "metadata": {
    "tags": []
   },
   "source": [
    "## 关键概念回顾"
   ]
  },
  {
   "cell_type": "markdown",
   "id": "34f34159-11b5-402e-a731-69b0073c093b",
   "metadata": {},
   "source": [
    "此 notebook 中介绍了以下关键概念：\n",
    "* **情感分析**：识别一段文本的情绪或情感。\n",
    "* **指令微调**：通过基于示例的定制学习提高模型的任务性能。\n",
    "* **LLaMA-2 提示模板**：预先设计的指导 LLaMA-2 模型响应的格式，用于进行指令微调。\n",
    "* **少样本学习**：为模型预先提供一或多个指令示例，以改进其响应。"
   ]
  },
  {
   "cell_type": "markdown",
   "id": "57ed6228-d930-4216-981b-fbb17f43169d",
   "metadata": {},
   "source": [
    "## 可选的进阶练习"
   ]
  },
  {
   "cell_type": "markdown",
   "id": "f085bcc0-e14f-493f-8d82-2de8479b88fd",
   "metadata": {},
   "source": [
    "如果您想超出本课程的内容进阶一下，可以试试下面的额外开放式练习。"
   ]
  },
  {
   "cell_type": "markdown",
   "id": "2c4e5e3c-4d6b-40ba-a394-7303f6d51c02",
   "metadata": {},
   "source": [
    "### 多种输出数据格式"
   ]
  },
  {
   "cell_type": "markdown",
   "id": "b1e86f04-9286-46a2-94c1-1324f4b917d3",
   "metadata": {},
   "source": [
    "我们已经成功生成了 JSON。尝试生成不同形式的数据，比如 HTML 表格。"
   ]
  },
  {
   "cell_type": "markdown",
   "id": "6ab309cc-36af-4de4-9612-db45e834aaa6",
   "metadata": {},
   "source": [
    "### 使用 7B 模型"
   ]
  },
  {
   "cell_type": "markdown",
   "id": "f1bbea16-622a-489d-ad55-470d16847e32",
   "metadata": {},
   "source": [
    "在 notebook 顶部，按照下面的代码重启内核后，取消注释以使用 7B 模型，而不是 13B 模型。试试通过提示工程在使用小（更弱）模型的情况下获得满意的结果。"
   ]
  },
  {
   "cell_type": "markdown",
   "id": "9ff80ed9-ac57-4aff-8ea1-56cce851733c",
   "metadata": {},
   "source": [
    "### 复用模型进行其它分析"
   ]
  },
  {
   "cell_type": "markdown",
   "id": "da9608db-f236-407d-9c3c-0b52d6fbc0e6",
   "metadata": {},
   "source": [
    "LLaMA-2 这类 LLM 的超能力之一是，能够执行过去需要许多模型去处理的多种任务。\n",
    "\n",
    "试想一下，如果您已经为许多评论收集了“正面”和“负面”关键词，可能会发现许多相似的项目，但模型会记录为不同的字符串。就比如“不错的轮胎”和“很棒的轮胎”。您能否复用模型来创建数据，捕获到被我们识别为同类的项目？\n",
    "\n",
    "您还有兴趣执行哪些其它的分析？"
   ]
  },
  {
   "cell_type": "markdown",
   "id": "caee7b83-5f14-45e2-9958-90fea3374a76",
   "metadata": {
    "tags": []
   },
   "source": [
    "重启内核\n",
    "----\n",
    "\n",
    "\n"
   ]
  },
  {
   "cell_type": "markdown",
   "id": "334779e1-fecf-4157-ab7c-9bddb41f3b29",
   "metadata": {},
   "source": [
    "为下一个 notebook 释放 GPU 显存，请运行以下单元。"
   ]
  },
  {
   "cell_type": "code",
   "execution_count": null,
   "id": "e35a6feb-846c-450e-8991-63c3b06392cc",
   "metadata": {
    "tags": []
   },
   "outputs": [],
   "source": [
    "from IPython import get_ipython\n",
    "\n",
    "get_ipython().kernel.do_shutdown(restart=True)"
   ]
  }
 ],
 "metadata": {
  "kernelspec": {
   "display_name": "Python 3 (ipykernel)",
   "language": "python",
   "name": "python3"
  },
  "language_info": {
   "codemirror_mode": {
    "name": "ipython",
    "version": 3
   },
   "file_extension": ".py",
   "mimetype": "text/x-python",
   "name": "python",
   "nbconvert_exporter": "python",
   "pygments_lexer": "ipython3",
   "version": "3.10.13"
  }
 },
 "nbformat": 4,
 "nbformat_minor": 5
}
