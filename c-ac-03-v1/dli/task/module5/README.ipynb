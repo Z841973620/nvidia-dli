{
 "cells": [
  {
   "cell_type": "markdown",
   "metadata": {},
   "source": [
    "使用 OpenACC 进行数据管理\n",
    "============================\n",
    "\n",
    "本实验旨在配合 OpenACC.org 教学材料的第 5 模块。\n",
    "\n",
    "本实验的目的是介绍 OpenACC 数据管理指令。实验说明和源代码适用于 C/C++ 和 Fortran。\n",
    "\n",
    "请参阅以下文件以开始实验：\n",
    "\n",
    "* [C/C++](assets/C/README.ipynb)\n",
    "* [Fortran](assets/Fortran/README.ipynb)"
   ]
  }
 ],
 "metadata": {
  "kernelspec": {
   "display_name": "Python 3 (ipykernel)",
   "language": "python",
   "name": "python3"
  },
  "language_info": {
   "codemirror_mode": {
    "name": "ipython",
    "version": 3
   },
   "file_extension": ".py",
   "mimetype": "text/x-python",
   "name": "python",
   "nbconvert_exporter": "python",
   "pygments_lexer": "ipython3",
   "version": "3.8.10"
  }
 },
 "nbformat": 4,
 "nbformat_minor": 4
}
