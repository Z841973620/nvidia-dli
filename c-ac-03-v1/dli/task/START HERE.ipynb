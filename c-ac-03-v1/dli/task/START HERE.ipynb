{
 "cells": [
  {
   "cell_type": "markdown",
   "metadata": {
    "tags": []
   },
   "source": [
    "# 欢迎来到 OpenACC 实验室\n",
    "\n",
    "请选择以下适当的实验室。\n",
    "\n",
    "* [模块 2](module2/README.ipynb) - 使用 Nsight Systems 实验室进行应用程序分析 - 该实验室向学生介绍使用 Nsight Systems 分析器进行应用程序分析。\n",
    "* [模块 3](module3/README.ipynb) - OpenACC 指令基础 - 该实验室介绍 OpenACC 指令。\n",
    "* [模块 4](module4/README.ipynb) - 使用 OpenACC 进行 GPU 编程 - 该实验室介绍使用 OpenACC 进行 GPU 编程。\n",
    "* [模块 5](module5/README.ipynb) - 使用 OpenACC 进行数据管理 - 该实验室介绍 OpenACC 数据管理指令。\n",
    "* [模块 6](module6/README.ipynb) - OpenACC 循环优化 - 该实验室向学生介绍 OpenACC 中的循环优化。\n"
   ]
  }
 ],
 "metadata": {
  "kernelspec": {
   "display_name": "Python 3 (ipykernel)",
   "language": "python",
   "name": "python3"
  },
  "language_info": {
   "codemirror_mode": {
    "name": "ipython",
    "version": 3
   },
   "file_extension": ".py",
   "mimetype": "text/x-python",
   "name": "python",
   "nbconvert_exporter": "python",
   "pygments_lexer": "ipython3",
   "version": "3.8.10"
  }
 },
 "nbformat": 4,
 "nbformat_minor": 4
}
