{
 "cells": [
  {
   "cell_type": "markdown",
   "metadata": {},
   "source": [
    "<h1 style=\"color:#65AE11;\">设置 Nsight Systems </h2>"
   ]
  },
  {
   "cell_type": "markdown",
   "metadata": {},
   "source": [
    "本节中，你将学习如何在此 JupyterLab 环境中使用 Nsight Systems，并以直观方式对基准密码应用进行性能分析。"
   ]
  },
  {
   "cell_type": "markdown",
   "metadata": {},
   "source": [
    "<h2 style=\"color:#65AE11;\">目标</h2>"
   ]
  },
  {
   "cell_type": "markdown",
   "metadata": {},
   "source": [
    "完成本节内容的学习后，您将：\n",
    "\n",
    "* 能够生成可由 Nsight Systems 使用的报告文件\n",
    "* 获得在 JupyterLab 环境内运行的 Nsight Systems 实例\n",
    "* 以可视化方式对基准密码应用的时间表进行性能分析\n",
    "* 以可视化方式观察基准应用程序当前使用一个 GPU，并且内存传输和计算没有任何重叠"
   ]
  },
  {
   "cell_type": "markdown",
   "metadata": {},
   "source": [
    "<h2 style=\"color:#65AE11;\">演示</h2>"
   ]
  },
  {
   "cell_type": "markdown",
   "metadata": {},
   "source": [
    "运行以下单元以加载本节的视频演示。看完演示后，继续完成此 Notebook 余下的部分。"
   ]
  },
  {
   "cell_type": "code",
   "execution_count": null,
   "metadata": {},
   "outputs": [],
   "source": [
    "%%html\n",
    "<video width=\"800\" controls>\n",
    "  <source src=\"https://dli-lms.s3.us-east-1.amazonaws.com/assets/s-ac-02-v1-zh/04-nsight-overview-01.mp4\" type=\"video/mp4\">\n",
    "  Your browser does not support HTML video.\n",
    "</video>"
   ]
  },
  {
   "cell_type": "markdown",
   "metadata": {},
   "source": [
    "<h2 style=\"color:#65AE11;\">注释</h2>"
   ]
  },
  {
   "cell_type": "markdown",
   "metadata": {},
   "source": [
    "单击下方 `...`以查看讲师演示内容的注释。这些注释可能会对你以后回到此课程继续学习时有所帮助。"
   ]
  },
  {
   "cell_type": "markdown",
   "metadata": {
    "jupyter": {
     "source_hidden": true
    },
    "tags": []
   },
   "source": [
    "* 执行上方 `%%js`单元以生成远程桌面的 URL，然后将其复制并粘贴到新的浏览器选项卡中。\n",
    "* 若提示输入密码，请输入 `nvidia`\n",
    "* 单击桌面底部显示的应用查找工具（看起来像一个放大镜），键入“nsight”，然后打开“Nsight Systems”（Nsight 系统）\n",
    "* 单击“Open”（打开）->“root”（根）->“Desktop”（桌面）->“reports”（报告）->“04_Nsight_Systems_Setup/baseline_cipher/baseline-report.qdrep”\n",
    "* 关闭显示的警告和错误信息，可以不用理会它们\n",
    "* 你可以关闭左侧菜单并折叠底部菜单，为时间表腾出空间\n",
    "* 打开时间表的`CUDA`部分\n",
    "* 你可以用鼠标选择时间线上的某个区域，然后在出现提示时选择“Zoom In”，以放大该区域。"
   ]
  },
  {
   "cell_type": "markdown",
   "metadata": {},
   "source": [
    "<h2 style=\"color:#65AE11;\">以直观方式对基准应用进行性能分析</h2>"
   ]
  },
  {
   "cell_type": "markdown",
   "metadata": {},
   "source": [
    "仿照讲师的操作，使用终端为基准密码应用创建报告，然后打开远程桌面、Nsight Systems，再打开报告文件。探索并与时间表进行交互。"
   ]
  },
  {
   "cell_type": "markdown",
   "metadata": {},
   "source": [
    "执行下方单元以生成远程桌面的 URL，然后将其复制并粘贴到新的浏览器选项卡中。接着，仔细聆听讲师的讲课内容。"
   ]
  },
  {
   "cell_type": "code",
   "execution_count": null,
   "metadata": {},
   "outputs": [],
   "source": [
    " %%js\n",
    "var url = window.location.hostname + '/nsight/';\n",
    "element.append(url)"
   ]
  },
  {
   "cell_type": "markdown",
   "metadata": {},
   "source": [
    "完成后，你应看到大致如下所示的时间表："
   ]
  },
  {
   "cell_type": "markdown",
   "metadata": {},
   "source": [
    "![基准时间表](./images/baseline_timeline.png)"
   ]
  },
  {
   "cell_type": "markdown",
   "metadata": {},
   "source": [
    "<h2 style=\"color:#65AE11;\">知识检查</h2>"
   ]
  },
  {
   "cell_type": "markdown",
   "metadata": {},
   "source": [
    "请回答下列问题，确认您已了解本节的主要目标。您可以通过单击问题下方的`...`单元来显示每个问题的答案。"
   ]
  },
  {
   "cell_type": "markdown",
   "metadata": {},
   "source": [
    "---"
   ]
  },
  {
   "cell_type": "markdown",
   "metadata": {},
   "source": [
    "**基准密码应用中使用了几个 GPU？**\n",
    "\n",
    "1. 一个\n",
    "2. 两个\n",
    "3. 三个\n",
    "4. 四个"
   ]
  },
  {
   "cell_type": "markdown",
   "metadata": {
    "jupyter": {
     "source_hidden": true
    },
    "tags": []
   },
   "source": [
    "**答案：1。**"
   ]
  },
  {
   "cell_type": "markdown",
   "metadata": {},
   "source": [
    "---"
   ]
  },
  {
   "cell_type": "markdown",
   "metadata": {},
   "source": [
    "**您在时间表中看到了以下哪些操作？请选择所有适用项。**\n",
    "\n",
    "1. 主机到设备的内存复制\n",
    "2. GPU上执行的计算\n",
    "3. 设备到主机的内存复制"
   ]
  },
  {
   "cell_type": "markdown",
   "metadata": {
    "jupyter": {
     "source_hidden": true
    },
    "tags": []
   },
   "source": [
    "**答案：1、2、3。**"
   ]
  },
  {
   "cell_type": "markdown",
   "metadata": {},
   "source": [
    "---"
   ]
  },
  {
   "cell_type": "markdown",
   "metadata": {},
   "source": [
    "**你在时间表中观察到多少复制和计算的重叠？**\n",
    "\n",
    "1. 无\n",
    "2. 一些\n",
    "3. 全部"
   ]
  },
  {
   "cell_type": "markdown",
   "metadata": {
    "jupyter": {
     "source_hidden": true
    },
    "tags": []
   },
   "source": [
    "**答案：1。**"
   ]
  },
  {
   "cell_type": "markdown",
   "metadata": {},
   "source": [
    "---"
   ]
  },
  {
   "cell_type": "markdown",
   "metadata": {},
   "source": [
    "<h2 style=\"color:#65AE11;\">下一步</h2>"
   ]
  },
  {
   "cell_type": "markdown",
   "metadata": {},
   "source": [
    "现在你已熟悉基准应用、可以运行它并以直观方式对其进行性能分析，接下来，我们将着重探讨如何使用 CUDA 管理多个 GPU 设备。\n",
    "\n",
    "请继续学习下一节：[*多个 GPU*](../05_Multiple_GPUs/Multiple_GPUs.ipynb)。"
   ]
  },
  {
   "cell_type": "markdown",
   "metadata": {},
   "source": [
    "<h2 style=\"color:#65AE11;\">选择进一步学习</h2>"
   ]
  },
  {
   "cell_type": "markdown",
   "metadata": {},
   "source": [
    "以下内容供有时间和兴趣的学生对与本课程相关的主题进行更深入的学习。\n",
    "\n",
    "* [NVIDIA开发人员专区](https://developer.nvidia.com/nsight-systems)和[Nsight系统文档](https://docs.nvidia.com/nsight-systems/index.html)涉及了Nsight Systems的广泛的内容 ，其中包括我们在本次培训中使用的可视化的时间表。\n",
    "* [Nsight Compute](https://developer.nvidia.com/nsight-compute)是Nsight工具套件的附加部分，也是用于CUDA应用程序的功能强大的核函数性能分析工具。\n",
    "*  [GTC On Demand](https://www.nvidia.com/en-us/gtc/on-demand/)提供了[许多演示文稿](https://www.nvidia.com/zh-cn/gtc/on-demand/？search=nsight)，主要讨论了如何有效使用Nsight工具。"
   ]
  }
 ],
 "metadata": {
  "kernelspec": {
   "display_name": "Python 3 (ipykernel)",
   "language": "python",
   "name": "python3"
  },
  "language_info": {
   "codemirror_mode": {
    "name": "ipython",
    "version": 3
   },
   "file_extension": ".py",
   "mimetype": "text/x-python",
   "name": "python",
   "nbconvert_exporter": "python",
   "pygments_lexer": "ipython3",
   "version": "3.9.7"
  }
 },
 "nbformat": 4,
 "nbformat_minor": 4
}
