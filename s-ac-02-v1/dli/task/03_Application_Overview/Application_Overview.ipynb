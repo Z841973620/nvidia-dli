{
 "cells": [
  {
   "cell_type": "markdown",
   "metadata": {},
   "source": [
    "<h1 style=\"color:#65AE11;\">应用概述：对称式迭代费斯妥密码</h2>"
   ]
  },
  {
   "cell_type": "markdown",
   "metadata": {},
   "source": [
    "本节中，你将初步了解要使用本课程所学方法重构的对称式迭代费斯妥密码应用。此应用已经过 GPU 加速。"
   ]
  },
  {
   "cell_type": "markdown",
   "metadata": {},
   "source": [
    "<h2 style=\"color:#65AE11;\">目标</h2>"
   ]
  },
  {
   "cell_type": "markdown",
   "metadata": {},
   "source": [
    "完成本节内容的学习后，您将：\n",
    "\n",
    "* 熟悉要在整个课程中研究的 CUDA C++ 密码应用\n",
    "* 了解该应用中需要重点关注的部分和基本可以忽略的部分\n",
    "* 能够编译并运行该应用\n",
    "* 获得该应用的性能基准"
   ]
  },
  {
   "cell_type": "markdown",
   "metadata": {},
   "source": [
    "<h2 style=\"color:#65AE11;\">演示</h2>"
   ]
  },
  {
   "cell_type": "markdown",
   "metadata": {},
   "source": [
    "运行以下单元以加载本节的视频演示。看完演示后，继续完成此 Notebook 余下的部分。"
   ]
  },
  {
   "cell_type": "code",
   "execution_count": 1,
   "metadata": {},
   "outputs": [
    {
     "data": {
      "text/html": [
       "<video width=\"800\" controls>\n",
       "  <source src=\"https://dli-lms.s3.us-east-1.amazonaws.com/assets/s-ac-02-v1-zh/03-cipher-overview-01.mp4\" type=\"video/mp4\">\n",
       "  Your browser does not support HTML video.\n",
       "</video>\n"
      ],
      "text/plain": [
       "<IPython.core.display.HTML object>"
      ]
     },
     "metadata": {},
     "output_type": "display_data"
    }
   ],
   "source": [
    "%%html\n",
    "<video width=\"800\" controls>\n",
    "  <source src=\"https://dli-lms.s3.us-east-1.amazonaws.com/assets/s-ac-02-v1-zh/03-cipher-overview-01.mp4\" type=\"video/mp4\">\n",
    "  Your browser does not support HTML video.\n",
    "</video>"
   ]
  },
  {
   "cell_type": "markdown",
   "metadata": {},
   "source": [
    "<h2 style=\"color:#65AE11;\">注释</h2>"
   ]
  },
  {
   "cell_type": "markdown",
   "metadata": {},
   "source": [
    "单击下方 `...`以查看讲师演示内容的注释。这些注释可能会对你以后回到研讨会继续学习有所帮助。"
   ]
  },
  {
   "cell_type": "markdown",
   "metadata": {
    "jupyter": {
     "source_hidden": true
    },
    "tags": []
   },
   "source": [
    "* [encryption.cuh](baseline_cipher/encryption.cuh) 包含用于执行加密和解密工作的功能。`permute64` 和 `unpermute64`的工作量可以通过`num_iters`来控制。\n",
    "\n",
    "* [helpers.cuh](baseline_cipher/helpers.cuh) 包含用于错误处理的代码，以及整个课程中都使用的`Timer`类。\n",
    "\n",
    "* [baseline.cu](baseline_cipher/baseline.cu) 包含用于使用多个CPU内核在CPU上加密、将数据传输到GPU并在GPU上解密、再传输回给CPU以及在CPU上检查正确性的代码。 \n",
    "\n",
    "* `Timer` 类为应用程序的各个部分提供执行的持续时间。\n",
    "\n",
    "* 尽管不是必需的，`make`可以用来编译代码并生成报告文件。有关的详细信息，请参见[Makefile](baseline_cipher/Makefile)。\n",
    "\n",
    "* 有关其它详细信息，请参见整个源代码中的注释。"
   ]
  },
  {
   "cell_type": "markdown",
   "metadata": {},
   "source": [
    "<h2 style=\"color:#65AE11;\">练习：编译和运行基准应用</h2>"
   ]
  },
  {
   "cell_type": "markdown",
   "metadata": {},
   "source": [
    "仿照讲师的操作，使用终端编译并运行基准应用。"
   ]
  },
  {
   "cell_type": "markdown",
   "metadata": {},
   "source": [
    "<h2 style=\"color:#65AE11;\">知识检查</h2>"
   ]
  },
  {
   "cell_type": "markdown",
   "metadata": {},
   "source": [
    "请回答下列问题，确认您已了解本节的主要目标。您可以通过单击问题下方的`...`单元来显示每个问题的答案。"
   ]
  },
  {
   "cell_type": "markdown",
   "metadata": {},
   "source": [
    "---"
   ]
  },
  {
   "cell_type": "markdown",
   "metadata": {},
   "source": [
    "**要执行课程任务，您需要清楚地了解 encryption.cu 中的 `hash`、`permute64` 和 `unpermute64` 函数分别有何作用。**\n",
    "\n",
    "1. 正确\n",
    "2. 错误"
   ]
  },
  {
   "cell_type": "markdown",
   "metadata": {
    "jupyter": {
     "source_hidden": true
    },
    "tags": []
   },
   "source": [
    "**答案：2。**\n",
    "\n",
    "现在，您不需要了解这些函数的工作方式也可以完成课程任务。"
   ]
  },
  {
   "cell_type": "markdown",
   "metadata": {},
   "source": [
    "---"
   ]
  },
  {
   "cell_type": "markdown",
   "metadata": {},
   "source": [
    "**以下哪些函数能够在 GPU 上运行？请选择所有适用项。**\n",
    "\n",
    "1. `permute64`\n",
    "2. `unpermute64`\n",
    "3. `encrypt_cpu`\n",
    "4. `decrypt_gpu`\n",
    "5. `check_result_cpu`"
   ]
  },
  {
   "cell_type": "markdown",
   "metadata": {
    "jupyter": {
     "source_hidden": true
    },
    "tags": []
   },
   "source": [
    "**答案：1、2、4。**"
   ]
  },
  {
   "cell_type": "markdown",
   "metadata": {},
   "source": [
    "---"
   ]
  },
  {
   "cell_type": "markdown",
   "metadata": {},
   "source": [
    "**此基准应用会将内存传输与计算重叠。**\n",
    "\n",
    "1. 正确\n",
    "2. 错误"
   ]
  },
  {
   "cell_type": "markdown",
   "metadata": {
    "jupyter": {
     "source_hidden": true
    },
    "tags": []
   },
   "source": [
    "**答案：2。**"
   ]
  },
  {
   "cell_type": "markdown",
   "metadata": {},
   "source": [
    "---"
   ]
  },
  {
   "cell_type": "markdown",
   "metadata": {},
   "source": [
    "**此基准应用使用多个 CPU 核心。**\n",
    "\n",
    "1.True\n",
    "2.错误"
   ]
  },
  {
   "cell_type": "markdown",
   "metadata": {
    "jupyter": {
     "source_hidden": true
    }
   },
   "source": [
    "**答案：1。**"
   ]
  },
  {
   "cell_type": "markdown",
   "metadata": {},
   "source": [
    "---"
   ]
  },
  {
   "cell_type": "markdown",
   "metadata": {},
   "source": [
    "**此基准应用使用多个 GPU。**\n",
    "\n",
    "1. 正确\n",
    "2. 错误"
   ]
  },
  {
   "cell_type": "markdown",
   "metadata": {
    "jupyter": {
     "source_hidden": true
    },
    "tags": []
   },
   "source": [
    "**答案：2。**"
   ]
  },
  {
   "cell_type": "markdown",
   "metadata": {},
   "source": [
    "---"
   ]
  },
  {
   "cell_type": "markdown",
   "metadata": {},
   "source": [
    "<h2 style=\"color:#65AE11;\">下一步</h2>"
   ]
  },
  {
   "cell_type": "markdown",
   "metadata": {},
   "source": [
    "现在您已熟悉基准密码应用，并可编译、运行及对其进行基准测试，接下来您将学习使用 Nsight Systems 可视化分析器为该应用创建可视化的时间表。\n",
    "\n",
    "请继续学习下一节：[*Nsight Systems 设置*](../04_Nsight_Systems_Setup/Nsight_Systems_Setup.ipynb)。"
   ]
  },
  {
   "cell_type": "markdown",
   "metadata": {},
   "source": [
    "<h2 style=\"color:#65AE11;\">选择进一步学习</h2>"
   ]
  },
  {
   "cell_type": "markdown",
   "metadata": {},
   "source": [
    "以下内容供有时间和兴趣的学生对与本课程相关的主题进行更深入的学习。\n",
    "\n",
    "* [Wikipedia](https://en.wikipedia.org/wiki/Feistel_cipher)更深入地介绍了我们在整个培训中使用的Feistel密码的历史，构造和应用。\n",
    "* [openmp.org](https://www.openmp.org/resources/)提供了有关并行编程的OpenMP API规范的更多信息。\n",
    "* 您可以在[这个教程](https://makefiletutorial.com/)中了解有关如何使用Makefile的更多信息。\n",
    "* 关于使用跨网格循环构建灵活的CUDA核函数的信息，Mark Harris写了[CUDA开发人员专区博客文章](https://developer.nvidia.com/blog/cuda-pro-tip-write-flexible-kernels-grid-stride-loops/)。\n",
    "* 这篇[geeksforgeeks文章](https://www.geeksforgeeks.org/c-classes-and-objects/)在C++类的使用方面提供了一个很好的速成课程，这些类与我们这个培训课程中使用的`Timer`类很相似。"
   ]
  }
 ],
 "metadata": {
  "kernelspec": {
   "display_name": "Python 3 (ipykernel)",
   "language": "python",
   "name": "python3"
  },
  "language_info": {
   "codemirror_mode": {
    "name": "ipython",
    "version": 3
   },
   "file_extension": ".py",
   "mimetype": "text/x-python",
   "name": "python",
   "nbconvert_exporter": "python",
   "pygments_lexer": "ipython3",
   "version": "3.9.7"
  }
 },
 "nbformat": 4,
 "nbformat_minor": 4
}
