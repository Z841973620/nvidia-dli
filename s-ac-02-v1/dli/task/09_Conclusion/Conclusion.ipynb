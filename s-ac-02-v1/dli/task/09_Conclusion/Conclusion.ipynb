{
 "cells": [
  {
   "cell_type": "markdown",
   "metadata": {},
   "source": [
    "![DLI 接头](./images/DLI_Header.png)"
   ]
  },
  {
   "cell_type": "markdown",
   "metadata": {},
   "source": [
    "<h1 style=\"color:#65AE11;\">通过 CUDA C++ 在多个 GPU 之间扩展工作负载</h1>"
   ]
  },
  {
   "cell_type": "markdown",
   "metadata": {},
   "source": [
    "目前为止你已在这个富有挑战的课程中取得出色成果，恭喜！"
   ]
  },
  {
   "cell_type": "markdown",
   "metadata": {},
   "source": [
    "<h2 style=\"color:#65AE11;\">概述</h2>"
   ]
  },
  {
   "cell_type": "markdown",
   "metadata": {},
   "source": [
    "在本课程中，你已：\n",
    "* 了解如何利用一个节点上的所有可用 GPU\n",
    "* 了解如何在多个 GPU 上执行复制和计算重叠\n",
    "* 成功地重构了 CUDA C++ 应用，以在多个 GPU 上利用复制和计算重叠\n",
    "* 在 Nsight Systems 可视化的性能分析器中观察了您的工作效果"
   ]
  },
  {
   "cell_type": "markdown",
   "metadata": {},
   "source": [
    "<h2 style=\"color:#65AE11;\">课程问卷调查</h2>"
   ]
  },
  {
   "cell_type": "markdown",
   "metadata": {},
   "source": [
    "我们非常感谢你对本次研讨会表现出的兴趣以及投入的时间和努力。请填写[课程问卷调查](https://learn.next.courses.nvidia.com/courses/course-v1:DLI+S-AC-02+V1-ZH/courseware/85f2a3ac16a0476685257996b84001ad/8199a99f2e204a0aa8b005966aa3a928/?activate_block_id=block-v1%3ADLI%2BS-AC-02%2BV1-ZH%2Btype%40sequential%2Bblock%408199a99f2e204a0aa8b005966aa3a928)，帮助我们为以后的学生打造出色的课程体验。"
   ]
  },
  {
   "cell_type": "markdown",
   "metadata": {},
   "source": [
    "<h2 style=\"color:#65AE11;\">课程考核</h2>"
   ]
  },
  {
   "cell_type": "markdown",
   "metadata": {},
   "source": [
    "如果你希望在本次研讨会中获得 _*合格证书*_ ，请继续进行[课程考核](https://learn.next.courses.nvidia.com/courses/course-v1:DLI+S-AC-02+V1-ZH/courseware/85f2a3ac16a0476685257996b84001ad/8f242bc0189c4c77966fcc3274094b9e/?activate_block_id=block-v1%3ADLI%2BS-AC-02%2BV1-ZH%2Btype%40sequential%2Bblock%408f242bc0189c4c77966fcc3274094b9e)。\n",
    "\n",
    "每道题都是多选题，你需选择所有适用答案。如果答错一道题，则需等待两分钟才能重试，因此请务必仔细思考后再作答。\n",
    "\n",
    "及格线为 90 分。你可以访问课程的[进度页面](https://courses.nvidia.com/courses/course-v1:DLI+S-AC-02+V1-ZH/progress)查看进度，如果成绩合格，你也可在那里生成证书。\n",
    "\n",
    "祝你好运！"
   ]
  }
 ],
 "metadata": {
  "kernelspec": {
   "display_name": "Python 3",
   "language": "python",
   "name": "python3"
  },
  "language_info": {
   "codemirror_mode": {
    "name": "ipython",
    "version": 3
   },
   "file_extension": ".py",
   "mimetype": "text/x-python",
   "name": "python",
   "nbconvert_exporter": "python",
   "pygments_lexer": "ipython3",
   "version": "3.9.12"
  }
 },
 "nbformat": 4,
 "nbformat_minor": 4
}
