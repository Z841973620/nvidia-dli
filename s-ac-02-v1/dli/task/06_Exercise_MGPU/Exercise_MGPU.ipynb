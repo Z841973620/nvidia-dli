{
 "cells": [
  {
   "cell_type": "markdown",
   "metadata": {},
   "source": [
    "<h1 style=\"color:#65AE11;\">练习：使用多个 GPU</h1>"
   ]
  },
  {
   "cell_type": "markdown",
   "metadata": {},
   "source": [
    "本节您将重构基准密码应用，以使用多个 GPU。"
   ]
  },
  {
   "cell_type": "markdown",
   "metadata": {},
   "source": [
    "<h2 style=\"color:#65AE11;\">目标</h2>"
   ]
  },
  {
   "cell_type": "markdown",
   "metadata": {},
   "source": [
    "完成本节内容的学习后，您将：\n",
    "\n",
    "* 能够在 CUDA C++ 应用中使用多个 GPU\n",
    "* 在 Nsight Systems 时间表中观察多个 GPU 的使用情况"
   ]
  },
  {
   "cell_type": "markdown",
   "metadata": {},
   "source": [
    "<h2 style=\"color:#65AE11;\">演示</h2>"
   ]
  },
  {
   "cell_type": "markdown",
   "metadata": {},
   "source": [
    "运行以下单元以加载本节的视频演示。看完演示后，继续完成此 Notebook 余下的部分。"
   ]
  },
  {
   "cell_type": "code",
   "execution_count": null,
   "metadata": {},
   "outputs": [],
   "source": [
    "%%html\n",
    "<video width=\"800\" controls>\n",
    "  <source src=\"https://dli-lms.s3.us-east-1.amazonaws.com/assets/s-ac-02-v1-zh/06-using-multiple-gpus-01.mp4\" type=\"video/mp4\">\n",
    "  Your browser does not support HTML video.\n",
    "</video>"
   ]
  },
  {
   "cell_type": "markdown",
   "metadata": {},
   "source": [
    "<h2 style=\"color:#65AE11;\">练习说明</h2>"
   ]
  },
  {
   "cell_type": "markdown",
   "metadata": {},
   "source": [
    "应用上一节中讲述的方法在 [mgpu.cu](mgpu_cipher/mgpu.cu) 中使用多个 GPU。\n",
    "\n",
    "在终端运行 `make mgpu` 以编译程序，然后运行 `./mgpu` 以运行此程序。你将看到计时器的输出，此时请检查解密结果的正确性。详情请参阅 [Makefile](mgpu_cipher/Makefile)。\n",
    "\n",
    "**作为一个目标，请尝试使在GPU上解密所花费的时间（不包括内存传输）低于20ms。**\n",
    "\n",
    "在终端运行 `make profile` 以生成报告文件，此文件将命名为 `mgpu-report.qdrep` 并可在 Nsight Systems 中打开。详情请参阅 [Makefile](mgpu_cipher/Makefile)。\n",
    "\n",
    "以下屏幕截图展示了应用使用多个 GPU 的具体情况："
   ]
  },
  {
   "cell_type": "markdown",
   "metadata": {},
   "source": [
    "![多个 GPU](images/multiple_gpus.png)"
   ]
  },
  {
   "cell_type": "markdown",
   "metadata": {},
   "source": [
    "<h2 style=\"color:#65AE11;\">练习提示</h2>"
   ]
  },
  {
   "cell_type": "markdown",
   "metadata": {},
   "source": [
    "如果需要，您可以展开下列提示来获取指导："
   ]
  },
  {
   "cell_type": "markdown",
   "metadata": {
    "jupyter": {
     "source_hidden": true
    },
    "tags": []
   },
   "source": [
    "* 您的所有工作都应位于 `main` 函数中\n",
    "* 将可用 GPU 的数量存储在变量中以供以后使用\n",
    "* 根据数据量和 GPU 数量为每个流的工作定义数据块的大小。需要记住的是，出于上一节中讨论的原因，请使用向上舍入除法辅助函数 `sdiv`\n",
    "* 为将在每个 GPU 上分配的显存创建一个包含指针的数组\n",
    "* 为每个 GPU 分配等同于数据块大小的显存\n",
    "* 将正确的数据块复制到每个 GPU\n",
    "* 每个 GPU 解密各自的数据块\n",
    "* 将每个 GPU 的数据块复制回主机\n",
    "* 您可能需要编辑计时器实例（包括其消息字符串），以反映您对应用程序所做的更改\n",
    "* `make clean` 将删除所有二进制文件和报告文件\n",
    "* 您可以根据需要编辑 [*Makefile*](mgpu_cipher/Makefile)，例如对其进行编辑以更改所生成的二进制文件或报告文件的名称。当然，您也可直接在终端输入 *Makefile* 中的命令"
   ]
  },
  {
   "cell_type": "markdown",
   "metadata": {},
   "source": [
    "<h2 style=\"color:#65AE11;\">练习答案</h2>"
   ]
  },
  {
   "cell_type": "markdown",
   "metadata": {},
   "source": [
    "在您完成工作后，或者如果您遇到困难，请参阅 [答案](mgpu_cipher/mgpu_solution.cu)。如果愿意，您可以使用 `make mgpu_solution` 编译答案，或者使用 `make profile_solution` 生成可在 Nsight Systems 中查看的报告文件。"
   ]
  },
  {
   "cell_type": "markdown",
   "metadata": {},
   "source": [
    "<h2 style=\"color:#65AE11;\">知识检查</h2>"
   ]
  },
  {
   "cell_type": "markdown",
   "metadata": {},
   "source": [
    "请回答下列问题，确认您已了解本节的主要目标。您可以通过单击问题下方的`...`单元来显示每个问题的答案。"
   ]
  },
  {
   "cell_type": "markdown",
   "metadata": {},
   "source": [
    "---"
   ]
  },
  {
   "cell_type": "markdown",
   "metadata": {},
   "source": [
    "**在可视化的性能分析器中，我们可以看到重叠的内核执行。为什么会这样？**"
   ]
  },
  {
   "cell_type": "markdown",
   "metadata": {
    "tags": []
   },
   "source": [
    "**答案：**\n",
    "\n",
    "我们使用多个 GPU 来执行应用所要求的工作块，且所有 GPU 均可同时执行工作。"
   ]
  },
  {
   "cell_type": "markdown",
   "metadata": {},
   "source": [
    "---"
   ]
  },
  {
   "cell_type": "markdown",
   "metadata": {},
   "source": [
    "**在上面的解决方案代码的可视化性能分析器的图中，我们可以看到内存传输没有重叠。 为什么会这样？**"
   ]
  },
  {
   "cell_type": "markdown",
   "metadata": {
    "jupyter": {
     "source_hidden": true
    },
    "tags": []
   },
   "source": [
    "**答案：**\n",
    "\n",
    "解决方案的代码既不使用非默认流，也不使用 `cudaMemcpyAsync`进行内存复制，因而可视为阻塞操作。"
   ]
  },
  {
   "cell_type": "markdown",
   "metadata": {},
   "source": [
    "---"
   ]
  },
  {
   "cell_type": "markdown",
   "metadata": {},
   "source": [
    "<h2 style=\"color:#65AE11;\">下一步</h2>"
   ]
  },
  {
   "cell_type": "markdown",
   "metadata": {},
   "source": [
    "现在您已了解如何执行复制和计算重叠，以及如何在多个 GPU 上执行任务。下一节中，你将学习多个 GPU 上的流，以及如何在多个 GPU 上执行复制和计算重叠。\n",
    "\n",
    "请继续学习下一节：[*MGPU 流*](../07_MGPU_Streams/MGPU_Streams.ipynb)。"
   ]
  }
 ],
 "metadata": {
  "kernelspec": {
   "display_name": "Python 3 (ipykernel)",
   "language": "python",
   "name": "python3"
  },
  "language_info": {
   "codemirror_mode": {
    "name": "ipython",
    "version": 3
   },
   "file_extension": ".py",
   "mimetype": "text/x-python",
   "name": "python",
   "nbconvert_exporter": "python",
   "pygments_lexer": "ipython3",
   "version": "3.9.7"
  }
 },
 "nbformat": 4,
 "nbformat_minor": 4
}
