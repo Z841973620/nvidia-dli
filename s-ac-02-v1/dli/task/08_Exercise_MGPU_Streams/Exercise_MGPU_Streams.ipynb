{
 "cells": [
  {
   "cell_type": "markdown",
   "metadata": {},
   "source": [
    "<h1 style=\"color:#65AE11;\">练习：使用多个 GPU 执行复制和计算重叠</h1>"
   ]
  },
  {
   "cell_type": "markdown",
   "metadata": {},
   "source": [
    "本节您将重构基准密码应用，以在使用多个 GPU 时执行复制和计算重叠。"
   ]
  },
  {
   "cell_type": "markdown",
   "metadata": {},
   "source": [
    "<h2 style=\"color:#65AE11;\">目标</h2>"
   ]
  },
  {
   "cell_type": "markdown",
   "metadata": {},
   "source": [
    "完成本节内容的学习后，您将：\n",
    "\n",
    "* 能够在多个 GPU 上执行复制和计算重叠\n",
    "* 在 Nsight Systems 时间表中观察多个 GPU 上的复制和计算重叠"
   ]
  },
  {
   "cell_type": "markdown",
   "metadata": {},
   "source": [
    "<h2 style=\"color:#65AE11;\">练习说明</h2>"
   ]
  },
  {
   "cell_type": "markdown",
   "metadata": {},
   "source": [
    "应用上一节讲述的方法在 [mgpu_stream.cu](mgpu_stream_cipher/mgpu_stream.cu) 中使用多个 GPU 执行复制和计算重叠。\n",
    "\n",
    "在终端运行 `make mgpu_stream` 以编译程序，然后运行 `./mgpu_stream` 以运行此程序。你将看到定时器的输出，此时请检查解密结果的正确性。详情请参阅 [Makefile](mgpu_stream_cipher/Makefile)。\n",
    "\n",
    "**我们的目标是让 GPU 上的总时间（包括内存传输）少于 30 毫秒。**\n",
    "\n",
    "在终端运行 `make profile`以生成报告文件，此文件将命名为 `mgpu-stream-report.qdrep` 并可在 Nsight Systems 中打开。详情请参阅 [Makefile](mgpu_stream_cipher/Makefile)。\n",
    "\n",
    "以下屏幕截图展示了应用在多个 GPU 上执行复制和计算重叠的情况："
   ]
  },
  {
   "cell_type": "markdown",
   "metadata": {},
   "source": [
    "![多 GPU 复制和计算](images/mgpu_copy_compute.png)"
   ]
  },
  {
   "cell_type": "markdown",
   "metadata": {},
   "source": [
    "<h2 style=\"color:#65AE11;\">练习提示</h2>"
   ]
  },
  {
   "cell_type": "markdown",
   "metadata": {},
   "source": [
    "如果需要，您可以展开下列提示来获取指导："
   ]
  },
  {
   "cell_type": "markdown",
   "metadata": {
    "jupyter": {
     "source_hidden": true
    },
    "tags": []
   },
   "source": [
    "* 您的所有工作都应位于 `main` 函数中\n",
    "* 在工作期间，您可编辑计时器的实例，包括它的消息字符串，以反映您对应用程序所做的更改\n",
    "* 创建用于定义每个 GPU 的数据块的变量，以及用于定义每个 GPU 数据块对应的每个流的变量\n",
    "* 创建并将所有流存储在二维数组中，且每行需包含单个 GPU 的流\n",
    "* 在数组中存储每个 GPU 显存的指针\n",
    "* 使用可靠的索引技术，为每个 GPU 分配一个数据块\n",
    "* 为每个 GPU 上的每个流分别执行异步 HtoD 传输、核函数启动和异步 DtoH 传输\n",
    "* `make clean` 将删除所有二进制文件和报告文件\n",
    "* 您可以根据需要编辑 [*Makefile*](mgpu_cipher/Makefile)，例如对其进行编辑以更改所生成的二进制文件或报告文件的名称。当然，您也可直接在终端输入于 *Makefile* 中找到的命令"
   ]
  },
  {
   "cell_type": "markdown",
   "metadata": {},
   "source": [
    "<h2 style=\"color:#65AE11;\">练习答案</h2>"
   ]
  },
  {
   "cell_type": "markdown",
   "metadata": {},
   "source": [
    "在您完成工作后，或者如果您遇到困难，请参阅 [答案](mgpu_stream_cipher/mgpu_stream_solution.cu)。如果愿意，您可以使用 `make mgpu_stream_solution` 编译答案，或者使用 `make profile_solution` 生成可在 Nsight Systems 中查看的报告文件。"
   ]
  },
  {
   "cell_type": "markdown",
   "metadata": {},
   "source": [
    "<h2 style=\"color:#65AE11;\">下一步</h2>"
   ]
  },
  {
   "cell_type": "markdown",
   "metadata": {},
   "source": [
    "祝贺您成功地重构和加速了密码应用程序。接下来，您将快速地回顾您在本课程中学到的所有知识，并在进行课程评估之前，完成课程调查。\n",
    "\n",
    "请继续学习下一节：[*课程总结*](../09_Conclusion/Conclusion.ipynb)。"
   ]
  }
 ],
 "metadata": {
  "kernelspec": {
   "display_name": "Python 3 (ipykernel)",
   "language": "python",
   "name": "python3"
  },
  "language_info": {
   "codemirror_mode": {
    "name": "ipython",
    "version": 3
   },
   "file_extension": ".py",
   "mimetype": "text/x-python",
   "name": "python",
   "nbconvert_exporter": "python",
   "pygments_lexer": "ipython3",
   "version": "3.9.7"
  }
 },
 "nbformat": 4,
 "nbformat_minor": 4
}
