{
 "cells": [
  {
   "cell_type": "markdown",
   "metadata": {},
   "source": [
    "<h1 style=\"color:#65AE11;\">使用 JupyterLab</h2>"
   ]
  },
  {
   "cell_type": "markdown",
   "metadata": {},
   "source": [
    "本节中，您将学习如何有效使用本课程中提供的交互式 JupyterLab 环境。"
   ]
  },
  {
   "cell_type": "markdown",
   "metadata": {},
   "source": [
    "<h2 style=\"color:#65AE11;\">目标</h2>"
   ]
  },
  {
   "cell_type": "markdown",
   "metadata": {},
   "source": [
    "完成本节内容的学习后，您将：\n",
    "\n",
    "* 了解 JupyterLab 的概念\n",
    "* 了解如何从 Jupyter Notebook 执行代码单元\n",
    "* 能够与所提供的终端进行交互\n",
    "* 打开并编辑源代码文件\n",
    "* 根据自己的喜好定制 JupyterLab 的 UI"
   ]
  },
  {
   "cell_type": "markdown",
   "metadata": {},
   "source": [
    "<h2 style=\"color:#65AE11;\">演示</h2>"
   ]
  },
  {
   "cell_type": "markdown",
   "metadata": {},
   "source": [
    "运行以下单元以加载本节的视频演示。看完演示后，继续完成此 Notebook 余下的部分。"
   ]
  },
  {
   "cell_type": "code",
   "execution_count": null,
   "metadata": {},
   "outputs": [],
   "source": [
    "%%html\n",
    "<video width=\"800\" controls>\n",
    "  <source src=\"https://dli-lms.s3.us-east-1.amazonaws.com/assets/s-ac-02-v1-zh/02-jupyterlab-01.mp4\" type=\"video/mp4\">\n",
    "  Your browser does not support HTML video.\n",
    "</video>"
   ]
  },
  {
   "cell_type": "markdown",
   "metadata": {},
   "source": [
    "<h2 style=\"color:#65AE11;\">注释</h2>"
   ]
  },
  {
   "cell_type": "markdown",
   "metadata": {},
   "source": [
    "单击下方 `...`以查看讲师演示内容的注释。这些注释可能会对你以后回到本课程继续学习时有所帮助。"
   ]
  },
  {
   "cell_type": "markdown",
   "metadata": {
    "jupyter": {
     "source_hidden": true
    },
    "tags": []
   },
   "source": [
    "* JupyterLab 让你通过浏览器在远程机器上运行代码。\n",
    "* 此外还提供了交互式 Python 单元、文件系统、终端和文本编辑器。\n",
    "* 你可以拖放选项卡和窗口来自定义 JupyterLab 环境。\n",
    "* 左侧菜单上的命令面板可启用各种 JupyterLab 命令。\n",
    "* 请参阅 [JupyterLab 文档](https://jupyterlab.readthedocs.io/en/stable/)了解更多信息。"
   ]
  },
  {
   "cell_type": "markdown",
   "metadata": {},
   "source": [
    "<h2 style=\"color:#65AE11;\">知识检查</h2>"
   ]
  },
  {
   "cell_type": "markdown",
   "metadata": {},
   "source": [
    "请回答下列问题，确认您已了解本节的主要目标。您可以通过单击问题下方的`...`单元来显示每个问题的答案。"
   ]
  },
  {
   "cell_type": "markdown",
   "metadata": {},
   "source": [
    "---"
   ]
  },
  {
   "cell_type": "markdown",
   "metadata": {},
   "source": [
    "**以下哪项表述是正确的？**\n",
    "\n",
    "1. 您在本课程中运行的代码将在您使用的任何计算机上执行\n",
    "2. 您需自行提供 GPU 以与本课程进行交互\n",
    "3. 即使您是在您的计算机上运行 Web 浏览器，系统也将在装备有NVIDIA GPU的云端虚拟机上执行代码"
   ]
  },
  {
   "cell_type": "markdown",
   "metadata": {
    "jupyter": {
     "source_hidden": true
    },
    "tags": []
   },
   "source": [
    "**答案：3**\n",
    "\n",
    "利用 JupyterLab，用户可以通过浏览器与可能不在本地的机器上的计算资源进行交互。在本课程中，您将通过浏览器使用 JupyterLab 与云端的由NVIDIA GPU提供支持的虚拟机进行交互。"
   ]
  },
  {
   "cell_type": "markdown",
   "metadata": {},
   "source": [
    "---"
   ]
  },
  {
   "cell_type": "markdown",
   "metadata": {},
   "source": [
    "**Jupyter Notebook 中提供了哪几类单元？（请选择所有适用项）**\n",
    "\n",
    "1. Python 单元（也可与 `!` 配合使用以执行命令行命令）\n",
    "2. C++\n",
    "3. 标记（Markdown）单元"
   ]
  },
  {
   "cell_type": "markdown",
   "metadata": {
    "jupyter": {
     "source_hidden": true
    },
    "tags": []
   },
   "source": [
    "**答案：1、3**\n",
    "\n",
    "Jupyter Notebook 提供 Python 单元和标记单元。我们使用其他 JupyterLab 功能编辑、编译和运行 C++ 代码。"
   ]
  },
  {
   "cell_type": "markdown",
   "metadata": {},
   "source": [
    "---"
   ]
  },
  {
   "cell_type": "markdown",
   "metadata": {},
   "source": [
    "**您如何通过 JupyterLab 编辑源代码文件？**\n",
    "\n",
    "1. 通过“File Viewer”（文件查看器）打开它们，然后根据需要进行编辑\n",
    "2. 我们在本课程中使用的源代码文件为 C++ 文件，因此无法进行编辑"
   ]
  },
  {
   "cell_type": "markdown",
   "metadata": {
    "jupyter": {
     "source_hidden": true
    },
    "tags": []
   },
   "source": [
    "**答案：1**\n",
    "\n",
    "在整个课程中，您将通过左侧的 *File Browser*（文件浏览器）菜单打开 `.cu` 文件。"
   ]
  },
  {
   "cell_type": "markdown",
   "metadata": {},
   "source": [
    "---"
   ]
  },
  {
   "cell_type": "markdown",
   "metadata": {},
   "source": [
    "**以下哪些表述是正确的？（请选择所有适用项）**\n",
    "\n",
    "1. JupyterLab 支持通过拖放来调整窗口和选项卡的位置\n",
    "2. 许多（即使不是大多数）JupyterLab 命令都有键盘快捷键\n",
    "3. 文本编辑器支持设置主题并可进行更多定制\n",
    "4. 您可以使用键盘快捷键打开*命令面板*，且几乎能够发布任何 JupyterLab 命令"
   ]
  },
  {
   "cell_type": "markdown",
   "metadata": {
    "jupyter": {
     "source_hidden": true
    },
    "tags": []
   },
   "source": [
    "**答案：1、2、3、4**\n",
    "\n",
    "实际上，在 JupyterLab 中进行定制有很多其他可能性，但这已超出本研讨会的范围。"
   ]
  },
  {
   "cell_type": "markdown",
   "metadata": {},
   "source": [
    "---"
   ]
  },
  {
   "cell_type": "markdown",
   "metadata": {},
   "source": [
    "<h2 style=\"color:#65AE11;\">下一步</h2>"
   ]
  },
  {
   "cell_type": "markdown",
   "metadata": {},
   "source": [
    "现在您已熟悉您将在整个研讨会期间使用的 JupyterLab 环境，下面就让我来概述一下 CUDA C++ 应用，而您将在整个课程中对此应用进行重构，以练习使用所学到的新方法。\n",
    "\n",
    "请继续学习下一节：[*应用概述*](../03_Application_Overview/Application_Overview.ipynb)。"
   ]
  },
  {
   "cell_type": "markdown",
   "metadata": {},
   "source": [
    "<h2 style=\"color:#65AE11;\">可选择的进一步研究的内容</h2>"
   ]
  },
  {
   "cell_type": "markdown",
   "metadata": {},
   "source": [
    "以下内容适用于有时间且有兴趣就与本课程相关主题进行额外研究的学生。\n",
    "\n",
    "* [JupyterLab 文档](https://jupyterlab.readthedocs.io/en/stable/)非常深入地介绍了本课程中没有涉及到的 JupyterLab 的许多用法。\n",
    "* [Project Jupyter](https://jupyter.org/) 概述了整个 Jupyter 生态系统，包括已用于各种高性能计算组的多用户 Jupyter 中心 [JupyterHub](https://github.com/jupyterhub/jupyterhub)。"
   ]
  }
 ],
 "metadata": {
  "kernelspec": {
   "display_name": "Python 3 (ipykernel)",
   "language": "python",
   "name": "python3"
  },
  "language_info": {
   "codemirror_mode": {
    "name": "ipython",
    "version": 3
   },
   "file_extension": ".py",
   "mimetype": "text/x-python",
   "name": "python",
   "nbconvert_exporter": "python",
   "pygments_lexer": "ipython3",
   "version": "3.9.7"
  }
 },
 "nbformat": 4,
 "nbformat_minor": 4
}
