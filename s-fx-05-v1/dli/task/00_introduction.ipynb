{
 "cells": [
  {
   "cell_type": "markdown",
   "metadata": {
    "id": "dcpR388P6h4_"
   },
   "source": [
    "<a href=\"https://www.nvidia.com/dli\"> <img src=\"images/DLI_Header.png\" alt=\"Header\" style=\"width: 400px;\"/> </a>"
   ]
  },
  {
   "cell_type": "markdown",
   "metadata": {
    "id": "ZAg-QzZ46h5A"
   },
   "source": [
    "# 图神经网络入门 #"
   ]
  },
  {
   "cell_type": "markdown",
   "metadata": {
    "id": "r-Pth4bB6h5B"
   },
   "source": [
    "## 00 - 前言 ##\n",
    "欢迎学习 NVIDIA DLI《图神经网络入门》课程。图神经网络 (GNN) 是一种模型，旨在对图所描述的非结构化数据执行推理。GNN 在不同的细分市场和行业领域都能找到用武之地，例如分子分析、药物研发和再利用、股市走势预测、热力学分析，甚至是人脑连接体建模。在本实验中，您将学习一些概念，例如图数据操作、图上的消息传递、支持空间过滤的图卷积、多层 GNN 等。我们还将逐步介绍如何使用 [Deep Graph Library](https://www.dgl.ai/) 创建基于 GNN 的分类器，以及如何使用 NVIDIA GPU 对其进行加速。"
   ]
  },
  {
   "cell_type": "markdown",
   "metadata": {
    "id": "og0wWMTs6h5B"
   },
   "source": [
    "**学习目标**\n",
    "<br>\n",
    "在本课程中，您将学习关于图神经网络的重要概念，包括：\n",
    "* 图的剖析\n",
    "* 对图执行的基本操作\n",
    "* 消息传递和图卷积\n",
    "* 各种图神经网络的实现\n",
    "* 使用图神经网络进行节点分类\n",
    "\n",
    "**目录**\n",
    "<br>\n",
    "本实验分为两个部分。在第一部分，我们的主要关注点是基本概念以及图操作方式。在实验的第二部分，我们将学习如何高效训练各种图神经网络。在本实战实验中，您将有机会熟悉开发工作流程的每个步骤，并能够进行最适合您的用例的自定义设置。\n",
    "1. 图和图神经网络简介\n",
    "2. 训练图神经网络"
   ]
  },
  {
   "cell_type": "markdown",
   "metadata": {
    "id": "os7bR4LT6h5B"
   },
   "source": [
    "### JupyterLab ###\n",
    "在本实战实验中，我们将使用 [JupyterLab](https://jupyterlab.readthedocs.io/en/stable/) 管理我们的环境。[JupyterLab 界面](https://jupyterlab.readthedocs.io/en/stable/user/interface.html)是一个控制面板，可供您访问交互式 iPython Notebook、所用环境的文件夹结构，以及用于进入 Ubuntu 操作系统的终端窗口。在您将看到的第一个视图中，顶部是一个**菜单栏**，**左侧栏**中有一个**文件浏览器**，**主工作区**中最开始会显示此\"前言\" Notebook。\n",
    "<p><img src=\"images/jl_launcher.png\"></p>\n",
    "\n",
    "* 您可像浏览任何其他文件浏览器一样浏览此文件浏览器。双击任何内容都会打开显示相应内容的新选项卡。\n",
    "* 主工作区包含已打开文件的选项卡视图，您可根据需要关闭、移动和编辑这些视图。\n",
    "* 包括本 Notebook 在内的所有 Notebook 均由一系列内容和代码**单元**组成。若要执行某个代码单元中的代码，请在该单元亮显时，按 `Shift+Enter` 或按上方菜单栏中的 `Run` 按钮。有时，系统会将内容单元切换为编辑模式。通过 `Shift+Enter` 或 `Run` 按钮来执行单元即可将其切换回可读格式。\n",
    "* 若要中断单元执行，请单击菜单栏中的 `Stop` 按钮或转到 `Kernel` 菜单，然后选择 `Interrupt Kernel`。\n",
    "* 我们可以通过在命令前面加上感叹号 (`!`)，在 Notebook 单元中使用终端命令。"
   ]
  },
  {
   "cell_type": "markdown",
   "metadata": {
    "id": "_zc-MDvK6h5B"
   },
   "source": [
    "<a name='e1'></a>\n",
    "#### 练习  #1 - 实践 ####\n",
    "尝试执行下方单元中的简单 print 语句。"
   ]
  },
  {
   "cell_type": "code",
   "execution_count": null,
   "metadata": {
    "id": "SMB7MV9f6h5B"
   },
   "outputs": [],
   "source": [
    "# DO NOT CHANGE THIS CELL\n",
    "# activate this cell by selecting it with the mouse or arrow keys then use the keyboard shortcut [Shift+Enter] to execute\n",
    "print('This is just a simple print statement')"
   ]
  },
  {
   "cell_type": "markdown",
   "metadata": {
    "id": "rcUbXMLy6h5C"
   },
   "source": [
    "现在，尝试执行下方单元中的终端命令。"
   ]
  },
  {
   "cell_type": "code",
   "execution_count": null,
   "metadata": {
    "id": "yuvskYFT6h5C"
   },
   "outputs": [],
   "source": [
    "# DO NOT CHANGE THIS CELL\n",
    "# activate this cell by selecting it with the mouse or arrow keys then use the keyboard shortcut [Shift+Enter] to execute\n",
    "!echo 'This is another simple print statement'"
   ]
  },
  {
   "cell_type": "markdown",
   "metadata": {
    "id": "bhVLKU_j6h5C"
   },
   "source": [
    "**非常棒！**准备就绪后，我们继续学习[下一个 Notebook](./01_introduction_to_graphs_and_graph_neural_networks.ipynb)。"
   ]
  },
  {
   "cell_type": "markdown",
   "metadata": {
    "id": "pgZ2U36n6h5C"
   },
   "source": [
    "<a href=\"https://www.nvidia.com/dli\"> <img src=\"images/DLI_Header.png\" alt=\"Header\" style=\"width: 400px;\"/> </a>"
   ]
  }
 ],
 "metadata": {
  "colab": {
   "provenance": []
  },
  "kernelspec": {
   "display_name": "Python 3",
   "language": "python",
   "name": "python3"
  },
  "language_info": {
   "codemirror_mode": {
    "name": "ipython",
    "version": 3
   },
   "file_extension": ".py",
   "mimetype": "text/x-python",
   "name": "python",
   "nbconvert_exporter": "python",
   "pygments_lexer": "ipython3",
   "version": "3.8.8"
  }
 },
 "nbformat": 4,
 "nbformat_minor": 4
}
