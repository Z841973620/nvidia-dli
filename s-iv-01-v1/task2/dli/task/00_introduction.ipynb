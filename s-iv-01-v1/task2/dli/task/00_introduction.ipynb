{
 "cells": [
  {
   "cell_type": "markdown",
   "metadata": {},
   "source": [
    "<a href=\"https://www.nvidia.com/dli\"> <img src=\"images/DLI_Header.png\" alt=\"Header\" style=\"width: 400px;\"/> </a>"
   ]
  },
  {
   "cell_type": "markdown",
   "metadata": {},
   "source": [
    "# 构建实时视频 AI 应用\n",
    "欢迎学习 NVIDIA 深度学习培训中心 (DLI) 的 _构建实时视频 AI 应用_ 实验。在本实验中，您将学习如何使用 NVIDIA 的工具构建和维护硬件加速的视频 AI 应用。为创建实时视频 AI 应用，我们将使用 NVIDIA 的 _DeepStream_ 、_TAO 工具包_ 和 _TensorRT_ 。"
   ]
  },
  {
   "cell_type": "markdown",
   "metadata": {},
   "source": [
    "## 目录\n",
    "本实验分为两部分，每部分都包含四个独立的 Notebook。第一部分主要侧重于学习如何构建视频 AI 应用。在本实验的第二部分，我们将学习微调和优化视频 AI 应用。本实战实验将提供机会，让您熟悉开发工作流程中的每个步骤，以便作出最适合自身用例的修改。\n",
    "\n",
    "**第一部分**：\n",
    "\n",
    "1. 实时视频 AI 应用简介\n",
    "2. DeepStream SDK 简介\n",
    "3. 构建 DeepStream 应用\n",
    "4. 构建包含多个深度神经网络 (DNN) 的 DeepStream 应用\n",
    "\n",
    "**第二部分**：\n",
    "1. TAO 工具包简介\n",
    "2. 模型训练准备工作\n",
    "3. 使用 TAO 工具包训练模型\n",
    "4. 优化视频 AI 应用"
   ]
  },
  {
   "cell_type": "markdown",
   "metadata": {},
   "source": [
    "### JupyterLab\n",
    "在此实战实验中，我们使用 [JupyterLab](https://jupyterlab.readthedocs.io/en/stable/) 管理我们的环境。[JupyterLab 界面](https://jupyterlab.readthedocs.io/en/stable/user/interface.html)是一个控制面板，可供您访问交互式 iPython Notebook，并可提供实验环境使用的文件夹结构以及进入 Ubuntu 操作系统的终端窗口。在您看到的第一个视图中，顶部是一个**菜单栏**，**左侧栏**显示有**文件浏览器**，另外还包含初始显示内容为本\"简介\" Notebook 的**主工作区**。\n",
    "<p><img src=\"images/jl_launcher.png\"></p>\n",
    "\n",
    "* 您可像浏览任何其他文件浏览器一样浏览此文件浏览器。双击任何项目都会在新选项卡中打开该项目内容。\n",
    "* 主工作区中包含已打开文件的选项卡视图，您可根据需要关闭、移动和编辑这些视图。\n",
    "*包括此 notebook 在内的其他 notebook 均由一系列内容和代码**单元**组成。如要执行代码单元中的代码，请在单元高亮显示时，按 `Shift+Enter` 或上方菜单栏中的 `Run` 按钮。有时，系统会将内容单元切换为编辑模式。按下 `Shift+Enter` 或按 `Run` 按钮执行单元，即可将其切换回可读格式。\n",
    "* 若要中断执行单元，请单击菜单栏中的 `Stop` 按钮，或导航至 `Kernel` 菜单，然后选择 `Interrupt`。\n",
    "* 我们可以通过在命令开头前加上感叹号 (`!`) 来使用 Notebook 单元中的终端命令。"
   ]
  },
  {
   "cell_type": "markdown",
   "metadata": {},
   "source": [
    "<a name='e1'></a>\n",
    "#### 练习 #1 - 实践\n",
    "尝试执行下方单元中简单的 print 语句。"
   ]
  },
  {
   "cell_type": "code",
   "execution_count": null,
   "metadata": {},
   "outputs": [],
   "source": [
    "# DO NOT CHANGE THIS CELL\n",
    "# Activate this cell by selecting it with the mouse or arrow keys then use the keyboard shortcut [Shift+Enter] to execute\n",
    "print('This is just a simple print statement')"
   ]
  },
  {
   "cell_type": "markdown",
   "metadata": {},
   "source": [
    "现在，尝试执行下方单元中的终端命令。"
   ]
  },
  {
   "cell_type": "code",
   "execution_count": null,
   "metadata": {},
   "outputs": [],
   "source": [
    "# DO NOT CHANGE THIS CELL\n",
    "# Activate this cell by selecting it with the mouse or arrow keys then use the keyboard shortcut [Shift+Enter] to execute\n",
    "!echo 'This is another simple print statement'"
   ]
  },
  {
   "cell_type": "markdown",
   "metadata": {},
   "source": [
    "### NVIDIA GPU Cloud\n",
    "本实验要求用户拥有 NVIDIA GPU Cloud (NGC) 帐户和 API 密钥。如果您还没有的话，则执行以下步骤：\n",
    "1. [注册并激活免费的 NGC 帐户](https://docs.nvidia.com/ngc/ngc-overview/index.html#registering-activating-ngc-account)\n",
    "2. [生成 NGC API 密钥](https://docs.nvidia.com/ngc/ngc-overview/index.html#generating-api-key)，将其保存在安全位置"
   ]
  },
  {
   "cell_type": "markdown",
   "metadata": {},
   "source": [
    "<a name='e2'></a>\n",
    "#### 练习 #2 - NGC CLI 配置\n",
    "\n",
    "**说明**：<br>\n",
    "* 编辑以下单元，将 **MY_NGC_API_KEY** 替换为您的密钥，然后执行单元中的代码，以创建 NGC 的配置文件。\n",
    "* 执行以下单元，将新创建的配置文件移至 `.ngc` 以配置 NGC CLI。"
   ]
  },
  {
   "cell_type": "code",
   "execution_count": null,
   "metadata": {},
   "outputs": [],
   "source": [
    "%%writefile config\n",
    ";WARNING - This is a machine generated file.  Do not edit manually.\n",
    ";WARNING - To update local config settings, see \"ngc config set -h\"\n",
    "\n",
    "[CURRENT]\n",
    "apikey=<<<<MY_NGC_API_KEY>>>>\n",
    "format_type=json\n",
    "org=nvidia"
   ]
  },
  {
   "cell_type": "code",
   "execution_count": null,
   "metadata": {},
   "outputs": [],
   "source": [
    "# DO NOT CHANGE THIS CELL\n",
    "!mkdir -p ~/.ngc & mv config ~/.ngc/"
   ]
  },
  {
   "cell_type": "markdown",
   "metadata": {},
   "source": [
    "**做得好！**准备就绪后，我们开始学习[下一个 Notebook](./01_introduction_to_the_TAO_Toolkit.ipynb). "
   ]
  },
  {
   "cell_type": "markdown",
   "metadata": {},
   "source": [
    "<a href=\"https://www.nvidia.com/dli\"> <img src=\"images/DLI_Header.png\" alt=\"Header\" style=\"width: 400px;\"/> </a>"
   ]
  }
 ],
 "metadata": {
  "kernelspec": {
   "display_name": "Python 3",
   "language": "python",
   "name": "python3"
  },
  "language_info": {
   "codemirror_mode": {
    "name": "ipython",
    "version": 3
   },
   "file_extension": ".py",
   "mimetype": "text/x-python",
   "name": "python",
   "nbconvert_exporter": "python",
   "pygments_lexer": "ipython3",
   "version": "3.6.9"
  }
 },
 "nbformat": 4,
 "nbformat_minor": 4
}
