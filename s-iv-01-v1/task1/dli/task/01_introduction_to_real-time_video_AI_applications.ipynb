{
 "cells": [
  {
   "cell_type": "markdown",
   "id": "c00923ef",
   "metadata": {},
   "source": [
    "<img src=\"images/DLI_Header.png\" alt=\"Header\" style=\"width: 400px;\"/>"
   ]
  },
  {
   "cell_type": "markdown",
   "id": "4b3eba9a",
   "metadata": {
    "tags": []
   },
   "source": [
    "# 实时视频 AI 应用简介\n",
    "在现代世界中，摄像头无处不在，它们能够捕获大量数据，这些数据可用于生成商业上的洞见、提高处理效率以及改善收益流。将视频输入转换为可用的洞见是一项计算密集型任务。这类任务的处理可以在传感器自身附近的边缘、内部私有云或云端完成。生成基于 AI 的商业洞见后，我们可以将其传递至下游以开展进一步处理，例如根据给定的条件创建警报、执行进一步分析或执行可视化以监控趋势和模式。构建视频 AI 应用比较复杂，需要开发者设计具有多个功能部件的高效系统、训练高性能神经网络模型，并了解他们的选择的意义。幸运的是，我们可以使用一些功能强大的工具来简化流程。\n",
    "<p><img src='images/iva.png' width='720px'></p>"
   ]
  },
  {
   "cell_type": "markdown",
   "id": "d4b16072",
   "metadata": {},
   "source": [
    "## 学习目标 ##\n",
    "在此 Notebook 中，您将学习有关实时视频 AI 应用的重要概念，包括：\n",
    "* 使用视频 AI 提取出洞察力的案例和不同的方法\n",
    "* 构建视频 AI 应用面临的挑战\n",
    "* 视频 AI 应用的组件\n",
    "* 如何通过流式传输实现近乎实时的分析\n",
    "\n",
    "**目录**\n",
    "<br>\n",
    "本 Notebook 涵盖以下部分：\n",
    "1. [视频 AI 用例](#s1)\n",
    "    * [视频 AI 任务](#s1.1)\n",
    "2. [视频 AI 应用框架](#s2)\n",
    "2. [在边缘完成的实时视频流分析](#s3)\n",
    "3. [视频 AI 应用挑战](#s4)\n",
    "4. [适用于视频 AI 应用的 DeepStream SDK、TAO 工具包和 TensorRT](#s5)"
   ]
  },
  {
   "cell_type": "markdown",
   "id": "ccecd80a",
   "metadata": {},
   "source": [
    "<a name='s1'></a>\n",
    "## 视频 AI 用例：\n",
    "智能视频分析对我们日常生活的影响正在日益加深。使用视频 AI 的应用前景光明，机会不可限量。下面介绍一些示例：\n",
    "<p><img src='images/use_cases.png' width='720px' /></p>\n",
    "\n",
    "* 机场或其它检查点的**进出控制**\n",
    "* 物流和制造行业的**运营管理**，例如产品配送中心的仓储均衡\n",
    "* _智慧城市_ 的**交通流量和停车管理**\n",
    "* 改善客户体验的**零售分析**\n",
    "* 工厂装配线的**光学检测**"
   ]
  },
  {
   "cell_type": "markdown",
   "id": "ad1d9462",
   "metadata": {},
   "source": [
    "<a name='s1.1'></a>\n",
    "### 视频 AI 任务 ###\n",
    "这些视频 AI 应用的核心是一个或多个根据视频输入生成业务上的洞察的机器学习模型。这些模型通常是针对特定任务训练的深度学习神经网络模型。使用*机器学习*从视频中获取业务洞察的方法有很多，例如：\n",
    "* **分类：**用于识别图像中包含的物体。这类任务指的是用训练模型时使用过的一个类别对某个给定的帧打上分类标记。\n",
    "* **定位：**使用回归方法返回帧内可能存在的物体的坐标。\n",
    "* **物体检测：**（包括 _图像定位_ ）可以指定图像帧中多个物体的位置。\n",
    "* **分割：**通过在检测到的物体周围创建细粒度分割掩码来提供像素级的精度。分割的部分用途包括：在由 AI 助力的绿幕功能中，用于模糊或更改图像帧的背景；在自动驾驶领域，用于分割道路和背景；以及在制造领域，用于识别微观级别的缺陷。\n",
    "\n",
    "<p><img src='images/image_processing_problems.png' width='720px'></p>"
   ]
  },
  {
   "cell_type": "markdown",
   "id": "4251adf4",
   "metadata": {},
   "source": [
    "<a name='s2'></a>\n",
    "## 视频 AI 应用框架 ##\n",
    "几乎每个视频 AI 应用所用的框架都十分相似。通常，视频 AI 应用会接收一个或多个输入视频流，执行解码和复用（或聚合），预处理批量数据，然后通过 AI 推理处理数据。之后，您可以结合原始视频对基于 AI 的洞见执行以下操作：\n",
    "1) 对视频或图像编码以便于存储，\n",
    "2) 将其用于创建用于显示的合成数据，或 \n",
    "3) 将其传递至下游做进一步的分析。\n",
    "<p><img src='images/iva_framework.png' width=720></p>"
   ]
  },
  {
   "cell_type": "markdown",
   "id": "947f273d",
   "metadata": {},
   "source": [
    "<a name='s3'></a>\n",
    "## 在边缘完成的实时视频流分析 ##\n",
    "<p><img src='images/iva_stream_edge_inference.png' width='720px' /></p>\n",
    "\n",
    "根据复杂的机器学习算法分析大量数据，需要强大的计算性能，因此该操作历来是在硬件功能超强大的本地数据中心或基于云的基础设施中完成。这些设施可提供海量处理、存储和内存资源。但是，这种部署策略的主要缺点是**延迟**，即在从传感器收集数据并将其传输到云或数据中心时，会发生延迟。随着视频数据的创建量和使用量不断增加，此延迟明显变长，导致带宽阻塞。随着功能强大的低能耗物联网 (IoT) 设备的推出，我们现在可以在边缘设备上执行计算。我们希望在边缘使用[流处理](https://en.wikipedia.org/wiki/Streaming_media)提供实时或近乎实时的分析。边缘推理可能会将获得结果的时间从几秒钟缩短到不足一秒。在传感器附近的边缘执行推理时，我们还可以选择是否传输和存储原始视频，以及传输和存储多少原始视频。边缘推理具有以下这些优势：\n",
    "* **响应速度更快**，这是因为数据分析时间短，在必须立即做出数据驱动型决策制定时，这一点特别有意义。\n",
    "* **带宽成本更低**，因为要传输的原始视频量是可以控制的。\n",
    "* **缓解网络相关问题**，因为在无网络连接或网络连接欠佳的远程位置使用传感器时会出现网络问题。\n",
    "* **增强数据隐私保护和安全性**，因为边缘设备可通过编程将处理完的敏感数据丢弃。"
   ]
  },
  {
   "cell_type": "markdown",
   "id": "2137514c",
   "metadata": {},
   "source": [
    "<a name='s4'></a>\n",
    "## 视频 AI 应用挑战 ##\n",
    "虽然深度学习和计算机视觉模型在很多任务中的表现都超过了人类，但构建利用这些技术的视频 AI 应用仍是一项挑战。一方面，构建视频 AI 应用程序并使之成为产品需要付出大量努力，而优化这些系统则是一项繁琐的任务。一些其它挑战包括：\n",
    "* 要求从业者具备*深度学习* 的专业知识，通常这可能意味着从业者需精通一个或多个热门框架（如 TensorFlow、PyTorch、Caffe 等），以及神经网络架构的知识。\n",
    "* 需要采用高效的硬件和可靠的软件进行开发。\n",
    "* 实时数据处理的障碍\n",
    "* 应用程序需要能够在从小型边缘设备到公共云的各种配置上运行的灵活性。 开发人员需要一个平台，允许他们开发一次并以多种配置进行部署，而无需维护不同的软件堆栈。"
   ]
  },
  {
   "cell_type": "markdown",
   "id": "bc7b9b1f",
   "metadata": {},
   "source": [
    "<a name='s5'></a>\n",
    "## 适用于视频 AI 应用的 DeepStream SDK、TAO 工具包和 TensorRT ##\n",
    "[DeepStream](https://developer.nvidia.com/deepstream-sdk)、[TAO 工具包](https://developer.nvidia.com/tao)和 [TensorRT](https://developer.nvidia.com/tensorrt) 可应对这些挑战，帮助创建基于 AI 的硬件加速智能视频分析应用。这些工具可将像素和传感器数据转换为切实可行的见解，共同简化了开发端到端服务和解决方案的过程。\n",
    "<p><img src='images/tao_toolkit_deepstream.png' width='720px'></p>\n",
    "\n",
    "**DeepStream SDK**\n",
    "<br>\n",
    "借助 DeepStream SDK，您可以使用直观框架，构建视频解码/编码、图像缩放和转换以及 AI 推理的视频流处理工作流。DeepStream 应用使用硬件加速插件实现完整的端到端性能优化，从而实现近乎实时的分析。\n",
    "<br>\n",
    "\n",
    "**TAO 工具包**\n",
    "<br>\n",
    "TAO 工具包可用于创建视觉 AI 任务（例如物体检测、分类和分割）模型。此训练工具包简单易用，可便于用户根据自己的自定义需求使用预训练模型迁移学习。此外，TAO 工具包还支持模型优化，例如缩减模型整体大小的模型剪枝和量化。\n",
    "<br>\n",
    "\n",
    "**TensorRT**\n",
    "<br>\n",
    "TensorRT 是用于高性能深度学习推理的 SDK。其中包含深度学习推理优化器和运行时库，可实现低延迟和高吞吐量。\n",
    "<br>\n",
    "\n",
    "将 DeepStream SDK、TAO 工具包和 TensorRT 结合使用，开发者可以专注于以下工作：\n",
    "* 确定从视频数据中提取信息的方法\n",
    "* 为此训练和优化模型\n",
    "* 从模型推理中获取有意义的见解"
   ]
  },
  {
   "cell_type": "markdown",
   "id": "f606d32c",
   "metadata": {},
   "source": [
    "**本部分内容就此结束！**准备就绪后，我们开始学习[下一个 Notebook](./02_introduction_to_the_DeepStream_SDK.ipynb)。"
   ]
  },
  {
   "cell_type": "markdown",
   "id": "49a38f45",
   "metadata": {},
   "source": [
    "<img src=\"images/DLI_Header.png\" alt=\"Header\" style=\"width: 400px;\"/>"
   ]
  }
 ],
 "metadata": {
  "kernelspec": {
   "display_name": "Python 3 (ipykernel)",
   "language": "python",
   "name": "python3"
  },
  "language_info": {
   "codemirror_mode": {
    "name": "ipython",
    "version": 3
   },
   "file_extension": ".py",
   "mimetype": "text/x-python",
   "name": "python",
   "nbconvert_exporter": "python",
   "pygments_lexer": "ipython3",
   "version": "3.8.10"
  }
 },
 "nbformat": 4,
 "nbformat_minor": 5
}
