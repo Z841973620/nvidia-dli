{
 "cells": [
  {
   "cell_type": "markdown",
   "metadata": {},
   "source": [
    "# 使用 Nsight Compute 优化在线 5G 机器学习"
   ]
  },
  {
   "cell_type": "markdown",
   "metadata": {},
   "source": [
    "## 01 介绍\n",
    "本模块介绍如何使用 NVIDIA 的 [Nsight Compute](https://developer.nvidia.com/nsight-compute) 内核分析器来分析和优化 CUDA 内核。在练习中，我们使用由 Heinrich-Herz-Institute 和 NVIDIA 开发的 5G 在线机器学习代码。\n",
    "\n",
    "<img src=\"images/ncu_intro.png\" width=\"500\">\n",
    "\n",
    "在本模块中，您将学习如何：\n",
    "- 构建和运行 APSM 示例代码\n",
    "- 在 Nsight Compute UI 中以交互方式分析 CUDA 内核\n",
    "- 了解 Nsight Compute 报告并应用优化\n",
    "- 比较 CUDA 内核各个迭代的性能\n",
    "\n",
    "本模块使用 Ubuntu 20.04 和 CUDA 12.2。Nsight Compute 包含在 CUDA 12.2 工具包中。让我们通过执行下面的单元，使用 `nvidia-smi` 实用程序查看目标系统上已安装的驱动程序和可用的 GPU。"
   ]
  },
  {
   "cell_type": "code",
   "execution_count": null,
   "metadata": {},
   "outputs": [],
   "source": [
    "!nvidia-smi"
   ]
  },
  {
   "cell_type": "markdown",
   "metadata": {},
   "source": [
    "请继续学习下一节：[运行 APSM 代码](02_apsm.ipynb)"
   ]
  }
 ],
 "metadata": {
  "kernelspec": {
   "display_name": "Python 3 (ipykernel)",
   "language": "python",
   "name": "python3"
  },
  "language_info": {
   "codemirror_mode": {
    "name": "ipython",
    "version": 3
   },
   "file_extension": ".py",
   "mimetype": "text/x-python",
   "name": "python",
   "nbconvert_exporter": "python",
   "pygments_lexer": "ipython3",
   "version": "3.8.10"
  }
 },
 "nbformat": 4,
 "nbformat_minor": 4
}
