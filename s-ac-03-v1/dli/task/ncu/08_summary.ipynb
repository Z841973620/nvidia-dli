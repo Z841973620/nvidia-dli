{
 "cells": [
  {
   "cell_type": "markdown",
   "metadata": {},
   "source": [
    "# 使用 Nsight Compute 优化在线 5G 机器学习"
   ]
  },
  {
   "cell_type": "markdown",
   "metadata": {},
   "source": [
    "## 08 总结\n",
    "\n",
    "恭喜，您已完成有关优化在线 5G 机器学习代码的 Nsight Compute 培训模块。我们希望您喜欢它并学到有关 CUDA 内核优化以及如何使用 Nsight Compute 检查详细性能指标的有用知识。\n",
    "\n",
    "**工具使用**\n",
    "\n",
    "- 使用 Nsight Systems 识别应用程序中的优化目标。使用 Nsight Compute 详细分析 CUDA 内核。\n",
    "\n",
    "- 使用 `ncu` 命令行界面自动执行测量（和后处理）任务。\n",
    "\n",
    "- 使用 `-lineinfo` 进行编译以允许 UI 中的 Source/SASS 关联。使用 `--import-source yes` 在报告中保留 CUDA 源。\n",
    "\n",
    "**占用率**\n",
    "\n",
    "- 如果您的算法允许，请考虑在优化低占用率实现之前调整启动配置以实现最大占用率。\n",
    "\n",
    "- 使用“占用率”部分收集有关特定内核的信息。使用“占用率活动”了解启动配置对不同 GPU 架构的影响。\n",
    "\n",
    "**延迟和访问模式**\n",
    "\n",
    "- `Warp 停顿` 表示延迟阻止调度程序尽快发出指令。\n",
    "\n",
    "- 要减少 `LG Throttle` （压力）或 `Long Scoreboard` （延迟）停顿，请使用“源计数器”部分和“源”页面在代码中找到它们，并优化访问模式或频率。\n",
    "\n",
    "- 考虑手动将数据提取到低延迟共享内存中，而不是从本地或全局内存加载。\n",
    "\n",
    "- 遇到 `barrier` （屏障）停顿时，尝试将工作划分为均匀的工作负载块，以避免空闲线程。优化屏障之前执行的代码。\n",
    "\n",
    "**硬件利用率**\n",
    "\n",
    "- 平衡内核中的内存和计算操作，以避免单个硬件单元出现瓶颈，并确保利用所有可用的 GPU 资源。"
   ]
  },
  {
   "cell_type": "markdown",
   "metadata": {},
   "source": [
    "如果您对更多内容感兴趣：\n",
    "- 完成 [步骤 7](07_balanced.ipynb) 中的优化\n",
    "- 继续本课程的 [Nsight Systems](../nsys/01_introduction.ipynb) 部分\n",
    "- 观看 APSM [GPU 上的实时 NOMA](https://gtc21.event.nvidia.com/media/NOMA%20on%20the%20GPU%20in%20Real%20Time%20%5BS31435%5D/1_xxizk40n/204678303) GTC 演讲并阅读 [步骤 2](02_apsm.ipynb) 中跳过的内容\n",
    "- 阅读 [Nsight Compute 博客](https://developer.nvidia.com/nsight-compute-blogs) 上的有趣帖子或\n",
    "- 观看 [视频](https://developer.nvidia.com/nsight-compute-videos)\n",
    "\n",
    "如果您对 Nsight Compute 有更多疑问，请通过我们的 [论坛](https://devtalk.nvidia.com/default/board/327/nsight-compute-/) 与我们联系或尝试*帮助*："
   ]
  },
  {
   "cell_type": "code",
   "execution_count": null,
   "metadata": {},
   "outputs": [],
   "source": [
    "!ncu --help"
   ]
  }
 ],
 "metadata": {
  "kernelspec": {
   "display_name": "Python 3 (ipykernel)",
   "language": "python",
   "name": "python3"
  },
  "language_info": {
   "codemirror_mode": {
    "name": "ipython",
    "version": 3
   },
   "file_extension": ".py",
   "mimetype": "text/x-python",
   "name": "python",
   "nbconvert_exporter": "python",
   "pygments_lexer": "ipython3",
   "version": "3.8.10"
  }
 },
 "nbformat": 4,
 "nbformat_minor": 4
}
