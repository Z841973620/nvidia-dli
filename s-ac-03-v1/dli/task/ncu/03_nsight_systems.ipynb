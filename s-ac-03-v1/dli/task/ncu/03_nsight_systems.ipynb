{
 "cells": [
  {
   "cell_type": "markdown",
   "metadata": {},
   "source": [
    "# 使用 Nsight Compute 优化在线 5G 机器学习"
   ]
  },
  {
   "cell_type": "markdown",
   "metadata": {},
   "source": [
    "## 03 选择优化目标\n",
    "\n",
    "现在我们已经在 GPU 上运行了代码，我们希望对其瓶颈有一个大致的了解。这将使我们能够正确选择优化目标。我们可以使用 NVIDIA 的 [Nsight Systems](https://developer.nvidia.com/nsight-systems) 来收集应用程序的 CPU 和 GPU CUDA 活动的时间线。下面是结果报告的屏幕截图。\n",
    "\n",
    "多行显示 CPU 利用率、CPU CUDA API 调用和 GPU CUDA 内核（蓝色）。示例应用程序有两个不同的阶段：训练和检测。虽然训练阶段在我们简化的测试应用程序中占据了较长的部分，但我们希望专注于优化检测阶段。**在现实世界中，训练和检测都会运行**（因为这是一个在线机器学习代码），但训练也在内部使用检测代码，使其成为更有价值的优化目标。\n",
    "\n",
    "在 CUDA 流中，我们看到训练阶段由非常短的 kernel_apsm_training 的多次调用组成，而检测阶段是一次相对较长的 `kernel_apsm_detect` 执行。"
   ]
  },
  {
   "cell_type": "markdown",
   "metadata": {},
   "source": [
    "<img src=\"images/nsys_original.png\">"
   ]
  },
  {
   "cell_type": "markdown",
   "metadata": {},
   "source": [
    "由于我们想要优化算法的检测部分，让我们“仔细看看 Nsight Compute 中的 kernel_apsm_detect”。\n",
    "\n",
    "在 [步骤 04](04_nsight_compute.ipynb) 中继续"
   ]
  }
 ],
 "metadata": {
  "kernelspec": {
   "display_name": "Python 3 (ipykernel)",
   "language": "python",
   "name": "python3"
  },
  "language_info": {
   "codemirror_mode": {
    "name": "ipython",
    "version": 3
   },
   "file_extension": ".py",
   "mimetype": "text/x-python",
   "name": "python",
   "nbconvert_exporter": "python",
   "pygments_lexer": "ipython3",
   "version": "3.8.10"
  }
 },
 "nbformat": 4,
 "nbformat_minor": 4
}
