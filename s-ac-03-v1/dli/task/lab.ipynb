{
 "cells": [
  {
   "cell_type": "markdown",
   "metadata": {},
   "source": [
    "# 开发者工具：分析器"
   ]
  },
  {
   "cell_type": "markdown",
   "metadata": {},
   "source": [
    "NVIDIA Developer Tools 是一个应用程序集合，跨越桌面和移动目标，使开发人员能够构建、调试、评测和开发一流的尖端软件，该软件利用 NVIDIA 的最新视觉计算硬件。\n",
    "\n",
    "所有开发人员都应该从Nsight Systems开始，以确定最大的优化机会。`Nsight Systems` 为开发人员提供了应用程序性能的系统范围可视化。开发人员可以优化瓶颈，以便在任意数量或大小的CPU和GPU之间高效扩展，无论您的设备是大型的服务器还是小型的 SoC 。为了进一步优化计算内核，开发人员应该使用 `Nsight compute` 。\n",
    "\n",
    "<img src=\"images/nsight_flow.png\" width=70%>"
   ]
  },
  {
   "cell_type": "markdown",
   "metadata": {},
   "source": [
    "## 使用 Nsight Systems 优化简单 DNN 训练程序\n",
    "\n",
    "本模块介绍如何使用 [NVIDIA Nsight Systems](https://developer.nvidia.com/nsight-systems) 。Nsight Systems 是一个系统范围的性能分析工具，旨在可视化应用程序的算法，帮助您确定最大的优化机会，并进行调整以在任意数量的CPU和GPU之间高效扩展，无论您的设备是大型的服务器还是小型的 SoC 。\n",
    "\n",
    "在本模块中，我们将使用 Nsight Systems 来优化检测手写数字的简单深度神经网络（DNN）训练程序。本模块中讨论的技术和策略将转化为优化任何使用 NVIDIA GPU 的应用程序。"
   ]
  },
  {
   "cell_type": "markdown",
   "metadata": {},
   "source": [
    "[开始 Nsight Systems 课程](nsys/01_introduction.ipynb)"
   ]
  },
  {
   "cell_type": "markdown",
   "metadata": {},
   "source": [
    "## 使用 Nsight Compute 优化在线 5G 机器学习\n",
    "\n",
    "本模块介绍如何使用 [NVIDIA Nsight Compute](https://developer.nvidia.com/nsight-compute) 内核探查器来分析和优化 CUDA 内核。NVIDIA Nsight Compute 是一个用于 CUDA 应用程序的交互式内核探查器。它通过用户界面和命令行工具提供详细的性能指标和 API 调试。此外，它的基线功能允许用户在工具中比较结果。Nsight Compute 提供了一个可定制的数据驱动用户界面和度量集合，并可以使用分析脚本对后处理结果进行扩展。\n",
    "\n",
    "对于练习，我们使用 Heinrich-Hertz-Institute 和 NVIDIA 开发的 5G 在线机器学习代码。"
   ]
  },
  {
   "cell_type": "markdown",
   "metadata": {},
   "source": [
    "[开始 Nsight Compute 课程](ncu/01_introduction.ipynb)"
   ]
  }
 ],
 "metadata": {
  "kernelspec": {
   "display_name": "Python 3 (ipykernel)",
   "language": "python",
   "name": "python3"
  },
  "language_info": {
   "codemirror_mode": {
    "name": "ipython",
    "version": 3
   },
   "file_extension": ".py",
   "mimetype": "text/x-python",
   "name": "python",
   "nbconvert_exporter": "python",
   "pygments_lexer": "ipython3",
   "version": "3.8.10"
  }
 },
 "nbformat": 4,
 "nbformat_minor": 4
}
