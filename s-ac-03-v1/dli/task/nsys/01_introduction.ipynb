{
 "cells": [
  {
   "cell_type": "markdown",
   "metadata": {},
   "source": [
    "# 使用 Nsight Systems 优化简单 DNN 训练程序"
   ]
  },
  {
   "cell_type": "markdown",
   "metadata": {},
   "source": [
    "## 01 介绍\n",
    "\n",
    "本模块介绍如何使用 NVIDIA 的 [Nsight Systems](https://developer.nvidia.com/nsight-systems)（一种系统范围的分析器）来评测、分析和优化应用程序。本模块中的练习将专注于优化检测手写数字的深度神经网络（DNN）训练程序（PyTorch 的 [MNIST 示例版本](https://github.com/pytorch/examples/tree/master/mnist)）。本模块中说明的技术和策略将转化为优化任何使用 NVIDIA GPU 的应用程序。\n",
    "\n",
    "在本模块中，您将学习如何：\n",
    "- 运行示例应用程序\n",
    "- 使用 Nsight Systems 评测应用程序\n",
    "- 解释 Nsight Systems 提供的时间表，并了解应用程序对系统资源的使用\n",
    "- 确定应用程序中的性能问题并应用优化策略\n",
    "- 确认从优化中获得的性能改进\n",
    "\n",
    "本模块使用 Ubuntu 20.04 和 CUDA 12.2。Nsight Systems 包含在 CUDA 12.2 工具包中。让我们使用 `nvidia-smi` 实用程序检查目标系统上已安装的驱动程序和可用的 GPU。请通过以下方式来执行下面的单元格：\n",
    "- 单击此笔记本顶部菜单中的 `play` 按钮\n",
    "- 或使用 `Ctrl+Enter` 键盘快捷键。\n",
    "\n",
    "（注意：请记住这个实用技巧，因为我们将在本课程中反复使用它。）"
   ]
  },
  {
   "cell_type": "code",
   "execution_count": null,
   "metadata": {},
   "outputs": [],
   "source": [
    "!nvidia-smi"
   ]
  },
  {
   "cell_type": "markdown",
   "metadata": {},
   "source": [
    "请继续学习下一节：[运行应用程序](02_pytorch_mnist.ipynb)"
   ]
  }
 ],
 "metadata": {
  "kernelspec": {
   "display_name": "Python 3 (ipykernel)",
   "language": "python",
   "name": "python3"
  },
  "language_info": {
   "codemirror_mode": {
    "name": "ipython",
    "version": 3
   },
   "file_extension": ".py",
   "mimetype": "text/x-python",
   "name": "python",
   "nbconvert_exporter": "python",
   "pygments_lexer": "ipython3",
   "version": "3.8.10"
  }
 },
 "nbformat": 4,
 "nbformat_minor": 4
}
