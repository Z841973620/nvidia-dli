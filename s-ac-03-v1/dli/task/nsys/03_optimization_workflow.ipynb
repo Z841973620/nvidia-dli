{
 "cells": [
  {
   "cell_type": "markdown",
   "metadata": {},
   "source": [
    "# 使用 Nsight Systems 优化简单 DNN 训练程序"
   ]
  },
  {
   "cell_type": "markdown",
   "metadata": {},
   "source": [
    "## 03 优化工作流程\n",
    "\n",
    "典型的优化工作流程如下图所示：\n",
    "\n",
    "<img src=images/Optimization_workflow.jpg width=40%>\n",
    "\n",
    "这是一个迭代过程，主要包含3个步骤：\n",
    "1. 分析应用程序\n",
    "2. 检查并分析配置文件以识别任何瓶颈\n",
    "3. 优化应用程序以解决瓶颈\n",
    "\n",
    "让我们在 [步骤 04](04_cpu_bottleneck.ipynb) 中看看 Nsight Systems 的优化工作流程"
   ]
  }
 ],
 "metadata": {
  "kernelspec": {
   "display_name": "Python 3 (ipykernel)",
   "language": "python",
   "name": "python3"
  },
  "language_info": {
   "codemirror_mode": {
    "name": "ipython",
    "version": 3
   },
   "file_extension": ".py",
   "mimetype": "text/x-python",
   "name": "python",
   "nbconvert_exporter": "python",
   "pygments_lexer": "ipython3",
   "version": "3.8.10"
  }
 },
 "nbformat": 4,
 "nbformat_minor": 4
}
