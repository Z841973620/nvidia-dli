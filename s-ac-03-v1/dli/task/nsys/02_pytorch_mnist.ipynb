{
 "cells": [
  {
   "cell_type": "markdown",
   "metadata": {},
   "source": [
    "# 使用 Nsight Systems 优化简单 DNN 训练程序"
   ]
  },
  {
   "cell_type": "markdown",
   "metadata": {},
   "source": [
    "## 02 运行应用程序\n",
    "\n",
    "[MNIST 数据库](https://en.wikipedia.org/wiki/MNIST_database)（修改后的国家标准和技术研究所数据库）是一个手写数字的大型数据库。我们将使用它来训练识别手写数字的深度神经网络（DNN）。\n",
    "\n",
    "<img src=\"images/MnistExamples.png\">\n",
    "\n",
    "*Josef Steppan的MNIST测试数据集的样本图像根据 [CC BY-SA 4.0](https://creativecommons.org/licenses/by-sa/4.0/) 获得许可*\n",
    "\n",
    "我们将专注于一个简单的 [DNN 训练项目](application/main_baseline.py)，该项目来源于 https://github.com/pytorch/examples/tree/master/mnist 。它使用 [PyTorch](https://github.com/pytorch/pytorch) 框架，并使用目标系统上可用的 GPU 进行加速。执行以下单元格以运行程序。"
   ]
  },
  {
   "cell_type": "code",
   "execution_count": null,
   "metadata": {
    "scrolled": true,
    "tags": []
   },
   "outputs": [],
   "source": [
    "!cd /dli/task/nsys/application && time python3 main_baseline.py"
   ]
  },
  {
   "cell_type": "markdown",
   "metadata": {},
   "source": [
    "在等待程序运行时，让我们看一下此应用程序的简短介绍。训练分批次、分阶段进行。对于每个批次，\n",
    "- 数据复制到 GPU，\n",
    "- 在 GPU 上运行正向传递，\n",
    "- 在 GPU 上运行反向传递。\n",
    "\n",
    "在 [main_baseline.py](application/main_baseline.py) 上查看训练项目的完整 Python 代码。\n",
    "\n",
    "您可以看到下面的屏幕截图中注释的训练算法的三个步骤。\n",
    "\n",
    "<img src=\"images/Training_program.jpg\" width=70%>\n",
    "\n",
    "让我们看看典型的优化工作流程以及 Nsight Systems 如何在 [步骤 03](03_optimization_workflow.ipynb) 中为您提供帮助"
   ]
  }
 ],
 "metadata": {
  "kernelspec": {
   "display_name": "Python 3 (ipykernel)",
   "language": "python",
   "name": "python3"
  },
  "language_info": {
   "codemirror_mode": {
    "name": "ipython",
    "version": 3
   },
   "file_extension": ".py",
   "mimetype": "text/x-python",
   "name": "python",
   "nbconvert_exporter": "python",
   "pygments_lexer": "ipython3",
   "version": "3.8.10"
  }
 },
 "nbformat": 4,
 "nbformat_minor": 4
}
