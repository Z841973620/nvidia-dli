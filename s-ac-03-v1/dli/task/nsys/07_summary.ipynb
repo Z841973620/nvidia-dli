{
 "cells": [
  {
   "cell_type": "markdown",
   "metadata": {},
   "source": [
    "# 使用 Nsight Systems 优化简单 DNN 训练程序"
   ]
  },
  {
   "cell_type": "markdown",
   "metadata": {},
   "source": [
    "恭喜！您已完成 Nsight Systems 培训模块“优化简单的 DNN 培训程序”。我们希望您喜欢本模块，并学习了有关如何使用 Nsight Systems 优化应用程序以有效利用系统资源的有用技术和策略。\n",
    "\n",
    "如果您有兴趣了解有关该工具的更多信息，以下是一些资源：\n",
    "- 从 http://developer.nvidia.com/nsight-systems 免费下载 Nsight Systems\n",
    "\n",
    "**培训**\n",
    "- 文档位于 https://docs.nvidia.com/nsight-systems/index.html\n",
    "- 博客文章：https://developer.nvidia.com/blog/tag/nsight-systems/\n",
    "\n",
    "**问题/请求/评论**\n",
    "- 发送电子邮件至 nsight-systems@nvidia.com\n",
    "- 开发者论坛：https://devtalk.nvidia.com/default/board/308/nsight-systems/\n",
    "\n",
    "您现在可以继续本课程的 Nsight Compute 部分。请点击 [这里](../ncu/01_introduction.ipynb) 。"
   ]
  }
 ],
 "metadata": {
  "kernelspec": {
   "display_name": "Python 3 (ipykernel)",
   "language": "python",
   "name": "python3"
  },
  "language_info": {
   "codemirror_mode": {
    "name": "ipython",
    "version": 3
   },
   "file_extension": ".py",
   "mimetype": "text/x-python",
   "name": "python",
   "nbconvert_exporter": "python",
   "pygments_lexer": "ipython3",
   "version": "3.8.10"
  }
 },
 "nbformat": 4,
 "nbformat_minor": 4
}
