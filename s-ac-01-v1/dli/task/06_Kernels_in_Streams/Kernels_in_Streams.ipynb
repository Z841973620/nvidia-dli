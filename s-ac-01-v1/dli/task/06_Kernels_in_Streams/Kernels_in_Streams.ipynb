{
 "cells": [
  {
   "cell_type": "markdown",
   "metadata": {},
   "source": [
    "<h1 style=\"color:#65AE11;\">非默认流中的核函数启动</h1>"
   ]
  },
  {
   "cell_type": "markdown",
   "metadata": {},
   "source": [
    "本节中，你将学习如何在非默认流中启动核函数。"
   ]
  },
  {
   "cell_type": "markdown",
   "metadata": {},
   "source": [
    "<h2 style=\"color:#65AE11;\">目标</h2>"
   ]
  },
  {
   "cell_type": "markdown",
   "metadata": {},
   "source": [
    "完成本节内容的学习后，你将：\n",
    "\n",
    "* 了解如何创建非默认流\n",
    "* 能够在非默认流中启动核函数\n",
    "* 了解如何在 Nsight Systems 中观察非默认流中的操作\n",
    "* 了解如何销毁非默认流"
   ]
  },
  {
   "cell_type": "markdown",
   "metadata": {},
   "source": [
    "<h2 style=\"color:#65AE11;\">演示</h2>"
   ]
  },
  {
   "cell_type": "markdown",
   "metadata": {},
   "source": [
    "运行以下单元以加载本节的视频演示。看完演示后，继续完成此 Notebook 的余下部分。"
   ]
  },
  {
   "cell_type": "code",
   "execution_count": null,
   "metadata": {},
   "outputs": [],
   "source": [
    "%%html\n",
    "<video width=\"800\" controls>\n",
    "  <source src=\"https://dli-lms.s3.us-east-1.amazonaws.com/assets/s-ac-01-v1-zh/06-kernels-streams-01.mp4\" type=\"video/mp4\">\n",
    "  Your browser does not support HTML video.\n",
    "</video>"
   ]
  },
  {
   "cell_type": "markdown",
   "metadata": {},
   "source": [
    "<h2 style=\"color:#65AE11;\">创建非默认流</h2>"
   ]
  },
  {
   "cell_type": "markdown",
   "metadata": {},
   "source": [
    "要创建新的非默认流，请向 `cudaStreamCreate` 传递一个 `cudaStream_t` 指针："
   ]
  },
  {
   "cell_type": "markdown",
   "metadata": {},
   "source": [
    "```c\n",
    "cudaStream_t stream;\n",
    "cudaStreamCreate(&stream);\n",
    "```"
   ]
  },
  {
   "cell_type": "markdown",
   "metadata": {},
   "source": [
    "<h2 style=\"color:#65AE11;\">在非默认流中启动核函数</h2>"
   ]
  },
  {
   "cell_type": "markdown",
   "metadata": {},
   "source": [
    "要在非默认流中启动核函数，请传递一个非默认流标识符，将其作为该函数的第 4 个启动配置参数。由于核函数的第 3 个启动配置参数定义了动态分配的共享显存，因此如果你不打算修改其默认值，则可能需向其传递 `0`（由于未使用共享显存，所以使用其默认值）："
   ]
  },
  {
   "cell_type": "markdown",
   "metadata": {},
   "source": [
    "```c\n",
    "cudaStream_t stream;\n",
    "cudaStreamCreate(&stream);\n",
    "\n",
    "kernel<<<grid, blocks, 0, stream>>>();\n",
    "```"
   ]
  },
  {
   "cell_type": "markdown",
   "metadata": {},
   "source": [
    "<h2 style=\"color:#65AE11;\">销毁非默认流</h2>"
   ]
  },
  {
   "cell_type": "markdown",
   "metadata": {},
   "source": [
    "完成相关操作后，你可以向 `cudaStreamDestroy` 传递一个非默认流标识符来销毁非默认流："
   ]
  },
  {
   "cell_type": "markdown",
   "metadata": {},
   "source": [
    "```c\n",
    "cudaStream_t stream;\n",
    "cudaStreamCreate(&stream);\n",
    "\n",
    "kernel<<<grid, blocks, 0, stream>>>();\n",
    "\n",
    "cudaStreamDestroy(stream);\n",
    "```"
   ]
  },
  {
   "cell_type": "markdown",
   "metadata": {},
   "source": [
    "<h2 style=\"color:#65AE11;\">练习：在非默认流中启动核函数</h2>"
   ]
  },
  {
   "cell_type": "markdown",
   "metadata": {},
   "source": [
    "打开并重构 [*06_Kernels_in_Streams/baseline_cipher/baseline.cu*](baseline_cipher/baseline.cu)，以在非默认流中启动 `decrypt_gpu` 核函数（在 65 行附近）。\n",
    "\n",
    "使用 JupyterLab 终端并从 *06_Kernels_in_Streams/baseline_cipher* 目录内运行 `make profile`，为重构后的应用生成报告文件。（详情请参阅 [*Makefile*](baseline_cipher/Makefile)）。\n",
    "\n",
    "在Nsight Systems中打开报告文件。若已关闭 Nsight Systems 选项卡，您可以按照[*Nsight系统设置*](../04_Nsight_Systems_Setup/Nsight_Systems_Setup.ipynb)中的说明重新打开它。 提醒一下，密码为`nvidia`。\n",
    "\n",
    "如果操作成功，您应能注意到 Nsight Systems 可视化时间表现会显示流的信息，并且核函数启动发生在某个非默认流中，如下方屏幕截图所示。\n",
    "\n",
    "如您遇到困难，请参阅 [06_Kernels_in_Streams/baseline_cipher/baseline_solution.cu](../06_Kernels_in_Streams/baseline_cipher/baseline_solution.cu)。"
   ]
  },
  {
   "cell_type": "markdown",
   "metadata": {},
   "source": [
    "![kernel_in_stream](images/kernel_in_stream.png)"
   ]
  },
  {
   "cell_type": "markdown",
   "metadata": {},
   "source": [
    "<h2 style=\"color:#65AE11;\">下一步</h2>"
   ]
  },
  {
   "cell_type": "markdown",
   "metadata": {},
   "source": [
    "现在你已可在非默认流中启动核函数，下一节中，你将在非默认流中启动内存传输。\n",
    "\n",
    "请继续学习下一节：[*流中的 Memcpy*](../07_Memcpy_in_Streams/Memcpy_in_Streams.ipynb)。"
   ]
  },
  {
   "cell_type": "markdown",
   "metadata": {},
   "source": [
    "<h2 style=\"color:#65AE11;\">可选深入研究</h2>"
   ]
  },
  {
   "cell_type": "markdown",
   "metadata": {},
   "source": [
    "以下内容适用于有时间且有兴趣就本研讨会相关主题进行额外研究的学员。\n",
    "\n",
    "* 在单个内核无法使设备充分运转的情况下，可以考虑使用流[同时启动多个内核](https://docs.nvidia.com/cuda/cuda-c-best-practices-guide/index.html#concurrent-kernel-execution)。\n",
    "* 有关 CUDA 流管理功能的全部内容，请参见 CUDA 运行时 API 文档中的[流管理](https://docs.nvidia.com/cuda/cuda-runtime-api/group__CUDART__STREAM.html)。"
   ]
  }
 ],
 "metadata": {
  "kernelspec": {
   "display_name": "Python 3 (ipykernel)",
   "language": "python",
   "name": "python3"
  },
  "language_info": {
   "codemirror_mode": {
    "name": "ipython",
    "version": 3
   },
   "file_extension": ".py",
   "mimetype": "text/x-python",
   "name": "python",
   "nbconvert_exporter": "python",
   "pygments_lexer": "ipython3",
   "version": "3.9.7"
  }
 },
 "nbformat": 4,
 "nbformat_minor": 4
}
