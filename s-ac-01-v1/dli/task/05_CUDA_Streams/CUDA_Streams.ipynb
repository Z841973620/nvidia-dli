{
 "cells": [
  {
   "cell_type": "markdown",
   "metadata": {},
   "source": [
    "<h1 style=\"color:#65AE11;\">CUDA 流简介</h1>"
   ]
  },
  {
   "cell_type": "markdown",
   "metadata": {},
   "source": [
    "本节中，我们将为你概述并发 CUDA 流、CUDA 流的行为方式及其可在何种情况下用于 CUDA 应用。"
   ]
  },
  {
   "cell_type": "markdown",
   "metadata": {},
   "source": [
    "<h2 style=\"color:#65AE11;\">目标</h2>"
   ]
  },
  {
   "cell_type": "markdown",
   "metadata": {},
   "source": [
    "完成本节内容的学习后，你将：\n",
    "\n",
    "* 了解 CUDA 流的概念\n",
    "* 了解用于控制流行为的规则\n",
    "* 了解特殊默认流的行为\n",
    "* 了解可用于传输显存和启动核函数的 CUDA 流"
   ]
  },
  {
   "cell_type": "markdown",
   "metadata": {},
   "source": [
    "<h2 style=\"color:#65AE11;\">演示</h2>"
   ]
  },
  {
   "cell_type": "markdown",
   "metadata": {},
   "source": [
    "运行以下单元以加载本节的视频演示。看完演示后，继续完成此 Notebook 的余下部分。"
   ]
  },
  {
   "cell_type": "code",
   "execution_count": null,
   "metadata": {},
   "outputs": [],
   "source": [
    "%%html\n",
    "<video width=\"800\" controls>\n",
    "  <source src=\"https://dli-lms.s3.us-east-1.amazonaws.com/assets/s-ac-01-v1-zh/05-cuda-streams-01.mp4\" type=\"video/mp4\">\n",
    "  Your browser does not support HTML video.\n",
    "</video>"
   ]
  },
  {
   "cell_type": "markdown",
   "metadata": {},
   "source": [
    "<h2 style=\"color:#65AE11;\">知识检查</h2>"
   ]
  },
  {
   "cell_type": "markdown",
   "metadata": {},
   "source": [
    "请回答下列问题，确认你已了解本节的主要目标。你可以通过单击问题下方的`...`单元来显示每个问题的答案。"
   ]
  },
  {
   "cell_type": "markdown",
   "metadata": {},
   "source": [
    "---"
   ]
  },
  {
   "cell_type": "markdown",
   "metadata": {},
   "source": [
    "**以下哪句对一个 CUDA 流的描述最恰当？**\n",
    "\n",
    "1. 可从多个并行线程中读取的数据缓冲区\n",
    "2. 一种用于在 GPU 上并发运行任何操作的方法\n",
    "3. 用于协调来自多个 CPU 的指令的 CUDA 机制\n",
    "4. 按发布顺序执行的一系列操作"
   ]
  },
  {
   "cell_type": "markdown",
   "metadata": {
    "jupyter": {
     "source_hidden": true
    },
    "tags": []
   },
   "source": [
    "**答案：4**"
   ]
  },
  {
   "cell_type": "markdown",
   "metadata": {},
   "source": [
    "---"
   ]
  },
  {
   "cell_type": "markdown",
   "metadata": {},
   "source": [
    "**用于控制非默认流行为的两条规则是什么？**\n",
    "\n",
    "1. 在同一非默认流中发布的操作将并行执行\n",
    "2. 同一流中的操作将依发布顺序执行\n",
    "3. 在不同非默认流中发布的操作之间没有必然顺序\n",
    "4. 不同非默认流中的操作将始终并行执行"
   ]
  },
  {
   "cell_type": "markdown",
   "metadata": {
    "jupyter": {
     "source_hidden": true
    }
   },
   "source": [
    "**答案：2、3**"
   ]
  },
  {
   "cell_type": "markdown",
   "metadata": {},
   "source": [
    "---"
   ]
  },
  {
   "cell_type": "markdown",
   "metadata": {},
   "source": [
    "**关于默认流，下面哪些表述是正确的？请选择所有适用项。**\n",
    "\n",
    "1. 默认流中的操作无法与任何非默认流中的操作同时执行\n",
    "2. 默认流可被用来实现内存复制和 GPU 计算的重叠\n",
    "3. 默认情况下，核函数的启动及许多其它 CUDA Runtime调用均在默认流中运行\n",
    "4. 默认流也称为“Stream 0”或“NULL stream”"
   ]
  },
  {
   "cell_type": "markdown",
   "metadata": {
    "jupyter": {
     "source_hidden": true
    }
   },
   "source": [
    "**答案：1、3、4**"
   ]
  },
  {
   "cell_type": "markdown",
   "metadata": {},
   "source": [
    "---"
   ]
  },
  {
   "cell_type": "markdown",
   "metadata": {},
   "source": [
    "**以下哪项可以在非默认流中执行？可参考 [CUDA 运行时 API 文档](https://docs.nvidia.com/cuda/cuda-runtime-api/group__CUDART__MEMORY.html)。请选择所有适用项。**\n",
    "\n",
    "1. cudaMalloc\n",
    "2. cudaMemcpy\n",
    "3. cudaMemcpyAsync\n",
    "4. 核函数的启动"
   ]
  },
  {
   "cell_type": "markdown",
   "metadata": {
    "jupyter": {
     "source_hidden": true
    }
   },
   "source": [
    "**答案：3、4**\n",
    "\n",
    "查找类型为 `cudaStream_t` 的参数，确定哪些函数需要流参数。核函数启动也始终在流中执行。"
   ]
  },
  {
   "cell_type": "markdown",
   "metadata": {},
   "source": [
    "---"
   ]
  },
  {
   "cell_type": "markdown",
   "metadata": {},
   "source": [
    "**核函数启动始终发生在流中。**\n",
    "\n",
    "1. 正确\n",
    "2. 错误"
   ]
  },
  {
   "cell_type": "markdown",
   "metadata": {
    "jupyter": {
     "source_hidden": true
    },
    "tags": []
   },
   "source": [
    "**答案：1**\n",
    "\n",
    "如未指定流参数，核函数启动将发生在默认流中。"
   ]
  },
  {
   "cell_type": "markdown",
   "metadata": {},
   "source": [
    "---"
   ]
  },
  {
   "cell_type": "markdown",
   "metadata": {},
   "source": [
    "**程序员如何定义要在哪个流中启动核函数？**\n",
    "\n",
    "1. 通过在核函数的启动配置中使用第 3 个参数\n",
    "2. 通过在核函数的启动配置中使用第 4 个参数\n",
    "3. 无法实现。核函数启动始终发生在默认流中"
   ]
  },
  {
   "cell_type": "markdown",
   "metadata": {
    "jupyter": {
     "source_hidden": true
    },
    "tags": []
   },
   "source": [
    "**答案：2**"
   ]
  },
  {
   "cell_type": "markdown",
   "metadata": {},
   "source": [
    "---"
   ]
  },
  {
   "cell_type": "markdown",
   "metadata": {},
   "source": [
    "<h2 style=\"color:#65AE11;\">下一步</h2>"
   ]
  },
  {
   "cell_type": "markdown",
   "metadata": {},
   "source": [
    "现在你已大致了解 CUDA 流行为，在接下来的两节课中，你将学习用于在非默认流中启动核函数及执行特定 CUDA 运行时函数的语法。\n",
    "\n",
    "请继续学习下一节：[*流中的核函数*](../06_Kernels_in_Streams/Kernels_in_Streams.ipynb)。"
   ]
  },
  {
   "cell_type": "markdown",
   "metadata": {},
   "source": [
    "<h2 style=\"color:#65AE11;\">选择进一步学习</h2>"
   ]
  },
  {
   "cell_type": "markdown",
   "metadata": {},
   "source": [
    "以下内容供有时间和兴趣的学生对与本课程相关的主题进行更深入的学习。\n",
    "\n",
    "* [CUDA编程指南](https://docs.nvidia.com/cuda/cuda-c-programming-guide/index.html#asynchronous-concurrent-execution)广泛地讨论了异步并发代码执行，包括许多其它有关使用CUDA流的详细信息。\n",
    "* CUDA 10引入了[CUDA Graphs](https://developer.nvidia.com/blog/cuda-graphs/)，在某些情况下可以将其视为CUDA流的替代方案。 如[*CUDA 10 Features Revealed*](https://developer.nvidia.com/blog/cuda-10-features-revealed/)中所述：“一个图由一系列操作构成，例如内存拷贝和内核启动，操作之间通过依赖关系进行连接，并与具体的执行分开定义。这种图为我们提供了**一次定义-重复执行**的流程”"
   ]
  }
 ],
 "metadata": {
  "kernelspec": {
   "display_name": "Python 3 (ipykernel)",
   "language": "python",
   "name": "python3"
  },
  "language_info": {
   "codemirror_mode": {
    "name": "ipython",
    "version": 3
   },
   "file_extension": ".py",
   "mimetype": "text/x-python",
   "name": "python",
   "nbconvert_exporter": "python",
   "pygments_lexer": "ipython3",
   "version": "3.9.7"
  }
 },
 "nbformat": 4,
 "nbformat_minor": 4
}
