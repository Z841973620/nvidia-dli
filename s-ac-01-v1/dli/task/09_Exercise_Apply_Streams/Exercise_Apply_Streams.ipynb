{
 "cells": [
  {
   "cell_type": "markdown",
   "metadata": {},
   "source": [
    "<h1 style=\"color:#65AE11;\">练习：应用复制和计算重叠</h1>"
   ]
  },
  {
   "cell_type": "markdown",
   "metadata": {},
   "source": [
    "本节中，你将在密码应用中执行复制和计算的重叠。"
   ]
  },
  {
   "cell_type": "markdown",
   "metadata": {},
   "source": [
    "<h2 style=\"color:#65AE11;\">目标</h2>"
   ]
  },
  {
   "cell_type": "markdown",
   "metadata": {},
   "source": [
    "完成本节内容的学习后，你将：\n",
    "\n",
    "* 能够在 CUDA C++ 应用中使用 CUDA 流执行复制和计算的重叠\n",
    "* 在 Nsight Systems 时间表中观察复制和计算的重叠"
   ]
  },
  {
   "cell_type": "markdown",
   "metadata": {},
   "source": [
    "<h2 style=\"color:#65AE11;\">演示</h2>"
   ]
  },
  {
   "cell_type": "markdown",
   "metadata": {},
   "source": [
    "运行以下单元以加载本节的视频演示。看完演示后，继续完成此 Notebook 的余下部分。"
   ]
  },
  {
   "cell_type": "code",
   "execution_count": null,
   "metadata": {},
   "outputs": [],
   "source": [
    "%%html\n",
    "<video width=\"800\" controls>\n",
    "  <source src=\"https://dli-lms.s3.us-east-1.amazonaws.com/assets/s-ac-01-v1-zh/09-copy-compute-overlap-01.mp4\" type=\"video/mp4\">\n",
    "  Your browser does not support HTML video.\n",
    "</video>"
   ]
  },
  {
   "cell_type": "markdown",
   "metadata": {},
   "source": [
    "<h2 style=\"color:#65AE11;\">练习说明</h2>"
   ]
  },
  {
   "cell_type": "markdown",
   "metadata": {},
   "source": [
    "应用先前各节中讲述的方法在 [streams.cu](streams_cipher/streams.cu) 中执行复制和计算的重叠。\n",
    "\n",
    "在终端运行 `make streams` 以编译程序，然后运行 `./streams` 以运行此程序。你将看到定时输出，此时请检查结果的正确性。详情请参阅 [Makefile](streams_cipher/Makefile)。\n",
    "\n",
    "在成功进行重构后，调整流的数量（进而调整存储块的大小），然后重新运行以尝试找到最佳流数量。\n",
    "\n",
    "**我们的目标是让 GPU 上的总操作时长（包括内存传输）低于 100 毫秒，甚至低于 75 毫秒。**\n",
    "\n",
    "在终端运行 `make profile` 以生成报告文件，此文件将被命名为 `streams-report.qdrep` 并可在 Nsight Systems 中打开。详情请参阅 [Makefile](streams_cipher/Makefile)。\n",
    "\n",
    "以下屏幕截图显示，所有主机到设备的内存传输（绿色）和设备到主机的内存传输（紫罗兰色）几乎都已与 GPU 计算（蓝色）重叠："
   ]
  },
  {
   "cell_type": "markdown",
   "metadata": {},
   "source": [
    "![流解决方案](images/streams_solution.png)"
   ]
  },
  {
   "cell_type": "markdown",
   "metadata": {},
   "source": [
    "<h2 style=\"color:#65AE11;\">练习提示</h2>"
   ]
  },
  {
   "cell_type": "markdown",
   "metadata": {},
   "source": [
    "如果需要，你可以展开下列提示来获取指导："
   ]
  },
  {
   "cell_type": "markdown",
   "metadata": {
    "jupyter": {
     "source_hidden": true
    },
    "tags": []
   },
   "source": [
    "* 您的所有工作都应位于 `main` 函数中\n",
    "* 定义流的数量\n",
    "* 创建所定义数量的流并将这些流存储在数组中\n",
    "* 使用数据的条目数和流的数量为每个流的工作定义数据块的大小。需要记住的是，出于上一节中讨论的原因，请使用向上舍入除法辅助函数 `sdiv`\n",
    "* 对于您已创建的每个流：\n",
    "  * 为其创建索引，以便正确地从全局数据内部访属于该流的数据块\n",
    "  * 将其数据块异步复制到设备\n",
    "  * 对其数据块执行 `decryptGPU` 计算\n",
    "  * 将其数据块异步复制回主机\n",
    "  * 在CPU上继续检查结果之前同步每个流\n",
    "* `make clean` 将删除所有二进制文件和报告文件  \n",
    "* 您可以根据需要编辑 [*Makefile*](streams_cipher/Makefile)，例如对其进行编辑以更改所生成的二进制文件或报告文件的名称。当然，您也可直接在终端输入 *Makefile* 中的命令\n",
    "* 如果有时间，您可以尝试使用不同的流数量，以缩短应用程序在 GPU 上花费的总时间"
   ]
  },
  {
   "cell_type": "markdown",
   "metadata": {},
   "source": [
    "<h2 style=\"color:#65AE11;\">练习答案</h2>"
   ]
  },
  {
   "cell_type": "markdown",
   "metadata": {},
   "source": [
    "在你完成工作后，或者如果你遇到困难，请参阅 [答案](streams_cipher/streams_solution.cu)。如果愿意，你可以使用 `make streams_solution` 编译答案，或者使用 `make profile_solution` 生成可在 Nsight Systems 中查看的报告文件。"
   ]
  },
  {
   "cell_type": "markdown",
   "metadata": {},
   "source": [
    "<h2 style=\"color:#65AE11;\">下一步</h2>"
   ]
  },
  {
   "cell_type": "markdown",
   "metadata": {},
   "source": [
    "恭喜！你已了解了在 CUDA C++ 操作中应用复制/计算重叠所需的所有知识，并使用 Nsight Systems 可视化分析器观察性能增益。在下一节中，我们将向你介绍课程问卷调查，并提供指导，助你参加课程考核以获得课程能力证书。\n",
    "\n",
    "请继续学习下一节：[*课程总结*](../10_Conclusion/Conclusion.ipynb)。"
   ]
  }
 ],
 "metadata": {
  "kernelspec": {
   "display_name": "Python 3 (ipykernel)",
   "language": "python",
   "name": "python3"
  },
  "language_info": {
   "codemirror_mode": {
    "name": "ipython",
    "version": 3
   },
   "file_extension": ".py",
   "mimetype": "text/x-python",
   "name": "python",
   "nbconvert_exporter": "python",
   "pygments_lexer": "ipython3",
   "version": "3.9.7"
  }
 },
 "nbformat": 4,
 "nbformat_minor": 4
}
