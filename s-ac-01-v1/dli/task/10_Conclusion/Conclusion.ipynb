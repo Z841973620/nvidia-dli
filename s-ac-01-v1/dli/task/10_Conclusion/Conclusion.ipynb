{
 "cells": [
  {
   "cell_type": "markdown",
   "metadata": {},
   "source": [
    "![DLI 标题](./images/DLI_Header.png)"
   ]
  },
  {
   "cell_type": "markdown",
   "metadata": {},
   "source": [
    "<h1 style=\"color:#65AE11;\">通过并发流加速 CUDA C++ 应用程序</h1>"
   ]
  },
  {
   "cell_type": "markdown",
   "metadata": {},
   "source": [
    "祝贺你，目前你已在这次富有挑战性的研讨会中取得非凡成果！"
   ]
  },
  {
   "cell_type": "markdown",
   "metadata": {},
   "source": [
    "<h2 style=\"color:#65AE11;\">演示</h2>"
   ]
  },
  {
   "cell_type": "markdown",
   "metadata": {},
   "source": [
    "运行以下单元以加载本节的视频演示。看完演示后，继续完成此 Notebook 的余下部分。"
   ]
  },
  {
   "cell_type": "code",
   "execution_count": null,
   "metadata": {},
   "outputs": [],
   "source": [
    "%%html\n",
    "<video width=\"800\" controls>\n",
    "  <source src=\"https://dli-lms.s3.us-east-1.amazonaws.com/assets/s-ac-01-v1-zh/10-conclusion-01.mp4\" type=\"video/mp4\">\n",
    "  Your browser does not support HTML video.\n",
    "</video>"
   ]
  },
  {
   "cell_type": "markdown",
   "metadata": {},
   "source": [
    "<h2 style=\"color:#65AE11;\">概览</h2>"
   ]
  },
  {
   "cell_type": "markdown",
   "metadata": {},
   "source": [
    "你在本次研讨会中取得的成果为：\n",
    "* 了解了控制 CUDA 流的关键规则\n",
    "* 了解了如何使用非默认流来启动核函数并执行异步转储\n",
    "* 成功重构和优化了 CUDA C++ 应用，加速利用复制/计算重叠，速度提升了约 2 倍\n",
    "* 在 Nsight Systems 可视化性能分析器中观察了你的工作成效"
   ]
  },
  {
   "cell_type": "markdown",
   "metadata": {},
   "source": [
    "<h2 style=\"color:#65AE11;\">课程问卷调查</h2>"
   ]
  },
  {
   "cell_type": "markdown",
   "metadata": {},
   "source": [
    "非常感谢你在本次研讨会上投入的时间、兴趣和努力。请填写[课程问卷调查](https://learn.next.courses.nvidia.com/courses/course-v1:DLI+S-AC-01+V1-ZH/courseware/85f2a3ac16a0476685257996b84001ad/8199a99f2e204a0aa8b005966aa3a928/?activate_block_id=block-v1%3ADLI%2BS-AC-01%2BV1-ZH%2Btype%40sequential%2Bblock%408199a99f2e204a0aa8b005966aa3a928)，帮助以后的学生也能拥有愉快的体验。"
   ]
  },
  {
   "cell_type": "markdown",
   "metadata": {},
   "source": [
    "<h2 style=\"color:#65AE11;\">课程考核</h2>"
   ]
  },
  {
   "cell_type": "markdown",
   "metadata": {},
   "source": [
    "如果你想在研讨会上获得 __*合格证书*__ ，请继续并完成[课程考核](https://learn.next.courses.nvidia.com/courses/course-v1:DLI+S-AC-01+V1-ZH/courseware/85f2a3ac16a0476685257996b84001ad/8f242bc0189c4c77966fcc3274094b9e/?activate_block_id=block-v1%3ADLI%2BS-AC-01%2BV1-ZH%2Btype%40sequential%2Bblock%408f242bc0189c4c77966fcc3274094b9e)。\n",
    "\n",
    "每个问题都是多选题，请选择所有适用答案。如果答错问题，将需要等待 2 分钟，然后才能重试，因此请务必仔细斟酌答案。\n",
    "\n",
    "90 分或以上为及格。你可以访问课程[进度页面](https://courses.nvidia.com/courses/course-v1:DLI+S-AC-01+V1-ZH/progress)查看进度，同时系统会在你成绩合格后，在那生成证书。\n",
    "\n",
    "祝你好运！"
   ]
  }
 ],
 "metadata": {
  "kernelspec": {
   "display_name": "Python 3",
   "language": "python",
   "name": "python3"
  },
  "language_info": {
   "codemirror_mode": {
    "name": "ipython",
    "version": 3
   },
   "file_extension": ".py",
   "mimetype": "text/x-python",
   "name": "python",
   "nbconvert_exporter": "python",
   "pygments_lexer": "ipython3",
   "version": "3.9.12"
  }
 },
 "nbformat": 4,
 "nbformat_minor": 4
}
