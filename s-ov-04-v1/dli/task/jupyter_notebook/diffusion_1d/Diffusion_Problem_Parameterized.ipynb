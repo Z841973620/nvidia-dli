{
 "cells": [
  {
   "cell_type": "markdown",
   "metadata": {},
   "source": [
    "# 参数化偏微分方程\n",
    "\n",
    "正如我们之前所讨论的，PINN 求解器相对于传统数值方法的一个重要优势是它能够求解参数化的几何结构和偏微分方程。这最初是在 Sun 等人发表的[论文](https://arxiv.org/abs/1906.02382)中提出的。这为我们带来了显著的计算优势，因为现在我们可以在一次训练中使用 PINN 来求解多个设计/案例。训练完成后，可以作为后处理步骤对多个几何/物理参数组合进行推理，而无需再次求解正问题。\n",
    "\n",
    "为了演示这一概念，我们将训练相同的一维扩散问题，但现在通过参数化范围 (5, 25) 中第一个条的电导率。训练完成后，我们可以获得该范围内任意电导率值的结果，从而节省了训练多个模型的时间。"
   ]
  },
  {
   "cell_type": "markdown",
   "metadata": {},
   "source": [
    "## 案例设置\n",
    "\n",
    "本部分的方程定义保持不变。由于之前定义方程时，我们已经将偏微分方程的常数和系数定义为数值或字符串，因此在调用方程和构建神经网络时，我们可以将 `D1` 参数化为字符串。现在，我们开始创建参数化的训练域。我们将跳过与上一节相同的部分，仅讨论变化部分。完整脚本位于 [`diffusion_bar_parameterized.py`](../../source_code/diffusion_1d/diffusion_bar_parameterized.py)。"
   ]
  },
  {
   "cell_type": "markdown",
   "metadata": {},
   "source": [
    "## 添加参数化偏微分方程和神经网络节点\n",
    "\n",
    "在开始创建节点和域之前，我们将为 $D_1$ 创建符号变量，并指定该变量的变化范围。在模拟运行时，我们将使用之前求解的相同扩散系数（即 $D_1=10$）对其进行验证。"
   ]
  },
  {
   "cell_type": "markdown",
   "metadata": {},
   "source": [
    "```python\n",
    "# params for domain\n",
    "L1 = Line1D(0, 1)\n",
    "L2 = Line1D(1, 2)\n",
    "\n",
    "D1 = Symbol(\"D1\")\n",
    "D1_range = {D1: (5, 25)}\n",
    "D1_validation = 1e1\n",
    "\n",
    "D2 = 1e-1\n",
    "\n",
    "Tc = 100\n",
    "Ta = 0\n",
    "Tb = (Tc + (D1 / D2) * Ta) / (1 + (D1 / D2))\n",
    "Tb_validation = float(Tb.evalf(subs={D1: 1e1}))\n",
    "\n",
    "print(Ta)\n",
    "print(Tb)\n",
    "print(Tc)\n",
    "```"
   ]
  },
  {
   "cell_type": "markdown",
   "metadata": {},
   "source": [
    "为了训练参数化模型，我们将刚刚定义的符号参数作为 `diff_net_u_1` 和 `diff_net_u_2` 中神经网络的输入，即 `'D1'` 以及通常的 x 坐标。输出与任何其他非参数化模拟的输出相同。这样，网络就能学习一个同时以 `'x'` 和 `'D1'` 作为输入的函数。"
   ]
  },
  {
   "cell_type": "markdown",
   "metadata": {},
   "source": [
    "```python\n",
    "@modulus.main(config_path=\"conf\", config_name=\"config_param\")\n",
    "def run(cfg: ModulusConfig) -> None:\n",
    "    # make list of nodes to unroll graph on\n",
    "    diff_u1 = Diffusion(T=\"u_1\", D=\"D1\", dim=1, time=False)\n",
    "    diff_u2 = Diffusion(T=\"u_2\", D=D2, dim=1, time=False)\n",
    "    diff_in = DiffusionInterface(\"u_1\", \"u_2\", \"D1\", D2, dim=1, time=False)\n",
    "\n",
    "    diff_net_u_1 = instantiate_arch(\n",
    "        input_keys=[Key(\"x\"), Key(\"D1\")],\n",
    "        output_keys=[Key(\"u_1\")],\n",
    "        cfg=cfg.arch.fully_connected,\n",
    "    )\n",
    "    diff_net_u_2 = instantiate_arch(\n",
    "        input_keys=[Key(\"x\"), Key(\"D1\")],\n",
    "        output_keys=[Key(\"u_2\")],\n",
    "        cfg=cfg.arch.fully_connected,\n",
    "    )\n",
    "\n",
    "    nodes = (\n",
    "        diff_u1.make_nodes()\n",
    "        + diff_u2.make_nodes()\n",
    "        + diff_in.make_nodes()\n",
    "        + [diff_net_u_1.make_node(name=\"u1_network\", jit=cfg.jit)]\n",
    "        + [diff_net_u_2.make_node(name=\"u2_network\", jit=cfg.jit)]\n",
    "    )\n",
    "```"
   ]
  },
  {
   "cell_type": "markdown",
   "metadata": {},
   "source": [
    "## 添加参数化边界和偏微分方程约束\n",
    "\n",
    "这部分代码与非参数化版本非常相似。我们之前描述的符号变量和范围需要输入到每个边界和内部约束（ `PointwiseBoundaryConstraint` 和 `PointwiseInteriorConstraint` ）的 `parameterization` 属性中。"
   ]
  },
  {
   "cell_type": "markdown",
   "metadata": {},
   "source": [
    "```python\n",
    "    # make domain add constraints to the solver\n",
    "    domain = Domain()\n",
    "\n",
    "    # sympy variables\n",
    "    x = Symbol(\"x\")\n",
    "\n",
    "    # right hand side (x = 2) Pt c\n",
    "    rhs = PointwiseBoundaryConstraint(\n",
    "        nodes=nodes,\n",
    "        geometry=L2,\n",
    "        outvar={\"u_2\": Tc},\n",
    "        batch_size=cfg.batch_size.rhs,\n",
    "        criteria=Eq(x, 2),\n",
    "        parameterization=Parameterization(D1_range),\n",
    "    )\n",
    "    domain.add_constraint(rhs, \"right_hand_side\")\n",
    "\n",
    "    # left hand side (x = 0) Pt a\n",
    "    lhs = PointwiseBoundaryConstraint(\n",
    "        nodes=nodes,\n",
    "        geometry=L1,\n",
    "        outvar={\"u_1\": Ta},\n",
    "        batch_size=cfg.batch_size.lhs,\n",
    "        criteria=Eq(x, 0),\n",
    "        parameterization=Parameterization(D1_range),\n",
    "    )\n",
    "    domain.add_constraint(lhs, \"left_hand_side\")\n",
    "\n",
    "    # interface 1-2\n",
    "    interface = PointwiseBoundaryConstraint(\n",
    "        nodes=nodes,\n",
    "        geometry=L1,\n",
    "        outvar={\n",
    "            \"diffusion_interface_dirichlet_u_1_u_2\": 0,\n",
    "            \"diffusion_interface_neumann_u_1_u_2\": 0,\n",
    "        },\n",
    "        batch_size=cfg.batch_size.interface,\n",
    "        criteria=Eq(x, 1),\n",
    "        parameterization=Parameterization(D1_range),\n",
    "    )\n",
    "    domain.add_constraint(interface, \"interface\")\n",
    "\n",
    "    # interior 1\n",
    "    interior_u1 = PointwiseInteriorConstraint(\n",
    "        nodes=nodes,\n",
    "        geometry=L1,\n",
    "        outvar={\"diffusion_u_1\": 0},\n",
    "        bounds={x: (0, 1)},\n",
    "        batch_size=cfg.batch_size.interior_u1,\n",
    "        parameterization=Parameterization(D1_range),\n",
    "    )\n",
    "    domain.add_constraint(interior_u1, \"interior_u1\")\n",
    "\n",
    "    # interior 2\n",
    "    interior_u2 = PointwiseInteriorConstraint(\n",
    "        nodes=nodes,\n",
    "        geometry=L2,\n",
    "        outvar={\"diffusion_u_2\": 0},\n",
    "        bounds={x: (1, 2)},\n",
    "        batch_size=cfg.batch_size.interior_u2,\n",
    "        parameterization=Parameterization(D1_range),\n",
    "    )\n",
    "    domain.add_constraint(interior_u2, \"interior_u2\")\n",
    "```"
   ]
  },
  {
   "cell_type": "markdown",
   "metadata": {},
   "source": [
    "## 添加验证器和监控器\n",
    "\n",
    "创建这些域的过程与上一节类似。对于验证数据，我们需要在 `invar_numpy` 字典中为字符串 `'D1'` 创建一个额外的键。此键的值可以在我们之前指定的范围内，并且是我们想要验证的值。如果需要，可以创建多个验证器，例如不同的 $D_1$ 值。对于监控域，会生成一个类似的 `invar_numpy`，其中包含 `'x'` 和 `'D1'` 键以及相应的数组。"
   ]
  },
  {
   "cell_type": "markdown",
   "metadata": {},
   "source": [
    "```python\n",
    "    # validation data\n",
    "    x = np.expand_dims(np.linspace(0, 1, 100), axis=-1)\n",
    "    u_1 = x * Tb_validation + (1 - x) * Ta\n",
    "    invar_numpy = {\"x\": x}\n",
    "    invar_numpy.update({\"D1\": np.full_like(invar_numpy[\"x\"], D1_validation)})\n",
    "    outvar_numpy = {\"u_1\": u_1}\n",
    "    val = PointwiseValidator(nodes=nodes, invar=invar_numpy, true_outvar=outvar_numpy)\n",
    "    domain.add_validator(val, name=\"Val1\")\n",
    "\n",
    "    # make validation data line 2\n",
    "    x = np.expand_dims(np.linspace(1, 2, 100), axis=-1)\n",
    "    u_2 = (x - 1) * Tc + (2 - x) * Tb_validation\n",
    "    invar_numpy = {\"x\": x}\n",
    "    invar_numpy.update({\"D1\": np.full_like(invar_numpy[\"x\"], D1_validation)})\n",
    "    outvar_numpy = {\"u_2\": u_2}\n",
    "    val = PointwiseValidator(nodes=nodes, invar=invar_numpy, true_outvar=outvar_numpy)\n",
    "    domain.add_validator(val, name=\"Val2\")\n",
    "\n",
    "    # make monitors\n",
    "    invar_numpy = {\"x\": [[1.0]], \"D1\": [[D1_validation]]}\n",
    "    monitor = PointwiseMonitor(\n",
    "        invar_numpy,\n",
    "        output_names=[\"u_1__x\"],\n",
    "        metrics={\"flux_u1\": lambda var: torch.mean(var[\"u_1__x\"])},\n",
    "        nodes=nodes,\n",
    "        requires_grad=True,\n",
    "    )\n",
    "    domain.add_monitor(monitor)\n",
    "\n",
    "    monitor = PointwiseMonitor(\n",
    "        invar_numpy,\n",
    "        output_names=[\"u_2__x\"],\n",
    "        metrics={\"flux_u2\": lambda var: torch.mean(var[\"u_2__x\"])},\n",
    "        nodes=nodes,\n",
    "        requires_grad=True,\n",
    "    )\n",
    "    domain.add_monitor(monitor)\n",
    "```"
   ]
  },
  {
   "cell_type": "markdown",
   "metadata": {},
   "source": [
    "## 求解器和训练\n",
    "\n",
    "现在我们已经完成了各种约束和域的定义，可以构建求解器并像之前一样运行问题。执行相同操作的代码如下所示。"
   ]
  },
  {
   "cell_type": "markdown",
   "metadata": {},
   "source": [
    "```python\n",
    "    # make solver\n",
    "    slv = Solver(cfg, domain)\n",
    "\n",
    "    # start solver\n",
    "    slv.solve()\n",
    "\n",
    "\n",
    "if __name__ == \"__main__\":\n",
    "    run()\n",
    "```"
   ]
  },
  {
   "cell_type": "code",
   "execution_count": null,
   "metadata": {},
   "outputs": [],
   "source": [
    "!python3 ../../source_code/diffusion_1d/diffusion_bar_parameterized.py"
   ]
  },
  {
   "cell_type": "markdown",
   "metadata": {},
   "source": [
    "## 可视化解决方案\n",
    "\n",
    ".npz 数组可以像上一节一样绘制出来，以可视化模拟的输出。您可以看到，我们得到的答案与解析解相同。您可以尝试通过更改验证数据在 `eval` 模式下运行该问题，并查看它对其他 `D1` 值的表现。要在评估模式下运行模型（即不进行训练），您只需[修改配置文件](https://docs.nvidia.com/deeplearning/modulus/modulus-v2209/user_guide/features/configuration.html#run-modes)。\n",
    "\n",
    "<img src=\"image_diffusion_problem_bootcamp_parameterized.png\" alt=\"Drawing\" style=\"width: 500px;\"/>\n",
    "\n",
    "您可以看到，在计算时间略有增加的情况下，我们求解了 $D_1$ 值在 (5, 25) 范围内的偏微分方程。这一概念可以轻松扩展到更复杂的问题，并且这种解决参数化问题的能力在设计优化和探索设计空间时非常有用。有关更多解决参数化问题的示例，请参阅 [Modulus 用户文档](https://docs.nvidia.com/deeplearning/modulus/modulus-v2209/index.html)。"
   ]
  },
  {
   "cell_type": "markdown",
   "metadata": {},
   "source": [
    "## 下一步\n",
    "\n",
    "在下一个笔记本中，我们将求解定义耦合弹簧质量问题的微分方程组。\n",
    "\n",
    "请继续阅读[下一个笔记本](../spring_mass/Spring_Mass_Problem_Notebook.ipynb)。"
   ]
  }
 ],
 "metadata": {
  "jupytext": {
   "formats": "ipynb"
  },
  "kernelspec": {
   "display_name": "Python 3 (ipykernel)",
   "language": "python",
   "name": "python3"
  },
  "language_info": {
   "codemirror_mode": {
    "name": "ipython",
    "version": 3
   },
   "file_extension": ".py",
   "mimetype": "text/x-python",
   "name": "python",
   "nbconvert_exporter": "python",
   "pygments_lexer": "ipython3",
   "version": "3.10.12"
  }
 },
 "nbformat": 4,
 "nbformat_minor": 4
}
