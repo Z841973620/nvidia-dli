{
 "cells": [
  {
   "cell_type": "markdown",
   "metadata": {},
   "source": [
    "# 参数化和逆问题\n",
    "\n",
    "在本笔记本中，我们将把注意力集中在神经网络求解器相对于传统数值方法的一个关键优势上，即解决参数化几何和逆问题的能力。"
   ]
  },
  {
   "cell_type": "markdown",
   "metadata": {},
   "source": [
    "## 参数化问题\n",
    "\n",
    "神经网络求解器相对于传统数值方法的一个重要优势是它能够求解参数化几何问题。为了说明这一概念，我们求解上述问题的参数化版本。假设我们想知道随着边界条件 $u(l)=0$ 上位置的移动，该方程的解会如何变化。我们可以用变量 $l \\in [1,2]$ 参数化这个位置，这样我们的方程就具有如下形式：\n",
    "\n",
    "\\begin{equation} \\label{1d_equation2}\n",
    "    \\mathbf{P} : \\left\\{\\begin{matrix}\n",
    "\\frac{\\delta^2 u}{\\delta x^2}(x) = f(x), \\\\ \n",
    "\\\\\n",
    "u(0) = u(l) = 0,\n",
    "\\end{matrix}\\right.\n",
    "\\end{equation}\n",
    "\n",
    "为了解决这个参数化问题，我们可以让神经网络以 $l$ 作为输入，即 $u_{net}(x,l)$。损失函数的形式如下：\n",
    "\n",
    "\\begin{equation}\n",
    "  L_{residual} = \\int_1^2 \\int_0^l \\left( \\frac{\\delta^2 u_{net}}{\\delta x^2}(x,l) - f(x) \\right)^2 dx dl \\approx \\left(\\int_1^2 \\int^l_0 dxdl\\right) \\frac{1}{N} \\sum^{N}_{i=0} \\left(\\frac{\\delta^2 u_{net}}{\\delta x^2}(x_i, l_i) - f(x_i)\\right)^2\n",
    "\\end{equation}\n",
    "\n",
    "\\begin{equation}\n",
    "  L_{BC} = \\int_1^2 (u_{net}(0,l))^2 + (u_{net}(l,l) dl \\approx \\left(\\int_1^2 dl\\right) \\frac{1}{N} \\sum^{N}_{i=0} (u_{net}(0, l_i))^2 + (u_{net}(l_i, l_i))^2\n",
    "\\end{equation}\n",
    "\n",
    "下图中，我们展示了针对该损失函数优化网络后，不同 $l$ 值下的微分方程解。虽然这个示例问题过于简单，但求解参数化几何结构的能力具有显著的工业价值。我们无需进行单一模拟，就可以同时求解多个设计，从而降低计算成本。更多示例请参阅 [Modulus 用户文档](https://docs.nvidia.com/deeplearning/modulus/modulus-v2209/index.html)。\n",
    "\n",
    "<img src=\"every_parabola.png\" alt=\"Drawing\" style=\"width: 500px;\"/>"
   ]
  },
  {
   "cell_type": "markdown",
   "metadata": {},
   "source": [
    "## 逆问题\n",
    "\n",
    "神经网络求解器的另一个有用应用是解决逆问题。在逆问题中，我们从一组观测值开始，然后利用这些观测值计算产生这些观测值的因果因素。为了说明如何使用神经网络求解器解决逆问题，我们以上述问题中相同方程的源项 $f(x)$ 为例进行反演。假设我们给定 0 到 1 之间 100 个随机点的解 $u_{true}(x)$，我们想要确定导致该解的 $f(x)$。我们可以通过构建两个神经网络 $u_{net}(x)$ 和 $f_{net}(x)$ 来近似 $u(x)$ 和 $f(x)$ 来实现。然后对这些网络进行优化，以最小化以下损失：\n",
    "\n",
    "\\begin{equation}\n",
    "  L_{residual} \\approx \\left(\\int^1_0 dx\\right) \\frac{1}{N} \\sum^{N}_{i=0} \\left(\\frac{\\delta^2 u_{net}}{\\delta x^2}(x_i, l_i) - f_{net}(x_i)\\right)^2\n",
    "\\end{equation}\n",
    "\n",
    "\\begin{equation}\n",
    "  L_{data} = \\frac{1}{100} \\sum^{100}_{i=0} (u_{net}(x_i) - u_{true}(x_i))^2\n",
    "\\end{equation}\n",
    "\n",
    "使用函数 $u_{true}(x)=\\frac{1}{48} (8 x (-1 + x^2) - (3 sin(4 \\pi x))/\\pi^2)$ 则 $f(x)$ 的解为 $x + sin(4 \\pi x)$。我们求解该问题并在下图中比较结果：\n",
    "\n",
    "<figure>\n",
    "    <img src=\"inverse_parabola.png\" alt=\"Drawing\" style=\"width: 500px;\"/>\n",
    "    <figcaption>Comparison of true solution for $f(x)$ and the function approximated by the NN.</figcaption>\n",
    "</figure>\n",
    "\n",
    "<figure>\n",
    "    <img src=\"inverse_parabola_2.png\" alt=\"Drawing\" style=\"width: 500px;\"/>\n",
    "    <figcaption>Comparison of $u_{net}(x)$ and the train points from $u_{true}$.</figcaption>\n",
    "</figure>\n",
    "\n",
    "更多求解逆问题的示例，请参阅 [Modulus 用户文档](https://docs.nvidia.com/deeplearning/modulus/modulus-v2209/index.html)。"
   ]
  },
  {
   "cell_type": "markdown",
   "metadata": {},
   "source": [
    "我们已经介绍了 PINN 背后的简要理论，并了解了使用 Modulus 解决问题的基本组件。在接下来的几篇笔记中，我们将详细介绍这些应用，重点解决参数化、瞬态和逆问题。然后，我们将深入研究使用 Modulus 进行数据驱动的训练。"
   ]
  },
  {
   "cell_type": "markdown",
   "metadata": {},
   "source": [
    "## 参考文献\n",
    "\n",
    "1. Raissi, Maziar, Paris Perdikaris, and George Em Karniadakis. “Physics informed deep learning (part i): Data-driven solutions of nonlinear partial differential equations.” arXiv preprint arXiv:1711.10561 (2017).\n",
    "2. Sun, Luning, et al. “Surrogate modeling for fluid flows based on physics-constrained deep learning without simulation data.” Computer Methods in Applied Mechanics and Engineering 361 (2020): 112732."
   ]
  },
  {
   "cell_type": "markdown",
   "metadata": {},
   "source": [
    "## 下一步\n",
    "\n",
    "接下来，我们将深入探讨 Modulus API，并帮助您使用神经网络求解自己的偏微分方程 (PDE)。\n",
    "\n",
    "请继续阅读[下一个笔记本](../diffusion_1d/Diffusion_Problem_Notebook.ipynb)。"
   ]
  }
 ],
 "metadata": {
  "jupytext": {
   "formats": "ipynb"
  },
  "kernelspec": {
   "display_name": "Python 3 (ipykernel)",
   "language": "python",
   "name": "python3"
  },
  "language_info": {
   "codemirror_mode": {
    "name": "ipython",
    "version": 3
   },
   "file_extension": ".py",
   "mimetype": "text/x-python",
   "name": "python",
   "nbconvert_exporter": "python",
   "pygments_lexer": "ipython3",
   "version": "3.10.12"
  }
 },
 "nbformat": 4,
 "nbformat_minor": 4
}
