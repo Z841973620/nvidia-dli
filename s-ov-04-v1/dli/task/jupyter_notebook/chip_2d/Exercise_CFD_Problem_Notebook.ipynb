{
 "cells": [
  {
   "cell_type": "markdown",
   "metadata": {},
   "source": [
    "# 总结"
   ]
  },
  {
   "cell_type": "markdown",
   "metadata": {},
   "source": [
    "在开始练习之前，让我们先回顾一下目前为止所学的内容。\n",
    "\n",
    "课程伊始，我们首先了解了机器学习和深度学习在科学与工程领域的应用。我们了解了 NVIDIA Modulus 如何应对这些应用，以及它的优势和关键用例。我们介绍了该领域深度学习的两种主要范式：物理信息训练（模型仅以控制方程和边界条件形式的物理信息进行监督）和数据驱动训练（模型以可能来自任何外部数值方法、实验、观察等的数据进行监督）。在每种情况下，我们都通过设置简单的问题并查看 Modulus API 和工作流程，亲身实践地探索了这些想法（及其变体，包括物理和数据的混合）。我们相信，通过这些信息，您应该能够更好地探索 [Modulus 用户文档](https://docs.nvidia.com/deeplearning/modulus/modulus-v2209/index.html) 中的不同案例，更重要的是，您可以使用 NVIDIA Modulus 尝试对您选择的问题进行 AI 训练和推理。\n",
    "\n",
    "在接下来的部分中，您可以运用目前所学的知识，使用 PINNs 方法模拟由纳维-斯托克斯方程控制的流体力学问题。"
   ]
  },
  {
   "cell_type": "markdown",
   "metadata": {},
   "source": [
    "# 芯片上的稳态二维层流\n",
    "\n",
    "问题定义如下：\n",
    "\n",
    "一个二维芯片放置在一个二维通道内。流体从入口进入（采用抛物线型，$u_{max}=1.5\\text{ m/s}$），并从出口流出，出口压力为 $0 Pa$。所有其他壁面均视为无滑移。流动的运动粘度 $(\\nu)$ 为 $0.02 \\text{ }m^2/s$，密度 $(\\rho)$ 为 $1 \\text{ }kg/m^3$。问题如下图所示。\n",
    "\n",
    "<img src=\"chip_2d_geom.png\" alt=\"Drawing\" style=\"width: 800px;\"/>"
   ]
  },
  {
   "cell_type": "markdown",
   "metadata": {},
   "source": [
    "### 目标\n",
    "本题的目标及其对应的笔记本链接如下：\n",
    "1. [流体流动](Exercise_1.ipynb)：使用 PINN 求解给定几何形状和流动参数的流体流动问题。\n",
    "2. [参数化](Exercise_2.ipynb)：通过改变芯片的几何形状（宽度和高度），使用 PINN 求解参数化问题。\n",
    "3. [逆问题](Exercise_3.ipynb)：结合使用 PINN 和 OpenFOAM 数据，在给定流场数据的情况下，求解流动粘度的逆问题。"
   ]
  }
 ],
 "metadata": {
  "jupytext": {
   "formats": "ipynb"
  },
  "kernelspec": {
   "display_name": "Python 3 (ipykernel)",
   "language": "python",
   "name": "python3"
  },
  "language_info": {
   "codemirror_mode": {
    "name": "ipython",
    "version": 3
   },
   "file_extension": ".py",
   "mimetype": "text/x-python",
   "name": "python",
   "nbconvert_exporter": "python",
   "pygments_lexer": "ipython3",
   "version": "3.10.12"
  }
 },
 "nbformat": 4,
 "nbformat_minor": 4
}
