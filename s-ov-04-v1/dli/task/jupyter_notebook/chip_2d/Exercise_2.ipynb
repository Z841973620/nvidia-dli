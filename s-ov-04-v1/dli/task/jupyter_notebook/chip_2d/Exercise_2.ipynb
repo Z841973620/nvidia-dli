{
 "cells": [
  {
   "cell_type": "markdown",
   "metadata": {},
   "source": [
    "## 问题描述\n",
    "\n",
    "使用 PINN 求解给定几何结构和流动参数的参数化流体流动问题\n",
    "\n",
    "模拟相同的切屑流动，但现在在单次参数化运行中改变切屑高度和宽度。\n",
    "\n",
    "<img src=\"chip_2d_parameterized.png\" alt=\"Drawing\" style=\"width: 800px;\"/>\n",
    "\n",
    "## 练习\n",
    "\n",
    "本题的主要目标是使用 PINN 正确地公式化问题。为了实现这一点，你必须成功完成以下部分：\n",
    "1. 为问题定义正确的*参数化*几何结构\n",
    "2. 设置正确的边界条件和方程\n",
    "3. 创建神经网络并求解*参数化*问题\n",
    "\n",
    "成功完成本题后，应该能够生成一个可以在我们选择的任何几何参数组合下进行推理的网络。例如，该模型应该能够为切屑高度为 0.4 且宽度为 1.4 的几何结构创建绘图。示例如下。记住，一旦模型训练完成，你就可以推断任何几何组合，而无需再次求解该问题。是不是很酷？\n",
    "\n",
    "<img src=\"challenge_results_param_updated.png\" alt=\"Drawing\" style=\"width: 800px;\"/>"
   ]
  },
  {
   "cell_type": "markdown",
   "metadata": {},
   "source": [
    "在此模板中，我们为您提供了一个框架代码，您需要填写该代码来定义和解决参数化问题。如果您已成功完成练习 1，那么转到此部分应该相当容易，因为只需进行一些小的修改。让我们从导入所需的软件包开始。\n",
    "\n",
    "**注意：您需要编辑位于 `chip_2d/` 目录中的 [`chip_2d_parameterized_template.py`](../../source_code/chip_2d/chip_2d_parameterized_template.py) 脚本。**"
   ]
  },
  {
   "cell_type": "markdown",
   "metadata": {},
   "source": [
    "```python\n",
    "import numpy as np\n",
    "from sympy import Symbol, Eq\n",
    "\n",
    "import modulus\n",
    "from modulus.hydra import to_absolute_path, ModulusConfig, instantiate_arch\n",
    "from modulus.utils.io import csv_to_dict\n",
    "from modulus.solver import Solver\n",
    "from modulus.domain import Domain\n",
    "from modulus.geometry.primitives_2d import Rectangle, Line, Channel2D\n",
    "from modulus.utils.sympy.functions import parabola\n",
    "from modulus.eq.pdes.navier_stokes import NavierStokes\n",
    "from modulus.eq.pdes.basic import NormalDotVec\n",
    "from modulus.domain.constraint import (\n",
    "    PointwiseBoundaryConstraint,\n",
    "    PointwiseInteriorConstraint,\n",
    "    IntegralBoundaryConstraint,\n",
    ")\n",
    "\n",
    "from modulus.domain.validator import PointwiseValidator\n",
    "from modulus.key import Key\n",
    "from modulus.node import Node\n",
    "```"
   ]
  },
  {
   "cell_type": "markdown",
   "metadata": {},
   "source": [
    "现在我们已经定义了模拟参数和符号变量，用于参数化下面的几何结构。如之前的教程所示，我们定义了训练期间数据点采样的范围。您可以随意尝试不同的变量范围。"
   ]
  },
  {
   "cell_type": "markdown",
   "metadata": {},
   "source": [
    "```python\n",
    "@modulus.main(config_path=\"conf\", config_name=\"config_param\")\n",
    "def run(cfg: ModulusConfig) -> None:\n",
    "\n",
    "    # make list of nodes to unroll graph on\n",
    "    ns = NavierStokes(nu=0.02, rho=1.0, dim=2, time=False)\n",
    "    normal_dot_vel = NormalDotVec([\"u\", \"v\"])\n",
    "    flow_net = instantiate_arch(\n",
    "        input_keys=[placeholder],\n",
    "        output_keys=[placeholder],\n",
    "        cfg=cfg.arch.fourier_net,\n",
    "    )\n",
    "    nodes = (\n",
    "        ns.make_nodes()\n",
    "        + normal_dot_vel.make_nodes()\n",
    "        + [flow_net.make_node(name=\"flow_network\", jit=cfg.jit)]\n",
    "    )\n",
    "\n",
    "    # add constraints to solver\n",
    "    # simulation params\n",
    "    channel_length = (-2.5, 2.5)\n",
    "    channel_width = (-0.5, 0.5)\n",
    "    chip_pos = -1.0\n",
    "    inlet_vel = 1.5\n",
    "\n",
    "    # paramteric variables\n",
    "    chip_height = Symbol(\"chip_height\")  # Not fixed anymore\n",
    "    chip_width = Symbol(\"chip_width\")    # Not fixed anymore\n",
    "    chip_height_range = (0.4, 0.8)\n",
    "    chip_width_range = (0.6, 1.4)\n",
    "    param_ranges = {chip_height: chip_height_range, chip_width: chip_width_range}\n",
    "\n",
    "    # define sympy variables to parametrize domain curves\n",
    "    x, y = Symbol(\"x\"), Symbol(\"y\")\n",
    "\n",
    "    # define geometry\n",
    "    channel = placeholder\n",
    "    inlet = placeholder\n",
    "    outlet = placeholder\n",
    "    rec = placeholder\n",
    "    flow_rec = placeholder\n",
    "    geo = channel - rec\n",
    "    geo_hr = geo & flow_rec\n",
    "    geo_lr = geo - flow_rec\n",
    "    x_pos = Symbol(\"x_pos\")\n",
    "    integral_line = Line((x_pos, channel_width[0]), (x_pos, channel_width[1]), 1)\n",
    "    x_pos_range = {\n",
    "        x_pos: lambda batch_size: np.full(\n",
    "            (batch_size, 1), np.random.uniform(channel_length[0], channel_length[1])\n",
    "        )\n",
    "    }\n",
    "```"
   ]
  },
  {
   "cell_type": "markdown",
   "metadata": {},
   "source": [
    "现在完成下面的约束定义。请记住，这次您必须将参数键及其范围的字典添加为 `param_ranges` 参数的输入。入口边界条件的示例已显示。\n",
    "\n",
    "*注意：对于积分连续性平面，您有两个字典。一个用于随机采样的* `x_pos` *，另一个用于参数变量本身。确保将这两个字典都作为* `param_ranges` *的输入。*"
   ]
  },
  {
   "cell_type": "markdown",
   "metadata": {},
   "source": [
    "```python\n",
    "    #TODO: Replace all the placeholders with appropriate values \n",
    "\n",
    "    # make domain\n",
    "    domain = Domain()\n",
    "\n",
    "    # inlet\n",
    "    inlet_parabola = parabola(y, channel_width[0], channel_width[1], inlet_vel)\n",
    "    inlet = PointwiseBoundaryConstraint(\n",
    "        nodes=nodes,\n",
    "        geometry=inlet,\n",
    "        outvar={\"u\": inlet_parabola, \"v\": 0},\n",
    "        batch_size=cfg.batch_size.inlet,\n",
    "        parameterization=param_ranges,\n",
    "    )\n",
    "    domain.add_constraint(inlet, \"inlet\")\n",
    "\n",
    "    # outlet\n",
    "    outlet = PointwiseBoundaryConstraint(\n",
    "        nodes=nodes,\n",
    "        geometry=outlet,\n",
    "        outvar=placeholder,\n",
    "        batch_size=cfg.batch_size.outlet,\n",
    "        criteria=Eq(x, channel_length[1]),\n",
    "        parameterization=placeholder,\n",
    "    )\n",
    "    domain.add_constraint(outlet, \"outlet\")\n",
    "\n",
    "    # no slip\n",
    "    no_slip = PointwiseBoundaryConstraint(\n",
    "        nodes=nodes,\n",
    "        geometry=geo,\n",
    "        outvar=placeholder,\n",
    "        batch_size=cfg.batch_size.no_slip,\n",
    "        parameterization=placeholder,\n",
    "    )\n",
    "    domain.add_constraint(no_slip, \"no_slip\")\n",
    "\n",
    "    # interior lr\n",
    "    interior_lr = PointwiseInteriorConstraint(\n",
    "        nodes=nodes,\n",
    "        geometry=geo_lr,\n",
    "        outvar=placeholder,\n",
    "        batch_size=cfg.batch_size.interior_lr,\n",
    "        bounds={x: channel_length, y: channel_width},\n",
    "        lambda_weighting=placeholder,\n",
    "        parameterization=placeholder,\n",
    "    )\n",
    "    domain.add_constraint(interior_lr, \"interior_lr\")\n",
    "\n",
    "    # interior hr\n",
    "    interior_hr = PointwiseInteriorConstraint(\n",
    "        nodes=nodes,\n",
    "        geometry=geo_hr,\n",
    "        outvar=placeholder,\n",
    "        batch_size=cfg.batch_size.interior_hr,\n",
    "        bounds={x: channel_length, y: channel_width},\n",
    "        lambda_weighting=placeholder,\n",
    "        parameterization=placeholder,\n",
    "    )\n",
    "    domain.add_constraint(interior_hr, \"interior_hr\")\n",
    "\n",
    "    # integral continuity\n",
    "    def integral_criteria(invar, params):\n",
    "        sdf = geo.sdf(invar, params)\n",
    "        return np.greater(sdf[\"sdf\"], 0)\n",
    "\n",
    "    integral_continuity = IntegralBoundaryConstraint(\n",
    "        nodes=nodes,\n",
    "        geometry=integral_line,\n",
    "        outvar=placeholder,\n",
    "        batch_size=cfg.batch_size.num_integral_continuity,\n",
    "        integral_batch_size=cfg.batch_size.integral_continuity,\n",
    "        lambda_weighting=placeholder,\n",
    "        criteria=geo.sdf > 0,\n",
    "        parameterization=placeholder,\n",
    "    )\n",
    "    domain.add_constraint(integral_continuity, \"integral_continuity\")\n",
    "```"
   ]
  },
  {
   "cell_type": "markdown",
   "metadata": {},
   "source": [
    "现在，向问题中添加验证数据。与教程示例类似，针对单个配置验证此参数化解决方案。请记住，此问题的网络有四个输入（x、y、chip_height 和 chip_width）。因此，您的验证数据也必须具有 CSV 文件中每个点的对应输入。"
   ]
  },
  {
   "cell_type": "markdown",
   "metadata": {},
   "source": [
    "```python\n",
    "    # add validation data\n",
    "    mapping = {\"Points:0\": \"x\", \"Points:1\": \"y\", \"U:0\": \"u\", \"U:1\": \"v\", \"p\": \"p\"}\n",
    "    openfoam_var = csv_to_dict(to_absolute_path(\"openfoam/2D_chip_fluid0.csv\"), mapping)\n",
    "    openfoam_var[\"x\"] -= 2.5  # normalize pos\n",
    "    openfoam_var[\"y\"] -= 0.5\n",
    "    \n",
    "    # TODO: Add the arrays for 'chip_height' and 'chip_width'\n",
    "    \n",
    "    openfoam_invar_numpy = {\n",
    "        key: value\n",
    "        for key, value in openfoam_var.items()\n",
    "        if key in [\"x\", \"y\", \"chip_height\", \"chip_width\"]\n",
    "    }\n",
    "    openfoam_outvar_numpy = {\n",
    "        key: value for key, value in openfoam_var.items() if key in [\"u\", \"v\", \"p\"]\n",
    "    }\n",
    "    openfoam_validator = PointwiseValidator(\n",
    "        invar=openfoam_invar_numpy, true_outvar=openfoam_outvar_numpy, nodes=nodes\n",
    "    )\n",
    "    domain.add_validator(openfoam_validator)\n",
    "```"
   ]
  },
  {
   "cell_type": "markdown",
   "metadata": {},
   "source": [
    "正如开头所讨论的，我们希望无需反复训练即可实现多种设计的可视化。您可以定义一个 `PointwiseInferencer` 来实现这一点。只需更改此域中的值，并以 `eval` 模式执行脚本，即可使用已训练好的网络实现多种设计的可视化。"
   ]
  },
  {
   "cell_type": "markdown",
   "metadata": {},
   "source": [
    "```python\n",
    "    inference = PointwiseInferencer(\n",
    "        openfoam_invar_numpy,     # TODO: The invar array can be changed to infer at different geometry combinations\n",
    "        [\"u\", \"v\", \"p\"],\n",
    "        nodes,\n",
    "        batch_size=1024,\n",
    "    )\n",
    "    domain.add_inferencer(inference, \"inf_data\")\n",
    "```"
   ]
  },
  {
   "cell_type": "markdown",
   "metadata": {},
   "source": [
    "现在，通过定义求解器来解决我们的参数问题来完成这个问题。该问题的重要超参数已在配置文件中定义。您可以随意调整它们，并观察其对结果和收敛速度的影响。"
   ]
  },
  {
   "cell_type": "markdown",
   "metadata": {},
   "source": [
    "```python\n",
    "    # make solver\n",
    "    slv = Solver(cfg, domain)\n",
    "\n",
    "    # start solver\n",
    "    slv.solve()\n",
    "\n",
    "\n",
    "if __name__ == \"__main__\":\n",
    "    run()\n",
    "```"
   ]
  }
 ],
 "metadata": {
  "jupytext": {
   "formats": "ipynb"
  },
  "kernelspec": {
   "display_name": "Python 3 (ipykernel)",
   "language": "python",
   "name": "python3"
  },
  "language_info": {
   "codemirror_mode": {
    "name": "ipython",
    "version": 3
   },
   "file_extension": ".py",
   "mimetype": "text/x-python",
   "name": "python",
   "nbconvert_exporter": "python",
   "pygments_lexer": "ipython3",
   "version": "3.10.12"
  }
 },
 "nbformat": 4,
 "nbformat_minor": 4
}
