{
 "cells": [
  {
   "cell_type": "markdown",
   "metadata": {},
   "source": [
    "## 问题描述\n",
    "\n",
    "你需要使用 PINN 模型求解给定几何结构和流动参数的流体流动问题。\n",
    "\n",
    "一个二维芯片放置在一个二维通道内。流体以 $u=1.5\\text{ m/s}$ 的速度从入口进入，并从出口流出，出口压力为 $0 Pa$。所有其他壁面均视为无滑移。流动的运动粘度 $(\\nu)$ 为 $0.02 \\text{ }m^2/s$，密度 $(\\rho)$ 为 $1 \\text{ }kg/m^3$。问题如下图所示。\n",
    "\n",
    "<img src=\"chip_2d_geom.png\" alt=\"Drawing\" style=\"width: 800px;\"/>\n",
    "\n",
    "## 练习\n",
    "\n",
    "本题的主要目标是使用 PINN 模型正确地描述问题。为了实现这一目标，您必须成功完成以下部分：\n",
    "1. 为问题定义正确的几何结构\n",
    "2. 设置正确的边界条件和方程\n",
    "3. 创建神经网络并求解问题\n",
    "\n",
    "成功完成问题后，流动变量的分布应如下所示。此外，您还应力争使所有变量相对于给定 OpenFOAM 解的相对 $L_2$ 误差小于 0.2。\n",
    "\n",
    "<img src=\"challenge_results.png\" alt=\"Drawing\" style=\"width: 650px;\"/>"
   ]
  },
  {
   "cell_type": "markdown",
   "metadata": {},
   "source": [
    "在此模板中，我们将为您提供一个框架代码，您需要填写该代码来定义和解决问题。\n",
    "\n",
    "**注意：您需要编辑位于 `chip_2d/` 目录中的 [`chip_2d_template.py`](../../source_code/chip_2d/chip_2d_template.py) 脚本。配置文件已提供给您。**\n",
    "\n",
    "首先，导入所需的软件包。请注意导入的各种模块和软件包，尤其是方程式、几何结构和架构。"
   ]
  },
  {
   "cell_type": "markdown",
   "metadata": {},
   "source": [
    "```python\n",
    "import numpy as np\n",
    "from sympy import Symbol, Eq\n",
    "\n",
    "import modulus\n",
    "from modulus.hydra import to_absolute_path, ModulusConfig, instantiate_arch\n",
    "from modulus.utils.io import csv_to_dict\n",
    "from modulus.solver import Solver\n",
    "from modulus.domain import Domain\n",
    "from modulus.geometry.primitives_2d import Rectangle, Line, Channel2D\n",
    "from modulus.utils.sympy.functions import parabola\n",
    "from modulus.eq.pdes.navier_stokes import NavierStokes\n",
    "from modulus.eq.pdes.basic import NormalDotVec\n",
    "from modulus.domain.constraint import (\n",
    "    PointwiseBoundaryConstraint,\n",
    "    PointwiseInteriorConstraint,\n",
    "    IntegralBoundaryConstraint,\n",
    ")\n",
    "\n",
    "from modulus.domain.validator import PointwiseValidator\n",
    "from modulus.key import Key\n",
    "from modulus.node import Node\n",
    "```"
   ]
  },
  {
   "cell_type": "markdown",
   "metadata": {},
   "source": [
    "现在，定义计算图的节点、适当的偏微分方程 (PDE)、模拟参数并生成几何结构。您将使用 PDEs 模块中的 `NavierStokes` 类来施加此问题的偏微分方程约束。"
   ]
  },
  {
   "cell_type": "markdown",
   "metadata": {},
   "source": [
    "```python\n",
    "@modulus.main(config_path=\"conf\", config_name=\"config\")\n",
    "def run(cfg: ModulusConfig) -> None:\n",
    "    \n",
    "    #TODO: Replace all the placeholders with appropriate values\n",
    "    # make list of nodes to unroll graph on\n",
    "    ns = NavierStokes(nu=0.02, rho=1.0, dim=2, time=False)\n",
    "    normal_dot_vel = NormalDotVec([\"u\", \"v\"])\n",
    "    flow_net = instantiate_arch(\n",
    "        input_keys=[placeholder],\n",
    "        output_keys=[placeholder],\n",
    "        cfg=cfg.arch.fourier_net,\n",
    "    )\n",
    "    nodes = (\n",
    "        ns.make_nodes()\n",
    "        + normal_dot_vel.make_nodes()\n",
    "        + [flow_net.make_node(name=\"flow_network\", jit=cfg.jit)]\n",
    "    )\n",
    "```"
   ]
  },
  {
   "cell_type": "markdown",
   "metadata": {},
   "source": [
    "接下来，您将在本示例中使用二维几何模块。请为每个几何体填写相应的值。请记住，`Channel2D` 和 `Rectangle` 由其两个端点定义。Modulus 中通道和矩形的区别在于，通道几何体在 x 方向上没有边界曲线。这有助于获得 x 方向上无限的有向距离场。在某些湍流模型中，当有向距离场用作壁面距离时，这一点非常重要（更多详情请参阅 [Modulus 用户文档](https://docs.nvidia.com/deeplearning/modulus/modulus-v2209/user_guide/foundational/zero_eq_turbulence.html)）。因此，我们将使用 `Line` 几何体创建入口和出口（*请注意，这是一条二维线，而不是扩散教程中使用的 `Line1D` *）。\n",
    "\n",
    "另请注意，`geo_lr` 和 `geo_hr` 是两个独立的几何体。它们的主要构造目的是改变几何体不同区域之间的采样。对不同区域的点采用不同的采样密度，使我们能够在靠近散热器（我们预计流场变化较大的地方）的位置采样更多点。实现这种可变采样的方法有很多，这里我们采用最简单的方法之一，即为高分辨率和低分辨率创建两个不同的几何体元素。"
   ]
  },
  {
   "cell_type": "markdown",
   "metadata": {},
   "source": [
    "```python\n",
    "    # add constraints to solver\n",
    "    # simulation params\n",
    "    channel_length = (-2.5, 2.5)\n",
    "    channel_width = (-0.5, 0.5)\n",
    "    chip_pos = -1.0\n",
    "    chip_height = 0.6\n",
    "    chip_width = 1.0\n",
    "    inlet_vel = 1.5\n",
    "\n",
    "    # define sympy variables to parametrize domain curves\n",
    "    x, y = Symbol(\"x\"), Symbol(\"y\")\n",
    "    \n",
    "    #TODO: Replace x1, y1, x2, y2, and X's with appropriate values\n",
    "    \n",
    "    # define geometry\n",
    "    channel = Channel2D(\n",
    "        (channel_length[0], channel_width[0]), (channel_length[1], channel_width[1])\n",
    "    )\n",
    "    inlet = Line(\n",
    "        (x1, y1),\n",
    "        (x1, y2),\n",
    "        normal=1,\n",
    "    )\n",
    "    outlet = Line(\n",
    "        (x2, y1),\n",
    "        (x2, y2),\n",
    "        normal=1,\n",
    "    )\n",
    "    rec = Rectangle(\n",
    "        (x1, y1),\n",
    "        (x2, y2),\n",
    "    )\n",
    "    flow_rec = Rectangle(\n",
    "        (chip_pos - 0.25, channel_width[0]),\n",
    "        (chip_pos + chip_width + 0.25, channel_width[1]),\n",
    "    )\n",
    "    geo = channel - rec\n",
    "    geo_hr = geo & flow_rec\n",
    "    geo_lr = geo - flow_rec\n",
    "```"
   ]
  },
  {
   "cell_type": "markdown",
   "metadata": {},
   "source": [
    "当前问题是不可压缩流体的通道流。在这种情况下，通过通道每个横截面的质量流量以及体积流量都是恒定的。这可以作为问题的附加约束，有助于我们提高收敛速度。\n",
    "\n",
    "尽可能地利用这些关于问题的额外知识，有助于更好、更快地解决问题。更多示例请参阅 [Modulus 用户文档](https://docs.nvidia.com/deeplearning/modulus/modulus-v2209/user_guide/foundational/scalar_transport.html)。"
   ]
  },
  {
   "cell_type": "markdown",
   "metadata": {},
   "source": [
    "```python\n",
    "    # Optional integral continuity planes to speed up convergence \n",
    "    x_pos = Symbol(\"x_pos\")\n",
    "    integral_line = Line((x_pos, channel_width[0]), (x_pos, channel_width[1]), 1)\n",
    "    x_pos_range = {\n",
    "        x_pos: lambda batch_size: np.full(\n",
    "            (batch_size, 1), np.random.uniform(channel_length[0], channel_length[1])\n",
    "        )\n",
    "    }\n",
    "```"
   ]
  },
  {
   "cell_type": "markdown",
   "metadata": {},
   "source": [
    "现在，您将使用创建的几何体来定义问题的训练约束。实现以下所需的边界条件和方程。请记住，您必须为边界条件和减少方程残差创建约束。您可以参考 PDEs 模块中的 `NavierStokes` 类，了解方程的定义方式以及每个方程所需的键。\n",
    "\n",
    "现在，基于此理解来定义问题。图中显示了入口边界条件的示例。此外，积分连续性约束已为您编写完成。"
   ]
  },
  {
   "cell_type": "markdown",
   "metadata": {},
   "source": [
    "```python\n",
    "    #TODO: Replace all the placeholders with appropriate values\n",
    "\n",
    "    # make domain\n",
    "    domain = Domain()\n",
    "\n",
    "    # inlet\n",
    "    inlet_parabola = parabola(y, channel_width[0], channel_width[1], inlet_vel)\n",
    "    inlet = PointwiseBoundaryConstraint(\n",
    "        nodes=nodes,\n",
    "        geometry=inlet,\n",
    "        outvar={\"u\": inlet_parabola, \"v\": 0},\n",
    "        batch_size=cfg.batch_size.inlet,\n",
    "    )\n",
    "    domain.add_constraint(inlet, \"inlet\")\n",
    "\n",
    "    # outlet\n",
    "    outlet = PointwiseBoundaryConstraint(\n",
    "        nodes=nodes,\n",
    "        geometry=outlet,\n",
    "        outvar={placeholder},\n",
    "        batch_size=cfg.batch_size.outlet,\n",
    "        criteria=Eq(x, channel_length[1]),\n",
    "    )\n",
    "    domain.add_constraint(outlet, \"outlet\")\n",
    "\n",
    "    # no slip\n",
    "    no_slip = PointwiseBoundaryConstraint(\n",
    "        nodes=nodes,\n",
    "        geometry=geo,\n",
    "        outvar={placeholder},\n",
    "        batch_size=cfg.batch_size.no_slip,\n",
    "    )\n",
    "    domain.add_constraint(no_slip, \"no_slip\")\n",
    "\n",
    "    # interior lr\n",
    "    interior_lr = PointwiseInteriorConstraint(\n",
    "        nodes=nodes,\n",
    "        geometry=geo_lr,\n",
    "        outvar={placeholder},\n",
    "        batch_size=cfg.batch_size.interior_lr,\n",
    "        bounds={x: channel_length, y: channel_width},\n",
    "        lambda_weighting={placeholder},\n",
    "    )\n",
    "    domain.add_constraint(interior_lr, \"interior_lr\")\n",
    "\n",
    "    # interior hr\n",
    "    interior_hr = PointwiseInteriorConstraint(\n",
    "        nodes=nodes,\n",
    "        geometry=geo_hr,\n",
    "        outvar={placeholder},\n",
    "        batch_size=cfg.batch_size.interior_hr,\n",
    "        bounds={x: channel_length, y: channel_width},\n",
    "        lambda_weighting={placeholder},\n",
    "    )\n",
    "    domain.add_constraint(interior_hr, \"interior_hr\")\n",
    "\n",
    "    # integral continuity\n",
    "    def integral_criteria(invar, params):\n",
    "        sdf = geo.sdf(invar, params)\n",
    "        return np.greater(sdf[\"sdf\"], 0)\n",
    "\n",
    "    integral_continuity = IntegralBoundaryConstraint(\n",
    "        nodes=nodes,\n",
    "        geometry=integral_line,\n",
    "        outvar={\"normal_dot_vel\": 1},\n",
    "        batch_size=cfg.batch_size.num_integral_continuity,\n",
    "        integral_batch_size=cfg.batch_size.integral_continuity,\n",
    "        lambda_weighting={\"normal_dot_vel\": 1},\n",
    "        criteria=integral_criteria,\n",
    "        parameterization=x_pos_range,\n",
    "    )\n",
    "    domain.add_constraint(integral_continuity, \"integral_continuity\")\n",
    "```"
   ]
  },
  {
   "cell_type": "markdown",
   "metadata": {},
   "source": [
    "现在，向问题添加验证数据。`openfoam` 目录包含使用 OpenFOAM 求解器求解同一问题的解决方案。CSV 文件会被读取并转换为字典。现在，您需要完成验证器的定义。"
   ]
  },
  {
   "cell_type": "markdown",
   "metadata": {},
   "source": [
    "```python\n",
    "    #TODO: Set the appropriate normalization for the validation data\n",
    "    # The validation data has domain extents of (0,0) to (5,1). Normalize this based on your definition of the domain\n",
    "\n",
    "    # add validation data\n",
    "    mapping = {\"Points:0\": \"x\", \"Points:1\": \"y\", \"U:0\": \"u\", \"U:1\": \"v\", \"p\": \"p\"}\n",
    "    openfoam_var = csv_to_dict(to_absolute_path(\"openfoam/2D_chip_fluid0.csv\"), mapping)\n",
    "    openfoam_var[\"x\"] -= placeholder  # TODO normalize pos\n",
    "    openfoam_var[\"y\"] -= placeholder  # TODO normalize pos\n",
    "    openfoam_invar_numpy = {\n",
    "        key: value for key, value in openfoam_var.items() if key in [\"x\", \"y\"]\n",
    "    }\n",
    "    openfoam_outvar_numpy = {\n",
    "        key: value for key, value in openfoam_var.items() if key in [\"u\", \"v\", \"p\"]\n",
    "    }\n",
    "    openfoam_validator = PointwiseValidator(\n",
    "        invar=placeholder, true_outvar=placeholder, nodes=nodes\n",
    "    )\n",
    "    domain.add_validator(openfoam_validator)\n",
    "```"
   ]
  },
  {
   "cell_type": "markdown",
   "metadata": {},
   "source": [
    "现在，通过创建求解器来解决问题，完成代码的最后一部分。配置文件中已为您定义好该问题的重要超参数。您可以随意调整这些超参数，并观察其对结果和收敛速度的影响。"
   ]
  },
  {
   "cell_type": "markdown",
   "metadata": {},
   "source": [
    "```python\n",
    "    # make solver\n",
    "    slv = Solver(cfg, domain)\n",
    "\n",
    "    # start solver\n",
    "    slv.solve()\n",
    "\n",
    "\n",
    "if __name__ == \"__main__\":\n",
    "    run()\n",
    "```"
   ]
  },
  {
   "cell_type": "markdown",
   "metadata": {},
   "source": [
    "完成模板脚本 ([`chip_2d_template.py`](../../source_code/chip_2d/chip_2d_template.py)) 中的所有代码部分后，您可以像我们在之前的教程中看到的那样执行它。记录相对于 OpenFOAM 解的相对 L2 误差，并尝试使所有变量的误差都低于 0.2。还可以尝试通过读取在网络检查点中创建的 `.npz` 文件，使用等值线图来可视化您的结果。"
   ]
  }
 ],
 "metadata": {
  "jupytext": {
   "formats": "ipynb"
  },
  "kernelspec": {
   "display_name": "Python 3 (ipykernel)",
   "language": "python",
   "name": "python3"
  },
  "language_info": {
   "codemirror_mode": {
    "name": "ipython",
    "version": 3
   },
   "file_extension": ".py",
   "mimetype": "text/x-python",
   "name": "python",
   "nbconvert_exporter": "python",
   "pygments_lexer": "ipython3",
   "version": "3.10.12"
  }
 },
 "nbformat": 4,
 "nbformat_minor": 4
}
