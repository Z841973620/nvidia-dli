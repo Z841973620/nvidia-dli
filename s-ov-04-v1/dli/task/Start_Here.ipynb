{
 "cells": [
  {
   "cell_type": "markdown",
   "metadata": {},
   "source": [
    "# 使用 Modulus 进行物理知情机器学习简介"
   ]
  },
  {
   "cell_type": "markdown",
   "metadata": {},
   "source": [
    "本课程旨在概述 Modulus 工具包，并了解如何在科学和高性能计算 (HPC) 模拟领域轻松使用它来设置物理和数据驱动问题。\n",
    "\n",
    "本课程将借助 NVIDIA 的 Modulus 工具包，向学员介绍物理信息神经网络 (PINN) 和傅里叶神经算子 (FNO) 系列。\n",
    "\n",
    "1. [入门笔记本](jupyter_notebook/introduction/Introductory_Notebook.ipynb)：在本笔记本中，我们将介绍使用物理信息神经网络求解偏微分方程 (PDE) 的理论。\n",
    "\n",
    "2. [Modulus 项目剖析](jupyter_notebook/introduction/Modulus_Anatomy.ipynb)：在本笔记本中，我们将介绍构建 Modulus 项目的结构和步骤。\n",
    "\n",
    "3. [参数化和逆问题](jupyter_notebook/introduction/Parameterized_Inverse.ipynb)：在本笔记本中，我们将重点介绍神经网络求解器相对于传统数值方法的一个关键优势，即能够求解参数化几何和逆问题。\n",
    "\n",
    "4. [使用 PINN 求解偏微分方程](jupyter_notebook/diffusion_1d/Diffusion_Problem_Notebook.ipynb)：本笔记本将深入讲解 Modulus API，并帮助您快速入门，使用神经网络求解您自己的偏微分方程。\n",
    "\n",
    "5. [使用 PINN 求解偏微分方程 - 参数化](jupyter_notebook/diffusion_1d/Diffusion_Problem_Parameterized.ipynb)：本笔记本将训练与上一篇笔记本相同的一维扩散问题，但这次使用了参数化方法。\n",
    "\n",
    "6. [求解瞬态问题](jupyter_notebook/spring_mass/Spring_Mass_Problem_Notebook.ipynb)：在本笔记本中，我们将了解如何通过将时间视为连续变量来轻松求解短时间间隔内的瞬态问题。\n",
    "\n",
    "7. [求解逆瞬态问题](jupyter_notebook/spring_mass/Spring_Mass_Inverse.ipynb)：在本笔记本中，我们将介绍如何求解逆问题，并继续上一篇笔记本中的弹簧质量问题。\n",
    "\n",
    "8. [使用傅里叶神经算子求解达西流](jupyter_notebook/Operators/FNO_Darcy.ipynb)：在本笔记本中，我们将了解如何使用 Modulus 中的傅里叶神经算子求解数据驱动问题。\n",
    "\n",
    "9. [二维芯片芯片上的流动](jupyter_notebook/chip_2d/Exercise_CFD_Problem_Notebook.ipynb)：本笔记本包含一个小练习，用于解决流体力学问题，其中涉及使用 PINN 方法求解纳维-斯托克斯方程。"
   ]
  },
  {
   "cell_type": "markdown",
   "metadata": {},
   "source": [
    "# 什么是 Modulus？\n",
    "\n",
    "NVIDIA Modulus 是一个神经网络框架，它将控制偏微分方程 (PDE) 形式的物理力量与数据相结合，构建具有近乎实时延迟的高保真、参数化代理模型。\n",
    "\n",
    "<img src=\"figures/modulus_solutions.png\" alt=\"Drawing\" style=\"width: 900px;\"/>"
   ]
  },
  {
   "cell_type": "markdown",
   "metadata": {},
   "source": [
    "### Modulus 的主要特点\n",
    "\n",
    "**AI 工具包**：\n",
    "提供用于开发物理机器学习替代模型的构建模块。\n",
    "\n",
    "**可扩展性能**：\n",
    "通过从单 GPU 扩展到多节点实现，更快地解决更大规模的问题。\n",
    "\n",
    "**近实时推理**：\n",
    "提供参数化的系统表示，可近实时地解决多种场景；离线训练一次即可重复进行实时推理。\n",
    "\n",
    "**易于采用**：\n",
    "包含 API，供领域专家在更高抽象层次上工作；可扩展到新的应用程序，并以参考应用程序为起点。"
   ]
  }
 ],
 "metadata": {
  "jupytext": {
   "formats": "ipynb"
  },
  "kernelspec": {
   "display_name": "Python 3 (ipykernel)",
   "language": "python",
   "name": "python3"
  },
  "language_info": {
   "codemirror_mode": {
    "name": "ipython",
    "version": 3
   },
   "file_extension": ".py",
   "mimetype": "text/x-python",
   "name": "python",
   "nbconvert_exporter": "python",
   "pygments_lexer": "ipython3",
   "version": "3.10.12"
  }
 },
 "nbformat": 4,
 "nbformat_minor": 4
}
